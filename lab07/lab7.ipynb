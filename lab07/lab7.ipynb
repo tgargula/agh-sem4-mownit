{
 "cells": [
  {
   "cell_type": "markdown",
   "metadata": {},
   "source": [
    "# MOwNiT \n",
    "## Laboratorium\n",
    "### Znajdowanie pierwiastków"
   ]
  },
  {
   "cell_type": "markdown",
   "metadata": {},
   "source": [
    "Do poszukiwania pierwiastków funkcji w Julii używamy pakietu Roots"
   ]
  },
  {
   "cell_type": "markdown",
   "metadata": {},
   "source": [
    "```julia\n",
    "Pkg.add(\"Roots\")\n",
    "Pkg.add(\"ForwardDiff\")\n",
    "```"
   ]
  },
  {
   "cell_type": "code",
   "execution_count": 1,
   "metadata": {},
   "outputs": [],
   "source": [
    "using Pkg\n",
    "#Pkg.add(\"Roots\")\n",
    "#Pkg.add(\"ForwardDiff\")\n",
    "using Roots  \n",
    "using Plots\n",
    "using ForwardDiff"
   ]
  },
  {
   "cell_type": "code",
   "execution_count": 2,
   "metadata": {},
   "outputs": [
    {
     "data": {
      "image/svg+xml": [
       "<?xml version=\"1.0\" encoding=\"utf-8\"?>\n",
       "<svg xmlns=\"http://www.w3.org/2000/svg\" xmlns:xlink=\"http://www.w3.org/1999/xlink\" width=\"600\" height=\"400\" viewBox=\"0 0 2400 1600\">\n",
       "<defs>\n",
       "  <clipPath id=\"clip260\">\n",
       "    <rect x=\"0\" y=\"0\" width=\"2400\" height=\"1600\"/>\n",
       "  </clipPath>\n",
       "</defs>\n",
       "<path clip-path=\"url(#clip260)\" d=\"\n",
       "M0 1600 L2400 1600 L2400 0 L0 0  Z\n",
       "  \" fill=\"#ffffff\" fill-rule=\"evenodd\" fill-opacity=\"1\"/>\n",
       "<defs>\n",
       "  <clipPath id=\"clip261\">\n",
       "    <rect x=\"480\" y=\"0\" width=\"1681\" height=\"1600\"/>\n",
       "  </clipPath>\n",
       "</defs>\n",
       "<path clip-path=\"url(#clip260)\" d=\"\n",
       "M142.455 1486.45 L2352.76 1486.45 L2352.76 47.2441 L142.455 47.2441  Z\n",
       "  \" fill=\"#ffffff\" fill-rule=\"evenodd\" fill-opacity=\"1\"/>\n",
       "<defs>\n",
       "  <clipPath id=\"clip262\">\n",
       "    <rect x=\"142\" y=\"47\" width=\"2211\" height=\"1440\"/>\n",
       "  </clipPath>\n",
       "</defs>\n",
       "<polyline clip-path=\"url(#clip262)\" style=\"stroke:#000000; stroke-width:2; stroke-opacity:0.1; fill:none\" points=\"\n",
       "  205.01,1486.45 205.01,47.2441 \n",
       "  \"/>\n",
       "<polyline clip-path=\"url(#clip262)\" style=\"stroke:#000000; stroke-width:2; stroke-opacity:0.1; fill:none\" points=\"\n",
       "  726.308,1486.45 726.308,47.2441 \n",
       "  \"/>\n",
       "<polyline clip-path=\"url(#clip262)\" style=\"stroke:#000000; stroke-width:2; stroke-opacity:0.1; fill:none\" points=\"\n",
       "  1247.61,1486.45 1247.61,47.2441 \n",
       "  \"/>\n",
       "<polyline clip-path=\"url(#clip262)\" style=\"stroke:#000000; stroke-width:2; stroke-opacity:0.1; fill:none\" points=\"\n",
       "  1768.9,1486.45 1768.9,47.2441 \n",
       "  \"/>\n",
       "<polyline clip-path=\"url(#clip262)\" style=\"stroke:#000000; stroke-width:2; stroke-opacity:0.1; fill:none\" points=\"\n",
       "  2290.2,1486.45 2290.2,47.2441 \n",
       "  \"/>\n",
       "<polyline clip-path=\"url(#clip260)\" style=\"stroke:#000000; stroke-width:4; stroke-opacity:1; fill:none\" points=\"\n",
       "  142.455,1486.45 2352.76,1486.45 \n",
       "  \"/>\n",
       "<polyline clip-path=\"url(#clip260)\" style=\"stroke:#000000; stroke-width:4; stroke-opacity:1; fill:none\" points=\"\n",
       "  205.01,1486.45 205.01,1469.18 \n",
       "  \"/>\n",
       "<polyline clip-path=\"url(#clip260)\" style=\"stroke:#000000; stroke-width:4; stroke-opacity:1; fill:none\" points=\"\n",
       "  726.308,1486.45 726.308,1469.18 \n",
       "  \"/>\n",
       "<polyline clip-path=\"url(#clip260)\" style=\"stroke:#000000; stroke-width:4; stroke-opacity:1; fill:none\" points=\"\n",
       "  1247.61,1486.45 1247.61,1469.18 \n",
       "  \"/>\n",
       "<polyline clip-path=\"url(#clip260)\" style=\"stroke:#000000; stroke-width:4; stroke-opacity:1; fill:none\" points=\"\n",
       "  1768.9,1486.45 1768.9,1469.18 \n",
       "  \"/>\n",
       "<polyline clip-path=\"url(#clip260)\" style=\"stroke:#000000; stroke-width:4; stroke-opacity:1; fill:none\" points=\"\n",
       "  2290.2,1486.45 2290.2,1469.18 \n",
       "  \"/>\n",
       "<path clip-path=\"url(#clip260)\" d=\"M 0 0 M177.464 1530.29 L207.14 1530.29 L207.14 1534.23 L177.464 1534.23 L177.464 1530.29 Z\" fill=\"#000000\" fill-rule=\"evenodd\" fill-opacity=\"1\" /><path clip-path=\"url(#clip260)\" d=\"M 0 0 M216.237 1543.18 L232.557 1543.18 L232.557 1547.12 L210.612 1547.12 L210.612 1543.18 Q213.274 1540.43 217.858 1535.8 Q222.464 1531.15 223.645 1529.81 Q225.89 1527.28 226.77 1525.55 Q227.672 1523.79 227.672 1522.1 Q227.672 1519.34 225.728 1517.61 Q223.807 1515.87 220.705 1515.87 Q218.506 1515.87 216.052 1516.63 Q213.622 1517.4 210.844 1518.95 L210.844 1514.23 Q213.668 1513.09 216.122 1512.51 Q218.575 1511.93 220.612 1511.93 Q225.983 1511.93 229.177 1514.62 Q232.371 1517.31 232.371 1521.8 Q232.371 1523.93 231.561 1525.85 Q230.774 1527.74 228.668 1530.34 Q228.089 1531.01 224.987 1534.23 Q221.885 1537.42 216.237 1543.18 Z\" fill=\"#000000\" fill-rule=\"evenodd\" fill-opacity=\"1\" /><path clip-path=\"url(#clip260)\" d=\"M 0 0 M698.577 1530.29 L728.252 1530.29 L728.252 1534.23 L698.577 1534.23 L698.577 1530.29 Z\" fill=\"#000000\" fill-rule=\"evenodd\" fill-opacity=\"1\" /><path clip-path=\"url(#clip260)\" d=\"M 0 0 M734.132 1543.18 L741.771 1543.18 L741.771 1516.82 L733.461 1518.49 L733.461 1514.23 L741.725 1512.56 L746.4 1512.56 L746.4 1543.18 L754.039 1543.18 L754.039 1547.12 L734.132 1547.12 L734.132 1543.18 Z\" fill=\"#000000\" fill-rule=\"evenodd\" fill-opacity=\"1\" /><path clip-path=\"url(#clip260)\" d=\"M 0 0 M1247.61 1515.64 Q1243.99 1515.64 1242.17 1519.2 Q1240.36 1522.75 1240.36 1529.87 Q1240.36 1536.98 1242.17 1540.55 Q1243.99 1544.09 1247.61 1544.09 Q1251.24 1544.09 1253.05 1540.55 Q1254.87 1536.98 1254.87 1529.87 Q1254.87 1522.75 1253.05 1519.2 Q1251.24 1515.64 1247.61 1515.64 M1247.61 1511.93 Q1253.42 1511.93 1256.47 1516.54 Q1259.55 1521.12 1259.55 1529.87 Q1259.55 1538.6 1256.47 1543.21 Q1253.42 1547.79 1247.61 1547.79 Q1241.8 1547.79 1238.72 1543.21 Q1235.66 1538.6 1235.66 1529.87 Q1235.66 1521.12 1238.72 1516.54 Q1241.8 1511.93 1247.61 1511.93 Z\" fill=\"#000000\" fill-rule=\"evenodd\" fill-opacity=\"1\" /><path clip-path=\"url(#clip260)\" d=\"M 0 0 M1759.28 1543.18 L1766.92 1543.18 L1766.92 1516.82 L1758.61 1518.49 L1758.61 1514.23 L1766.88 1512.56 L1771.55 1512.56 L1771.55 1543.18 L1779.19 1543.18 L1779.19 1547.12 L1759.28 1547.12 L1759.28 1543.18 Z\" fill=\"#000000\" fill-rule=\"evenodd\" fill-opacity=\"1\" /><path clip-path=\"url(#clip260)\" d=\"M 0 0 M2284.85 1543.18 L2301.17 1543.18 L2301.17 1547.12 L2279.23 1547.12 L2279.23 1543.18 Q2281.89 1540.43 2286.47 1535.8 Q2291.08 1531.15 2292.26 1529.81 Q2294.51 1527.28 2295.39 1525.55 Q2296.29 1523.79 2296.29 1522.1 Q2296.29 1519.34 2294.34 1517.61 Q2292.42 1515.87 2289.32 1515.87 Q2287.12 1515.87 2284.67 1516.63 Q2282.24 1517.4 2279.46 1518.95 L2279.46 1514.23 Q2282.28 1513.09 2284.74 1512.51 Q2287.19 1511.93 2289.23 1511.93 Q2294.6 1511.93 2297.79 1514.62 Q2300.99 1517.31 2300.99 1521.8 Q2300.99 1523.93 2300.18 1525.85 Q2299.39 1527.74 2297.28 1530.34 Q2296.7 1531.01 2293.6 1534.23 Q2290.5 1537.42 2284.85 1543.18 Z\" fill=\"#000000\" fill-rule=\"evenodd\" fill-opacity=\"1\" /><polyline clip-path=\"url(#clip262)\" style=\"stroke:#000000; stroke-width:2; stroke-opacity:0.1; fill:none\" points=\"\n",
       "  142.455,1304.46 2352.76,1304.46 \n",
       "  \"/>\n",
       "<polyline clip-path=\"url(#clip262)\" style=\"stroke:#000000; stroke-width:2; stroke-opacity:0.1; fill:none\" points=\"\n",
       "  142.455,965.026 2352.76,965.026 \n",
       "  \"/>\n",
       "<polyline clip-path=\"url(#clip262)\" style=\"stroke:#000000; stroke-width:2; stroke-opacity:0.1; fill:none\" points=\"\n",
       "  142.455,625.591 2352.76,625.591 \n",
       "  \"/>\n",
       "<polyline clip-path=\"url(#clip262)\" style=\"stroke:#000000; stroke-width:2; stroke-opacity:0.1; fill:none\" points=\"\n",
       "  142.455,286.156 2352.76,286.156 \n",
       "  \"/>\n",
       "<polyline clip-path=\"url(#clip260)\" style=\"stroke:#000000; stroke-width:4; stroke-opacity:1; fill:none\" points=\"\n",
       "  142.455,1486.45 142.455,47.2441 \n",
       "  \"/>\n",
       "<polyline clip-path=\"url(#clip260)\" style=\"stroke:#000000; stroke-width:4; stroke-opacity:1; fill:none\" points=\"\n",
       "  142.455,1304.46 168.978,1304.46 \n",
       "  \"/>\n",
       "<polyline clip-path=\"url(#clip260)\" style=\"stroke:#000000; stroke-width:4; stroke-opacity:1; fill:none\" points=\"\n",
       "  142.455,965.026 168.978,965.026 \n",
       "  \"/>\n",
       "<polyline clip-path=\"url(#clip260)\" style=\"stroke:#000000; stroke-width:4; stroke-opacity:1; fill:none\" points=\"\n",
       "  142.455,625.591 168.978,625.591 \n",
       "  \"/>\n",
       "<polyline clip-path=\"url(#clip260)\" style=\"stroke:#000000; stroke-width:4; stroke-opacity:1; fill:none\" points=\"\n",
       "  142.455,286.156 168.978,286.156 \n",
       "  \"/>\n",
       "<path clip-path=\"url(#clip260)\" d=\"M 0 0 M51.3625 1304.91 L81.0383 1304.91 L81.0383 1308.85 L51.3625 1308.85 L51.3625 1304.91 Z\" fill=\"#000000\" fill-rule=\"evenodd\" fill-opacity=\"1\" /><path clip-path=\"url(#clip260)\" d=\"M 0 0 M90.1354 1317.81 L106.455 1317.81 L106.455 1321.74 L84.5105 1321.74 L84.5105 1317.81 Q87.1725 1315.05 91.7558 1310.42 Q96.3623 1305.77 97.5428 1304.43 Q99.7882 1301.9 100.668 1300.17 Q101.571 1298.41 101.571 1296.72 Q101.571 1293.96 99.6261 1292.23 Q97.7048 1290.49 94.603 1290.49 Q92.4039 1290.49 89.9503 1291.26 Q87.5197 1292.02 84.7419 1293.57 L84.7419 1288.85 Q87.566 1287.71 90.0197 1287.13 Q92.4734 1286.56 94.5104 1286.56 Q99.8808 1286.56 103.075 1289.24 Q106.27 1291.93 106.27 1296.42 Q106.27 1298.55 105.459 1300.47 Q104.672 1302.37 102.566 1304.96 Q101.987 1305.63 98.8854 1308.85 Q95.7836 1312.04 90.1354 1317.81 Z\" fill=\"#000000\" fill-rule=\"evenodd\" fill-opacity=\"1\" /><path clip-path=\"url(#clip260)\" d=\"M 0 0 M50.9921 965.477 L80.6679 965.477 L80.6679 969.413 L50.9921 969.413 L50.9921 965.477 Z\" fill=\"#000000\" fill-rule=\"evenodd\" fill-opacity=\"1\" /><path clip-path=\"url(#clip260)\" d=\"M 0 0 M86.5475 978.371 L94.1863 978.371 L94.1863 952.005 L85.8762 953.672 L85.8762 949.413 L94.14 947.746 L98.8159 947.746 L98.8159 978.371 L106.455 978.371 L106.455 982.306 L86.5475 982.306 L86.5475 978.371 Z\" fill=\"#000000\" fill-rule=\"evenodd\" fill-opacity=\"1\" /><path clip-path=\"url(#clip260)\" d=\"M 0 0 M94.5104 611.39 Q90.8993 611.39 89.0706 614.955 Q87.2651 618.496 87.2651 625.626 Q87.2651 632.732 89.0706 636.297 Q90.8993 639.839 94.5104 639.839 Q98.1447 639.839 99.9502 636.297 Q101.779 632.732 101.779 625.626 Q101.779 618.496 99.9502 614.955 Q98.1447 611.39 94.5104 611.39 M94.5104 607.686 Q100.321 607.686 103.376 612.293 Q106.455 616.876 106.455 625.626 Q106.455 634.353 103.376 638.959 Q100.321 643.543 94.5104 643.543 Q88.7003 643.543 85.6216 638.959 Q82.566 634.353 82.566 625.626 Q82.566 616.876 85.6216 612.293 Q88.7003 607.686 94.5104 607.686 Z\" fill=\"#000000\" fill-rule=\"evenodd\" fill-opacity=\"1\" /><path clip-path=\"url(#clip260)\" d=\"M 0 0 M86.5475 299.501 L94.1863 299.501 L94.1863 273.136 L85.8762 274.802 L85.8762 270.543 L94.14 268.876 L98.8159 268.876 L98.8159 299.501 L106.455 299.501 L106.455 303.436 L86.5475 303.436 L86.5475 299.501 Z\" fill=\"#000000\" fill-rule=\"evenodd\" fill-opacity=\"1\" /><polyline clip-path=\"url(#clip262)\" style=\"stroke:#009af9; stroke-width:4; stroke-opacity:1; fill:none\" points=\"\n",
       "  205.01,87.9763 225.374,89.0742 413.665,92.4069 526.82,92.7842 622.491,95.2922 726.416,102.77 822.226,116.052 924.945,139.032 1043.95,179.126 1149.72,228.384 \n",
       "  1242.46,282.822 1343.58,354.381 1445.29,438.992 1557.75,546.426 1664.75,660.777 1776.01,790.171 1869.67,905.524 1984.01,1051.63 2091.5,1191.38 2263.7,1412.59 \n",
       "  2290.2,1445.72 \n",
       "  \"/>\n",
       "<path clip-path=\"url(#clip260)\" d=\"\n",
       "M1982.47 216.178 L2279.08 216.178 L2279.08 95.2176 L1982.47 95.2176  Z\n",
       "  \" fill=\"#ffffff\" fill-rule=\"evenodd\" fill-opacity=\"1\"/>\n",
       "<polyline clip-path=\"url(#clip260)\" style=\"stroke:#000000; stroke-width:4; stroke-opacity:1; fill:none\" points=\"\n",
       "  1982.47,216.178 2279.08,216.178 2279.08,95.2176 1982.47,95.2176 1982.47,216.178 \n",
       "  \"/>\n",
       "<polyline clip-path=\"url(#clip260)\" style=\"stroke:#009af9; stroke-width:4; stroke-opacity:1; fill:none\" points=\"\n",
       "  2007.03,155.698 2154.38,155.698 \n",
       "  \"/>\n",
       "<path clip-path=\"url(#clip260)\" d=\"M 0 0 M2192.79 175.385 Q2190.98 180.015 2189.27 181.427 Q2187.55 182.839 2184.68 182.839 L2181.28 182.839 L2181.28 179.274 L2183.78 179.274 Q2185.54 179.274 2186.51 178.44 Q2187.48 177.607 2188.67 174.505 L2189.43 172.561 L2178.94 147.052 L2183.46 147.052 L2191.56 167.329 L2199.66 147.052 L2204.17 147.052 L2192.79 175.385 Z\" fill=\"#000000\" fill-rule=\"evenodd\" fill-opacity=\"1\" /><path clip-path=\"url(#clip260)\" d=\"M 0 0 M2210.05 169.042 L2217.69 169.042 L2217.69 142.677 L2209.38 144.343 L2209.38 140.084 L2217.65 138.418 L2222.32 138.418 L2222.32 169.042 L2229.96 169.042 L2229.96 172.978 L2210.05 172.978 L2210.05 169.042 Z\" fill=\"#000000\" fill-rule=\"evenodd\" fill-opacity=\"1\" /></svg>\n"
      ]
     },
     "execution_count": 2,
     "metadata": {},
     "output_type": "execute_result"
    }
   ],
   "source": [
    "# przykładowa funkcja do testów\n",
    "f(x) = cos(x) - x\n",
    "plot(f, -2, 2)"
   ]
  },
  {
   "cell_type": "markdown",
   "metadata": {},
   "source": [
    "Funkcja <i> find_zero</i>  dobiera odpowiedni algorytm w zależności od sposobu wywołania.\n"
   ]
  },
  {
   "cell_type": "markdown",
   "metadata": {},
   "source": [
    "### 1. Metody wykorzytujące  przedział i zmianę znaku"
   ]
  },
  {
   "cell_type": "markdown",
   "metadata": {},
   "source": [
    "#### 1.1 Metoda bisekcji - jesli wywołamy fzero z podaniem  przedziału (tutaj (0,1))"
   ]
  },
  {
   "cell_type": "code",
   "execution_count": 3,
   "metadata": {},
   "outputs": [
    {
     "name": "stdout",
     "output_type": "stream",
     "text": [
      "Results of univariate zero finding:\n",
      "\n",
      "* Converged to: 0.7390851332151609\n",
      "* Algorithm: Roots.BisectionExact()\n",
      "* iterations: 60\n",
      "* function evaluations: 62\n",
      "* stopped as x_n ≈ x_{n-1} using atol=xatol, rtol=xrtol\n",
      "* stopped as |f(x_n)| ≤ max(δ, max(1,|x|)⋅ϵ) using δ = atol, ϵ = rtol\n",
      "\n",
      "Trace:\n",
      "(a_0, b_0) = ( 0.0000000000000000,  1.0000000000000000)\n",
      "(a_1, b_1) = ( 0.0000000000000000,  1.0000000000000000)\n",
      "(a_2, b_2) = ( 0.0000000000000000,  1.0000000000000000)\n",
      "(a_3, b_3) = ( 0.0000000000000000,  1.0000000000000000)\n",
      "(a_4, b_4) = ( 0.0000000000000000,  1.0000000000000000)\n",
      "(a_5, b_5) = ( 0.0000000002401066,  1.0000000000000000)\n",
      "(a_6, b_6) = ( 0.0000154972076416,  1.0000000000000000)\n",
      "(a_7, b_7) = ( 0.0039367675781250,  1.0000000000000000)\n",
      "(a_8, b_8) = ( 0.0627441406250000,  1.0000000000000000)\n",
      "(a_9, b_9) = ( 0.2504882812500000,  1.0000000000000000)\n",
      "(a_10, b_10) = ( 0.5004882812500000,  1.0000000000000000)\n",
      "(a_11, b_11) = ( 0.5004882812500000,  0.7502441406250000)\n",
      "(a_12, b_12) = ( 0.6253662109375000,  0.7502441406250000)\n",
      "(a_13, b_13) = ( 0.6878051757812500,  0.7502441406250000)\n",
      "(a_14, b_14) = ( 0.7190246582031250,  0.7502441406250000)\n",
      "(a_15, b_15) = ( 0.7346343994140625,  0.7502441406250000)\n",
      "(a_16, b_16) = ( 0.7346343994140625,  0.7424392700195313)\n",
      "(a_17, b_17) = ( 0.7385368347167969,  0.7424392700195313)\n",
      "(a_18, b_18) = ( 0.7385368347167969,  0.7404880523681641)\n",
      "(a_19, b_19) = ( 0.7385368347167969,  0.7395124435424805)\n",
      "(a_20, b_20) = ( 0.7390246391296387,  0.7395124435424805)\n",
      "(a_21, b_21) = ( 0.7390246391296387,  0.7392685413360596)\n",
      "(a_22, b_22) = ( 0.7390246391296387,  0.7391465902328491)\n",
      "(a_23, b_23) = ( 0.7390246391296387,  0.7390856146812439)\n",
      "(a_24, b_24) = ( 0.7390551269054413,  0.7390856146812439)\n",
      "(a_25, b_25) = ( 0.7390703707933426,  0.7390856146812439)\n",
      "(a_26, b_26) = ( 0.7390779927372932,  0.7390856146812439)\n",
      "(a_27, b_27) = ( 0.7390818037092686,  0.7390856146812439)\n",
      "(a_28, b_28) = ( 0.7390837091952562,  0.7390856146812439)\n",
      "(a_29, b_29) = ( 0.7390846619382501,  0.7390856146812439)\n",
      "(a_30, b_30) = ( 0.7390846619382501,  0.7390851383097470)\n",
      "(a_31, b_31) = ( 0.7390849001239985,  0.7390851383097470)\n",
      "(a_32, b_32) = ( 0.7390850192168728,  0.7390851383097470)\n",
      "(a_33, b_33) = ( 0.7390850787633099,  0.7390851383097470)\n",
      "(a_34, b_34) = ( 0.7390851085365284,  0.7390851383097470)\n",
      "(a_35, b_35) = ( 0.7390851234231377,  0.7390851383097470)\n",
      "(a_36, b_36) = ( 0.7390851308664423,  0.7390851383097470)\n",
      "(a_37, b_37) = ( 0.7390851308664423,  0.7390851345880947)\n",
      "(a_38, b_38) = ( 0.7390851327272685,  0.7390851345880947)\n",
      "(a_39, b_39) = ( 0.7390851327272685,  0.7390851336576816)\n",
      "(a_40, b_40) = ( 0.7390851331924750,  0.7390851336576816)\n",
      "(a_41, b_41) = ( 0.7390851331924750,  0.7390851334250783)\n",
      "(a_42, b_42) = ( 0.7390851331924750,  0.7390851333087767)\n",
      "(a_43, b_43) = ( 0.7390851331924750,  0.7390851332506259)\n",
      "(a_44, b_44) = ( 0.7390851331924750,  0.7390851332215504)\n",
      "(a_45, b_45) = ( 0.7390851332070127,  0.7390851332215504)\n",
      "(a_46, b_46) = ( 0.7390851332142816,  0.7390851332215504)\n",
      "(a_47, b_47) = ( 0.7390851332142816,  0.7390851332179160)\n",
      "(a_48, b_48) = ( 0.7390851332142816,  0.7390851332160988)\n",
      "(a_49, b_49) = ( 0.7390851332142816,  0.7390851332151902)\n",
      "(a_50, b_50) = ( 0.7390851332147359,  0.7390851332151902)\n",
      "(a_51, b_51) = ( 0.7390851332149631,  0.7390851332151902)\n",
      "(a_52, b_52) = ( 0.7390851332150766,  0.7390851332151902)\n",
      "(a_53, b_53) = ( 0.7390851332151334,  0.7390851332151902)\n",
      "(a_54, b_54) = ( 0.7390851332151334,  0.7390851332151618)\n",
      "(a_55, b_55) = ( 0.7390851332151476,  0.7390851332151618)\n",
      "(a_56, b_56) = ( 0.7390851332151547,  0.7390851332151618)\n",
      "(a_57, b_57) = ( 0.7390851332151582,  0.7390851332151618)\n",
      "(a_58, b_58) = ( 0.7390851332151600,  0.7390851332151618)\n",
      "(a_59, b_59) = ( 0.7390851332151600,  0.7390851332151609)\n",
      "(a_60, b_60) = ( 0.7390851332151605,  0.7390851332151609)\n",
      "\n"
     ]
    },
    {
     "data": {
      "text/plain": [
       "0.7390851332151607"
      ]
     },
     "execution_count": 3,
     "metadata": {},
     "output_type": "execute_result"
    }
   ],
   "source": [
    "x = find_zero(f, (0, 1),verbose=true)  "
   ]
  },
  {
   "cell_type": "code",
   "execution_count": 4,
   "metadata": {},
   "outputs": [
    {
     "name": "stdout",
     "output_type": "stream",
     "text": [
      "Results of univariate zero finding:\n",
      "\n",
      "* Converged to: 0.7390851332151609\n",
      "* Algorithm: Roots.BisectionExact()\n",
      "* iterations: 60\n",
      "* function evaluations: 62\n",
      "* stopped as x_n ≈ x_{n-1} using atol=xatol, rtol=xrtol\n",
      "* stopped as |f(x_n)| ≤ max(δ, max(1,|x|)⋅ϵ) using δ = atol, ϵ = rtol\n",
      "\n",
      "Trace:\n",
      "(a_0, b_0) = ( 0.0000000000000000,  1.0000000000000000)\n",
      "(a_1, b_1) = ( 0.0000000000000000,  1.0000000000000000)\n",
      "(a_2, b_2) = ( 0.0000000000000000,  1.0000000000000000)\n",
      "(a_3, b_3) = ( 0.0000000000000000,  1.0000000000000000)\n",
      "(a_4, b_4) = ( 0.0000000000000000,  1.0000000000000000)\n",
      "(a_5, b_5) = ( 0.0000000002401066,  1.0000000000000000)\n",
      "(a_6, b_6) = ( 0.0000154972076416,  1.0000000000000000)\n",
      "(a_7, b_7) = ( 0.0039367675781250,  1.0000000000000000)\n",
      "(a_8, b_8) = ( 0.0627441406250000,  1.0000000000000000)\n",
      "(a_9, b_9) = ( 0.2504882812500000,  1.0000000000000000)\n",
      "(a_10, b_10) = ( 0.5004882812500000,  1.0000000000000000)\n",
      "(a_11, b_11) = ( 0.5004882812500000,  0.7502441406250000)\n",
      "(a_12, b_12) = ( 0.6253662109375000,  0.7502441406250000)\n",
      "(a_13, b_13) = ( 0.6878051757812500,  0.7502441406250000)\n",
      "(a_14, b_14) = ( 0.7190246582031250,  0.7502441406250000)\n",
      "(a_15, b_15) = ( 0.7346343994140625,  0.7502441406250000)\n",
      "(a_16, b_16) = ( 0.7346343994140625,  0.7424392700195313)\n",
      "(a_17, b_17) = ( 0.7385368347167969,  0.7424392700195313)\n",
      "(a_18, b_18) = ( 0.7385368347167969,  0.7404880523681641)\n",
      "(a_19, b_19) = ( 0.7385368347167969,  0.7395124435424805)\n",
      "(a_20, b_20) = ( 0.7390246391296387,  0.7395124435424805)\n",
      "(a_21, b_21) = ( 0.7390246391296387,  0.7392685413360596)\n",
      "(a_22, b_22) = ( 0.7390246391296387,  0.7391465902328491)\n",
      "(a_23, b_23) = ( 0.7390246391296387,  0.7390856146812439)\n",
      "(a_24, b_24) = ( 0.7390551269054413,  0.7390856146812439)\n",
      "(a_25, b_25) = ( 0.7390703707933426,  0.7390856146812439)\n",
      "(a_26, b_26) = ( 0.7390779927372932,  0.7390856146812439)\n",
      "(a_27, b_27) = ( 0.7390818037092686,  0.7390856146812439)\n",
      "(a_28, b_28) = ( 0.7390837091952562,  0.7390856146812439)\n",
      "(a_29, b_29) = ( 0.7390846619382501,  0.7390856146812439)\n",
      "(a_30, b_30) = ( 0.7390846619382501,  0.7390851383097470)\n",
      "(a_31, b_31) = ( 0.7390849001239985,  0.7390851383097470)\n",
      "(a_32, b_32) = ( 0.7390850192168728,  0.7390851383097470)\n",
      "(a_33, b_33) = ( 0.7390850787633099,  0.7390851383097470)\n",
      "(a_34, b_34) = ( 0.7390851085365284,  0.7390851383097470)\n",
      "(a_35, b_35) = ( 0.7390851234231377,  0.7390851383097470)\n",
      "(a_36, b_36) = ( 0.7390851308664423,  0.7390851383097470)\n",
      "(a_37, b_37) = ( 0.7390851308664423,  0.7390851345880947)\n",
      "(a_38, b_38) = ( 0.7390851327272685,  0.7390851345880947)\n",
      "(a_39, b_39) = ( 0.7390851327272685,  0.7390851336576816)\n",
      "(a_40, b_40) = ( 0.7390851331924750,  0.7390851336576816)\n",
      "(a_41, b_41) = ( 0.7390851331924750,  0.7390851334250783)\n",
      "(a_42, b_42) = ( 0.7390851331924750,  0.7390851333087767)\n",
      "(a_43, b_43) = ( 0.7390851331924750,  0.7390851332506259)\n",
      "(a_44, b_44) = ( 0.7390851331924750,  0.7390851332215504)\n",
      "(a_45, b_45) = ( 0.7390851332070127,  0.7390851332215504)\n",
      "(a_46, b_46) = ( 0.7390851332142816,  0.7390851332215504)\n",
      "(a_47, b_47) = ( 0.7390851332142816,  0.7390851332179160)\n",
      "(a_48, b_48) = ( 0.7390851332142816,  0.7390851332160988)\n",
      "(a_49, b_49) = ( 0.7390851332142816,  0.7390851332151902)\n",
      "(a_50, b_50) = ( 0.7390851332147359,  0.7390851332151902)\n",
      "(a_51, b_51) = ( 0.7390851332149631,  0.7390851332151902)\n",
      "(a_52, b_52) = ( 0.7390851332150766,  0.7390851332151902)\n",
      "(a_53, b_53) = ( 0.7390851332151334,  0.7390851332151902)\n",
      "(a_54, b_54) = ( 0.7390851332151334,  0.7390851332151618)\n",
      "(a_55, b_55) = ( 0.7390851332151476,  0.7390851332151618)\n",
      "(a_56, b_56) = ( 0.7390851332151547,  0.7390851332151618)\n",
      "(a_57, b_57) = ( 0.7390851332151582,  0.7390851332151618)\n",
      "(a_58, b_58) = ( 0.7390851332151600,  0.7390851332151618)\n",
      "(a_59, b_59) = ( 0.7390851332151600,  0.7390851332151609)\n",
      "(a_60, b_60) = ( 0.7390851332151605,  0.7390851332151609)\n"
     ]
    },
    {
     "data": {
      "text/plain": [
       "0.7390851332151607"
      ]
     },
     "execution_count": 4,
     "metadata": {},
     "output_type": "execute_result"
    },
    {
     "name": "stdout",
     "output_type": "stream",
     "text": [
      "\n"
     ]
    }
   ],
   "source": [
    "# mozna wyspecyfikowac wprost\n",
    "x = find_zero(f, (0, 1), Bisection(),verbose=true)  "
   ]
  },
  {
   "cell_type": "markdown",
   "metadata": {},
   "source": [
    "#### Sprawdzanie, czy znaleźliśmy 0"
   ]
  },
  {
   "cell_type": "code",
   "execution_count": 5,
   "metadata": {},
   "outputs": [
    {
     "data": {
      "text/plain": [
       "true"
      ]
     },
     "execution_count": 5,
     "metadata": {},
     "output_type": "execute_result"
    }
   ],
   "source": [
    "#Sprawdzamy czy znaleźliśmy 0\n",
    "iszero(f(x))"
   ]
  },
  {
   "cell_type": "code",
   "execution_count": 6,
   "metadata": {},
   "outputs": [
    {
     "data": {
      "text/plain": [
       "-1.0"
      ]
     },
     "execution_count": 6,
     "metadata": {},
     "output_type": "execute_result"
    }
   ],
   "source": [
    "# można też sprawdzić, czy funkcja zmienia znak dla lewego i prawego sąsiada miejsca zerowego.\n",
    "sign(f(prevfloat(x))) *sign(f(nextfloat(x))) "
   ]
  },
  {
   "cell_type": "code",
   "execution_count": 7,
   "metadata": {},
   "outputs": [
    {
     "data": {
      "text/plain": [
       "(3.1415926535897936, -3.216245299353273e-16)"
      ]
     },
     "execution_count": 7,
     "metadata": {},
     "output_type": "execute_result"
    }
   ],
   "source": [
    "# czasem algorytm znajduje najlepsze przybliżenie 0\n",
    "g(x) = sin(x)\n",
    "x = find_zero(g, (pi/2, 3pi/2))\n",
    "x, g(x)"
   ]
  },
  {
   "cell_type": "code",
   "execution_count": 8,
   "metadata": {},
   "outputs": [
    {
     "data": {
      "text/plain": [
       "false"
      ]
     },
     "execution_count": 8,
     "metadata": {},
     "output_type": "execute_result"
    }
   ],
   "source": [
    "# nie jest to dokładnie 0, ale ...\n",
    "iszero(g(x))"
   ]
  },
  {
   "cell_type": "code",
   "execution_count": 9,
   "metadata": {},
   "outputs": [
    {
     "data": {
      "text/plain": [
       "true"
      ]
     },
     "execution_count": 9,
     "metadata": {},
     "output_type": "execute_result"
    }
   ],
   "source": [
    "#... najbliższy lewy albo prawy sąsiad leży po przeciwnej stronie osi x  niż nasze 0.\n",
    "g(prevfloat(x)) * g(x) < 0.0 || g(x) * g(nextfloat(x)) < 0.0"
   ]
  },
  {
   "cell_type": "markdown",
   "metadata": {},
   "source": [
    "#### 1.2 Metoda regula falsi"
   ]
  },
  {
   "cell_type": "code",
   "execution_count": 10,
   "metadata": {},
   "outputs": [
    {
     "name": "stdout",
     "output_type": "stream",
     "text": [
      "Results of univariate zero finding:\n",
      "\n",
      "* Converged to: 0.7390851332151607\n",
      "* Algorithm: FalsePosition{:anderson_bjork}()\n",
      "* iterations: 6\n",
      "* function evaluations: 8\n",
      "* stopped as |f(x_n)| ≤ max(δ, max(1,|x|)⋅ϵ) using δ = atol, ϵ = rtol\n",
      "\n",
      "Trace:\n",
      "(a_0, b_0) = ( 0.0000000000000000,  1.0000000000000000)\n",
      "(a_1, b_1) = ( 1.0000000000000000,  0.6850733573260451)\n",
      "(a_2, b_2) = ( 1.0000000000000000,  0.7362989976136540)\n",
      "(a_3, b_3) = ( 0.7362989976136540,  0.7390895164441823)\n",
      "(a_4, b_4) = ( 0.7390895164441823,  0.7390851305146882)\n",
      "(a_5, b_5) = ( 0.7390895164441823,  0.7390851332151580)\n",
      "(a_6, b_6) = ( 0.7390895164441823,  0.7390851332151607)\n",
      "\n"
     ]
    },
    {
     "data": {
      "text/plain": [
       "0.7390851332151607"
      ]
     },
     "execution_count": 10,
     "metadata": {},
     "output_type": "execute_result"
    }
   ],
   "source": [
    "find_zero(f, (0, 1), FalsePosition(), verbose=true) "
   ]
  },
  {
   "cell_type": "code",
   "execution_count": 11,
   "metadata": {},
   "outputs": [
    {
     "name": "stdout",
     "output_type": "stream",
     "text": [
      "Results of univariate zero finding:\n",
      "\n",
      "* Converged to: 0.7390851332151607\n",
      "* Algorithm: FalsePosition{12}()\n",
      "* iterations: 6\n",
      "* function evaluations: 8\n",
      "* stopped as |f(x_n)| ≤ max(δ, max(1,|x|)⋅ϵ) using δ = atol, ϵ = rtol\n",
      "\n",
      "Trace:\n",
      "(a_0, b_0) = ( 0.0000000000000000,  1.0000000000000000)\n",
      "(a_1, b_1) = ( 1.0000000000000000,  0.6850733573260451)\n",
      "(a_2, b_2) = ( 1.0000000000000000,  0.7362989976136540)\n",
      "(a_3, b_3) = ( 0.7362989976136540,  0.7390895164441823)\n",
      "(a_4, b_4) = ( 0.7390895164441823,  0.7390851305146882)\n",
      "(a_5, b_5) = ( 0.7390895164441823,  0.7390851332151580)\n",
      "(a_6, b_6) = ( 0.7390895164441823,  0.7390851332151607)\n",
      "\n"
     ]
    },
    {
     "data": {
      "text/plain": [
       "0.7390851332151607"
      ]
     },
     "execution_count": 11,
     "metadata": {},
     "output_type": "execute_result"
    }
   ],
   "source": [
    "# do dyspozycji mamy  12 wersji algorytmu regula falsi\n",
    "find_zero(f, (0, 1), FalsePosition(12), verbose=true)"
   ]
  },
  {
   "cell_type": "markdown",
   "metadata": {},
   "source": [
    "### 2. Metody korzytające z pochodnych\n",
    "\n",
    "#### 2.1 Metoda Newtona, potrzebuje punktu startowego i wykorzystuje pochodną funkcji."
   ]
  },
  {
   "cell_type": "markdown",
   "metadata": {},
   "source": [
    "Aby użyć Metody Newtona, można skorzystać z pakietu ForwardDiff, aby obliczyć pochodną funkcji. "
   ]
  },
  {
   "cell_type": "code",
   "execution_count": 12,
   "metadata": {},
   "outputs": [
    {
     "data": {
      "text/plain": [
       "D (generic function with 1 method)"
      ]
     },
     "execution_count": 12,
     "metadata": {},
     "output_type": "execute_result"
    }
   ],
   "source": [
    "# definujemy D(f) obliczającą  funkcje pochodną \n",
    "D(f) = x->ForwardDiff.derivative(f, float(x))"
   ]
  },
  {
   "cell_type": "code",
   "execution_count": 13,
   "metadata": {},
   "outputs": [
    {
     "data": {
      "image/svg+xml": [
       "<?xml version=\"1.0\" encoding=\"utf-8\"?>\n",
       "<svg xmlns=\"http://www.w3.org/2000/svg\" xmlns:xlink=\"http://www.w3.org/1999/xlink\" width=\"600\" height=\"400\" viewBox=\"0 0 2400 1600\">\n",
       "<defs>\n",
       "  <clipPath id=\"clip300\">\n",
       "    <rect x=\"0\" y=\"0\" width=\"2400\" height=\"1600\"/>\n",
       "  </clipPath>\n",
       "</defs>\n",
       "<path clip-path=\"url(#clip300)\" d=\"\n",
       "M0 1600 L2400 1600 L2400 0 L0 0  Z\n",
       "  \" fill=\"#ffffff\" fill-rule=\"evenodd\" fill-opacity=\"1\"/>\n",
       "<defs>\n",
       "  <clipPath id=\"clip301\">\n",
       "    <rect x=\"480\" y=\"0\" width=\"1681\" height=\"1600\"/>\n",
       "  </clipPath>\n",
       "</defs>\n",
       "<path clip-path=\"url(#clip300)\" d=\"\n",
       "M179.654 1486.45 L2352.76 1486.45 L2352.76 47.2441 L179.654 47.2441  Z\n",
       "  \" fill=\"#ffffff\" fill-rule=\"evenodd\" fill-opacity=\"1\"/>\n",
       "<defs>\n",
       "  <clipPath id=\"clip302\">\n",
       "    <rect x=\"179\" y=\"47\" width=\"2174\" height=\"1440\"/>\n",
       "  </clipPath>\n",
       "</defs>\n",
       "<polyline clip-path=\"url(#clip302)\" style=\"stroke:#000000; stroke-width:2; stroke-opacity:0.1; fill:none\" points=\"\n",
       "  241.157,1486.45 241.157,47.2441 \n",
       "  \"/>\n",
       "<polyline clip-path=\"url(#clip302)\" style=\"stroke:#000000; stroke-width:2; stroke-opacity:0.1; fill:none\" points=\"\n",
       "  753.681,1486.45 753.681,47.2441 \n",
       "  \"/>\n",
       "<polyline clip-path=\"url(#clip302)\" style=\"stroke:#000000; stroke-width:2; stroke-opacity:0.1; fill:none\" points=\"\n",
       "  1266.2,1486.45 1266.2,47.2441 \n",
       "  \"/>\n",
       "<polyline clip-path=\"url(#clip302)\" style=\"stroke:#000000; stroke-width:2; stroke-opacity:0.1; fill:none\" points=\"\n",
       "  1778.73,1486.45 1778.73,47.2441 \n",
       "  \"/>\n",
       "<polyline clip-path=\"url(#clip302)\" style=\"stroke:#000000; stroke-width:2; stroke-opacity:0.1; fill:none\" points=\"\n",
       "  2291.25,1486.45 2291.25,47.2441 \n",
       "  \"/>\n",
       "<polyline clip-path=\"url(#clip300)\" style=\"stroke:#000000; stroke-width:4; stroke-opacity:1; fill:none\" points=\"\n",
       "  179.654,1486.45 2352.76,1486.45 \n",
       "  \"/>\n",
       "<polyline clip-path=\"url(#clip300)\" style=\"stroke:#000000; stroke-width:4; stroke-opacity:1; fill:none\" points=\"\n",
       "  241.157,1486.45 241.157,1469.18 \n",
       "  \"/>\n",
       "<polyline clip-path=\"url(#clip300)\" style=\"stroke:#000000; stroke-width:4; stroke-opacity:1; fill:none\" points=\"\n",
       "  753.681,1486.45 753.681,1469.18 \n",
       "  \"/>\n",
       "<polyline clip-path=\"url(#clip300)\" style=\"stroke:#000000; stroke-width:4; stroke-opacity:1; fill:none\" points=\"\n",
       "  1266.2,1486.45 1266.2,1469.18 \n",
       "  \"/>\n",
       "<polyline clip-path=\"url(#clip300)\" style=\"stroke:#000000; stroke-width:4; stroke-opacity:1; fill:none\" points=\"\n",
       "  1778.73,1486.45 1778.73,1469.18 \n",
       "  \"/>\n",
       "<polyline clip-path=\"url(#clip300)\" style=\"stroke:#000000; stroke-width:4; stroke-opacity:1; fill:none\" points=\"\n",
       "  2291.25,1486.45 2291.25,1469.18 \n",
       "  \"/>\n",
       "<path clip-path=\"url(#clip300)\" d=\"M 0 0 M213.61 1530.29 L243.286 1530.29 L243.286 1534.23 L213.61 1534.23 L213.61 1530.29 Z\" fill=\"#000000\" fill-rule=\"evenodd\" fill-opacity=\"1\" /><path clip-path=\"url(#clip300)\" d=\"M 0 0 M252.383 1543.18 L268.703 1543.18 L268.703 1547.12 L246.758 1547.12 L246.758 1543.18 Q249.42 1540.43 254.004 1535.8 Q258.61 1531.15 259.791 1529.81 Q262.036 1527.28 262.916 1525.55 Q263.818 1523.79 263.818 1522.1 Q263.818 1519.34 261.874 1517.61 Q259.953 1515.87 256.851 1515.87 Q254.652 1515.87 252.198 1516.63 Q249.768 1517.4 246.99 1518.95 L246.99 1514.23 Q249.814 1513.09 252.268 1512.51 Q254.721 1511.93 256.758 1511.93 Q262.129 1511.93 265.323 1514.62 Q268.518 1517.31 268.518 1521.8 Q268.518 1523.93 267.707 1525.85 Q266.92 1527.74 264.814 1530.34 Q264.235 1531.01 261.133 1534.23 Q258.031 1537.42 252.383 1543.18 Z\" fill=\"#000000\" fill-rule=\"evenodd\" fill-opacity=\"1\" /><path clip-path=\"url(#clip300)\" d=\"M 0 0 M725.949 1530.29 L755.625 1530.29 L755.625 1534.23 L725.949 1534.23 L725.949 1530.29 Z\" fill=\"#000000\" fill-rule=\"evenodd\" fill-opacity=\"1\" /><path clip-path=\"url(#clip300)\" d=\"M 0 0 M761.505 1543.18 L769.144 1543.18 L769.144 1516.82 L760.833 1518.49 L760.833 1514.23 L769.097 1512.56 L773.773 1512.56 L773.773 1543.18 L781.412 1543.18 L781.412 1547.12 L761.505 1547.12 L761.505 1543.18 Z\" fill=\"#000000\" fill-rule=\"evenodd\" fill-opacity=\"1\" /><path clip-path=\"url(#clip300)\" d=\"M 0 0 M1266.2 1515.64 Q1262.59 1515.64 1260.77 1519.2 Q1258.96 1522.75 1258.96 1529.87 Q1258.96 1536.98 1260.77 1540.55 Q1262.59 1544.09 1266.2 1544.09 Q1269.84 1544.09 1271.64 1540.55 Q1273.47 1536.98 1273.47 1529.87 Q1273.47 1522.75 1271.64 1519.2 Q1269.84 1515.64 1266.2 1515.64 M1266.2 1511.93 Q1272.01 1511.93 1275.07 1516.54 Q1278.15 1521.12 1278.15 1529.87 Q1278.15 1538.6 1275.07 1543.21 Q1272.01 1547.79 1266.2 1547.79 Q1260.39 1547.79 1257.32 1543.21 Q1254.26 1538.6 1254.26 1529.87 Q1254.26 1521.12 1257.32 1516.54 Q1260.39 1511.93 1266.2 1511.93 Z\" fill=\"#000000\" fill-rule=\"evenodd\" fill-opacity=\"1\" /><path clip-path=\"url(#clip300)\" d=\"M 0 0 M1769.11 1543.18 L1776.75 1543.18 L1776.75 1516.82 L1768.44 1518.49 L1768.44 1514.23 L1776.7 1512.56 L1781.38 1512.56 L1781.38 1543.18 L1789.02 1543.18 L1789.02 1547.12 L1769.11 1547.12 L1769.11 1543.18 Z\" fill=\"#000000\" fill-rule=\"evenodd\" fill-opacity=\"1\" /><path clip-path=\"url(#clip300)\" d=\"M 0 0 M2285.91 1543.18 L2302.23 1543.18 L2302.23 1547.12 L2280.28 1547.12 L2280.28 1543.18 Q2282.94 1540.43 2287.53 1535.8 Q2292.13 1531.15 2293.31 1529.81 Q2295.56 1527.28 2296.44 1525.55 Q2297.34 1523.79 2297.34 1522.1 Q2297.34 1519.34 2295.4 1517.61 Q2293.48 1515.87 2290.37 1515.87 Q2288.17 1515.87 2285.72 1516.63 Q2283.29 1517.4 2280.51 1518.95 L2280.51 1514.23 Q2283.34 1513.09 2285.79 1512.51 Q2288.24 1511.93 2290.28 1511.93 Q2295.65 1511.93 2298.85 1514.62 Q2302.04 1517.31 2302.04 1521.8 Q2302.04 1523.93 2301.23 1525.85 Q2300.44 1527.74 2298.34 1530.34 Q2297.76 1531.01 2294.66 1534.23 Q2291.55 1537.42 2285.91 1543.18 Z\" fill=\"#000000\" fill-rule=\"evenodd\" fill-opacity=\"1\" /><polyline clip-path=\"url(#clip302)\" style=\"stroke:#000000; stroke-width:2; stroke-opacity:0.1; fill:none\" points=\"\n",
       "  179.654,1446.5 2352.76,1446.5 \n",
       "  \"/>\n",
       "<polyline clip-path=\"url(#clip302)\" style=\"stroke:#000000; stroke-width:2; stroke-opacity:0.1; fill:none\" points=\"\n",
       "  179.654,1106.8 2352.76,1106.8 \n",
       "  \"/>\n",
       "<polyline clip-path=\"url(#clip302)\" style=\"stroke:#000000; stroke-width:2; stroke-opacity:0.1; fill:none\" points=\"\n",
       "  179.654,767.096 2352.76,767.096 \n",
       "  \"/>\n",
       "<polyline clip-path=\"url(#clip302)\" style=\"stroke:#000000; stroke-width:2; stroke-opacity:0.1; fill:none\" points=\"\n",
       "  179.654,427.394 2352.76,427.394 \n",
       "  \"/>\n",
       "<polyline clip-path=\"url(#clip302)\" style=\"stroke:#000000; stroke-width:2; stroke-opacity:0.1; fill:none\" points=\"\n",
       "  179.654,87.6917 2352.76,87.6917 \n",
       "  \"/>\n",
       "<polyline clip-path=\"url(#clip300)\" style=\"stroke:#000000; stroke-width:4; stroke-opacity:1; fill:none\" points=\"\n",
       "  179.654,1486.45 179.654,47.2441 \n",
       "  \"/>\n",
       "<polyline clip-path=\"url(#clip300)\" style=\"stroke:#000000; stroke-width:4; stroke-opacity:1; fill:none\" points=\"\n",
       "  179.654,1446.5 205.731,1446.5 \n",
       "  \"/>\n",
       "<polyline clip-path=\"url(#clip300)\" style=\"stroke:#000000; stroke-width:4; stroke-opacity:1; fill:none\" points=\"\n",
       "  179.654,1106.8 205.731,1106.8 \n",
       "  \"/>\n",
       "<polyline clip-path=\"url(#clip300)\" style=\"stroke:#000000; stroke-width:4; stroke-opacity:1; fill:none\" points=\"\n",
       "  179.654,767.096 205.731,767.096 \n",
       "  \"/>\n",
       "<polyline clip-path=\"url(#clip300)\" style=\"stroke:#000000; stroke-width:4; stroke-opacity:1; fill:none\" points=\"\n",
       "  179.654,427.394 205.731,427.394 \n",
       "  \"/>\n",
       "<polyline clip-path=\"url(#clip300)\" style=\"stroke:#000000; stroke-width:4; stroke-opacity:1; fill:none\" points=\"\n",
       "  179.654,87.6917 205.731,87.6917 \n",
       "  \"/>\n",
       "<path clip-path=\"url(#clip300)\" d=\"M 0 0 M51.594 1446.95 L81.2697 1446.95 L81.2697 1450.89 L51.594 1450.89 L51.594 1446.95 Z\" fill=\"#000000\" fill-rule=\"evenodd\" fill-opacity=\"1\" /><path clip-path=\"url(#clip300)\" d=\"M 0 0 M90.3669 1459.84 L106.686 1459.84 L106.686 1463.78 L84.7419 1463.78 L84.7419 1459.84 Q87.404 1457.09 91.9873 1452.46 Q96.5937 1447.81 97.7743 1446.46 Q100.02 1443.94 100.899 1442.21 Q101.802 1440.45 101.802 1438.76 Q101.802 1436 99.8576 1434.27 Q97.9363 1432.53 94.8345 1432.53 Q92.6354 1432.53 90.1817 1433.29 Q87.7512 1434.06 84.9734 1435.61 L84.9734 1430.89 Q87.7975 1429.75 90.2512 1429.17 Q92.7049 1428.59 94.7419 1428.59 Q100.112 1428.59 103.307 1431.28 Q106.501 1433.96 106.501 1438.46 Q106.501 1440.59 105.691 1442.51 Q104.904 1444.4 102.797 1447 Q102.219 1447.67 99.1169 1450.89 Q96.015 1454.08 90.3669 1459.84 Z\" fill=\"#000000\" fill-rule=\"evenodd\" fill-opacity=\"1\" /><path clip-path=\"url(#clip300)\" d=\"M 0 0 M111.756 1457.9 L116.64 1457.9 L116.64 1463.78 L111.756 1463.78 L111.756 1457.9 Z\" fill=\"#000000\" fill-rule=\"evenodd\" fill-opacity=\"1\" /><path clip-path=\"url(#clip300)\" d=\"M 0 0 M131.709 1432.3 Q128.098 1432.3 126.27 1435.86 Q124.464 1439.4 124.464 1446.53 Q124.464 1453.64 126.27 1457.21 Q128.098 1460.75 131.709 1460.75 Q135.344 1460.75 137.149 1457.21 Q138.978 1453.64 138.978 1446.53 Q138.978 1439.4 137.149 1435.86 Q135.344 1432.3 131.709 1432.3 M131.709 1428.59 Q137.519 1428.59 140.575 1433.2 Q143.654 1437.78 143.654 1446.53 Q143.654 1455.26 140.575 1459.87 Q137.519 1464.45 131.709 1464.45 Q125.899 1464.45 122.82 1459.87 Q119.765 1455.26 119.765 1446.53 Q119.765 1437.78 122.82 1433.2 Q125.899 1428.59 131.709 1428.59 Z\" fill=\"#000000\" fill-rule=\"evenodd\" fill-opacity=\"1\" /><path clip-path=\"url(#clip300)\" d=\"M 0 0 M52.219 1107.25 L81.8947 1107.25 L81.8947 1111.18 L52.219 1111.18 L52.219 1107.25 Z\" fill=\"#000000\" fill-rule=\"evenodd\" fill-opacity=\"1\" /><path clip-path=\"url(#clip300)\" d=\"M 0 0 M87.7743 1120.14 L95.4132 1120.14 L95.4132 1093.78 L87.103 1095.44 L87.103 1091.18 L95.3669 1089.52 L100.043 1089.52 L100.043 1120.14 L107.682 1120.14 L107.682 1124.08 L87.7743 1124.08 L87.7743 1120.14 Z\" fill=\"#000000\" fill-rule=\"evenodd\" fill-opacity=\"1\" /><path clip-path=\"url(#clip300)\" d=\"M 0 0 M112.751 1118.2 L117.635 1118.2 L117.635 1124.08 L112.751 1124.08 L112.751 1118.2 Z\" fill=\"#000000\" fill-rule=\"evenodd\" fill-opacity=\"1\" /><path clip-path=\"url(#clip300)\" d=\"M 0 0 M122.751 1089.52 L141.107 1089.52 L141.107 1093.45 L127.033 1093.45 L127.033 1101.92 Q128.052 1101.58 129.07 1101.42 Q130.089 1101.23 131.107 1101.23 Q136.894 1101.23 140.274 1104.4 Q143.654 1107.57 143.654 1112.99 Q143.654 1118.57 140.181 1121.67 Q136.709 1124.75 130.39 1124.75 Q128.214 1124.75 125.945 1124.38 Q123.7 1124.01 121.293 1123.27 L121.293 1118.57 Q123.376 1119.7 125.598 1120.26 Q127.82 1120.81 130.297 1120.81 Q134.302 1120.81 136.64 1118.71 Q138.978 1116.6 138.978 1112.99 Q138.978 1109.38 136.64 1107.27 Q134.302 1105.17 130.297 1105.17 Q128.422 1105.17 126.547 1105.58 Q124.695 1106 122.751 1106.88 L122.751 1089.52 Z\" fill=\"#000000\" fill-rule=\"evenodd\" fill-opacity=\"1\" /><path clip-path=\"url(#clip300)\" d=\"M 0 0 M51.2236 767.547 L80.8994 767.547 L80.8994 771.482 L51.2236 771.482 L51.2236 767.547 Z\" fill=\"#000000\" fill-rule=\"evenodd\" fill-opacity=\"1\" /><path clip-path=\"url(#clip300)\" d=\"M 0 0 M86.779 780.44 L94.4178 780.44 L94.4178 754.075 L86.1077 755.741 L86.1077 751.482 L94.3715 749.816 L99.0474 749.816 L99.0474 780.44 L106.686 780.44 L106.686 784.376 L86.779 784.376 L86.779 780.44 Z\" fill=\"#000000\" fill-rule=\"evenodd\" fill-opacity=\"1\" /><path clip-path=\"url(#clip300)\" d=\"M 0 0 M111.756 778.496 L116.64 778.496 L116.64 784.376 L111.756 784.376 L111.756 778.496 Z\" fill=\"#000000\" fill-rule=\"evenodd\" fill-opacity=\"1\" /><path clip-path=\"url(#clip300)\" d=\"M 0 0 M131.709 752.894 Q128.098 752.894 126.27 756.459 Q124.464 760.001 124.464 767.13 Q124.464 774.237 126.27 777.802 Q128.098 781.343 131.709 781.343 Q135.344 781.343 137.149 777.802 Q138.978 774.237 138.978 767.13 Q138.978 760.001 137.149 756.459 Q135.344 752.894 131.709 752.894 M131.709 749.191 Q137.519 749.191 140.575 753.797 Q143.654 758.38 143.654 767.13 Q143.654 775.857 140.575 780.464 Q137.519 785.047 131.709 785.047 Q125.899 785.047 122.82 780.464 Q119.765 775.857 119.765 767.13 Q119.765 758.38 122.82 753.797 Q125.899 749.191 131.709 749.191 Z\" fill=\"#000000\" fill-rule=\"evenodd\" fill-opacity=\"1\" /><path clip-path=\"url(#clip300)\" d=\"M 0 0 M50.9921 427.845 L80.6679 427.845 L80.6679 431.78 L50.9921 431.78 L50.9921 427.845 Z\" fill=\"#000000\" fill-rule=\"evenodd\" fill-opacity=\"1\" /><path clip-path=\"url(#clip300)\" d=\"M 0 0 M95.7373 413.192 Q92.1262 413.192 90.2975 416.757 Q88.4919 420.299 88.4919 427.428 Q88.4919 434.535 90.2975 438.1 Q92.1262 441.641 95.7373 441.641 Q99.3715 441.641 101.177 438.1 Q103.006 434.535 103.006 427.428 Q103.006 420.299 101.177 416.757 Q99.3715 413.192 95.7373 413.192 M95.7373 409.489 Q101.547 409.489 104.603 414.095 Q107.682 418.678 107.682 427.428 Q107.682 436.155 104.603 440.762 Q101.547 445.345 95.7373 445.345 Q89.9271 445.345 86.8484 440.762 Q83.7929 436.155 83.7929 427.428 Q83.7929 418.678 86.8484 414.095 Q89.9271 409.489 95.7373 409.489 Z\" fill=\"#000000\" fill-rule=\"evenodd\" fill-opacity=\"1\" /><path clip-path=\"url(#clip300)\" d=\"M 0 0 M112.751 438.794 L117.635 438.794 L117.635 444.674 L112.751 444.674 L112.751 438.794 Z\" fill=\"#000000\" fill-rule=\"evenodd\" fill-opacity=\"1\" /><path clip-path=\"url(#clip300)\" d=\"M 0 0 M122.751 410.114 L141.107 410.114 L141.107 414.049 L127.033 414.049 L127.033 422.521 Q128.052 422.174 129.07 422.012 Q130.089 421.827 131.107 421.827 Q136.894 421.827 140.274 424.998 Q143.654 428.169 143.654 433.586 Q143.654 439.164 140.181 442.266 Q136.709 445.345 130.39 445.345 Q128.214 445.345 125.945 444.975 Q123.7 444.604 121.293 443.863 L121.293 439.164 Q123.376 440.299 125.598 440.854 Q127.82 441.41 130.297 441.41 Q134.302 441.41 136.64 439.303 Q138.978 437.197 138.978 433.586 Q138.978 429.975 136.64 427.868 Q134.302 425.762 130.297 425.762 Q128.422 425.762 126.547 426.178 Q124.695 426.595 122.751 427.475 L122.751 410.114 Z\" fill=\"#000000\" fill-rule=\"evenodd\" fill-opacity=\"1\" /><path clip-path=\"url(#clip300)\" d=\"M 0 0 M94.7419 73.4904 Q91.1308 73.4904 89.3021 77.0552 Q87.4966 80.5968 87.4966 87.7264 Q87.4966 94.8329 89.3021 98.3977 Q91.1308 101.939 94.7419 101.939 Q98.3761 101.939 100.182 98.3977 Q102.01 94.8329 102.01 87.7264 Q102.01 80.5968 100.182 77.0552 Q98.3761 73.4904 94.7419 73.4904 M94.7419 69.7867 Q100.552 69.7867 103.608 74.3932 Q106.686 78.9765 106.686 87.7264 Q106.686 96.4532 103.608 101.06 Q100.552 105.643 94.7419 105.643 Q88.9317 105.643 85.8531 101.06 Q82.7975 96.4532 82.7975 87.7264 Q82.7975 78.9765 85.8531 74.3932 Q88.9317 69.7867 94.7419 69.7867 Z\" fill=\"#000000\" fill-rule=\"evenodd\" fill-opacity=\"1\" /><path clip-path=\"url(#clip300)\" d=\"M 0 0 M111.756 99.0921 L116.64 99.0921 L116.64 104.972 L111.756 104.972 L111.756 99.0921 Z\" fill=\"#000000\" fill-rule=\"evenodd\" fill-opacity=\"1\" /><path clip-path=\"url(#clip300)\" d=\"M 0 0 M131.709 73.4904 Q128.098 73.4904 126.27 77.0552 Q124.464 80.5968 124.464 87.7264 Q124.464 94.8329 126.27 98.3977 Q128.098 101.939 131.709 101.939 Q135.344 101.939 137.149 98.3977 Q138.978 94.8329 138.978 87.7264 Q138.978 80.5968 137.149 77.0552 Q135.344 73.4904 131.709 73.4904 M131.709 69.7867 Q137.519 69.7867 140.575 74.3932 Q143.654 78.9765 143.654 87.7264 Q143.654 96.4532 140.575 101.06 Q137.519 105.643 131.709 105.643 Q125.899 105.643 122.82 101.06 Q119.765 96.4532 119.765 87.7264 Q119.765 78.9765 122.82 74.3932 Q125.899 69.7867 131.709 69.7867 Z\" fill=\"#000000\" fill-rule=\"evenodd\" fill-opacity=\"1\" /><polyline clip-path=\"url(#clip302)\" style=\"stroke:#009af9; stroke-width:4; stroke-opacity:1; fill:none\" points=\"\n",
       "  241.157,149.315 251.167,143.911 261.177,138.745 353.738,102.553 446.299,87.9763 501.925,89.8423 557.55,99.6781 604.58,114.129 651.611,134.074 702.699,161.769 \n",
       "  753.787,195.473 800.886,231.582 847.985,272.21 948.975,372.915 1065.98,508.379 1169.96,640.266 1261.15,760.389 1360.56,891.467 1460.56,1018.61 1571.13,1147.88 \n",
       "  1676.33,1254.57 1731.03,1302.2 1785.72,1343.75 1831.76,1373.65 1877.8,1398.66 1934.01,1422.28 1990.22,1438.02 2043.06,1445.47 2095.9,1445.72 2180.55,1431.12 \n",
       "  2265.2,1398.44 2278.23,1391.86 2291.25,1384.88 \n",
       "  \"/>\n",
       "<path clip-path=\"url(#clip300)\" d=\"\n",
       "M1987.85 216.178 L2280.32 216.178 L2280.32 95.2176 L1987.85 95.2176  Z\n",
       "  \" fill=\"#ffffff\" fill-rule=\"evenodd\" fill-opacity=\"1\"/>\n",
       "<polyline clip-path=\"url(#clip300)\" style=\"stroke:#000000; stroke-width:4; stroke-opacity:1; fill:none\" points=\"\n",
       "  1987.85,216.178 2280.32,216.178 2280.32,95.2176 1987.85,95.2176 1987.85,216.178 \n",
       "  \"/>\n",
       "<polyline clip-path=\"url(#clip300)\" style=\"stroke:#009af9; stroke-width:4; stroke-opacity:1; fill:none\" points=\"\n",
       "  2011.99,155.698 2156.86,155.698 \n",
       "  \"/>\n",
       "<path clip-path=\"url(#clip300)\" d=\"M 0 0 M2194.85 175.385 Q2193.05 180.015 2191.33 181.427 Q2189.62 182.839 2186.75 182.839 L2183.35 182.839 L2183.35 179.274 L2185.85 179.274 Q2187.61 179.274 2188.58 178.44 Q2189.55 177.607 2190.73 174.505 L2191.5 172.561 L2181.01 147.052 L2185.52 147.052 L2193.63 167.329 L2201.73 147.052 L2206.24 147.052 L2194.85 175.385 Z\" fill=\"#000000\" fill-rule=\"evenodd\" fill-opacity=\"1\" /><path clip-path=\"url(#clip300)\" d=\"M 0 0 M2212.12 169.042 L2219.76 169.042 L2219.76 142.677 L2211.45 144.343 L2211.45 140.084 L2219.71 138.418 L2224.39 138.418 L2224.39 169.042 L2232.03 169.042 L2232.03 172.978 L2212.12 172.978 L2212.12 169.042 Z\" fill=\"#000000\" fill-rule=\"evenodd\" fill-opacity=\"1\" /></svg>\n"
      ]
     },
     "execution_count": 13,
     "metadata": {},
     "output_type": "execute_result"
    }
   ],
   "source": [
    "plot(D(f), -2,2)"
   ]
  },
  {
   "cell_type": "code",
   "execution_count": 14,
   "metadata": {},
   "outputs": [
    {
     "name": "stdout",
     "output_type": "stream",
     "text": [
      "Results of univariate zero finding:\n",
      "\n",
      "* Converged to: 0.7390851332151607\n",
      "* Algorithm: Roots.Newton()\n",
      "* iterations: 5\n",
      "* function evaluations: 11\n",
      "* stopped as |f(x_n)| ≤ max(δ, max(1,|x|)⋅ϵ) using δ = atol, ϵ = rtol\n",
      "\n",
      "Trace:\n",
      "x_0 =  0.0000000000000000,\t fx_0 =  1.0000000000000000\n",
      "x_1 =  1.0000000000000000,\t fx_1 = -0.4596976941318602\n",
      "x_2 =  0.7503638678402439,\t fx_2 = -0.0189230738221174\n",
      "x_3 =  0.7391128909113617,\t fx_3 = -0.0000464558989908\n",
      "x_4 =  0.7390851333852840,\t fx_4 = -0.0000000002847206\n",
      "x_5 =  0.7390851332151607,\t fx_5 =  0.0000000000000000\n",
      "\n"
     ]
    },
    {
     "data": {
      "text/plain": [
       "0.7390851332151607"
      ]
     },
     "execution_count": 14,
     "metadata": {},
     "output_type": "execute_result"
    }
   ],
   "source": [
    "#wywolanie metody Newtona\n",
    "find_zero((f, D(f)),0, Roots.Newton(),verbose=true)"
   ]
  },
  {
   "cell_type": "markdown",
   "metadata": {},
   "source": [
    "#### 2.2 Metoda Halleya (potrzebuje pierwszej i drugiej pochodnej)"
   ]
  },
  {
   "cell_type": "code",
   "execution_count": 15,
   "metadata": {},
   "outputs": [
    {
     "name": "stdout",
     "output_type": "stream",
     "text": [
      "Results of univariate zero finding:\n",
      "\n",
      "* Converged to: 0.7390851332151606\n",
      "* Algorithm: Roots.Halley()\n",
      "* iterations: 4\n",
      "* function evaluations: 15\n",
      "* stopped as |f(x_n)| ≤ max(δ, max(1,|x|)⋅ϵ) using δ = atol, ϵ = rtol\n",
      "\n",
      "Trace:\n",
      "x_0 =  0.0000000000000000,\t fx_0 =  1.0000000000000000\n",
      "x_1 =  0.6666666666666666,\t fx_1 =  0.1192205941102814\n",
      "x_2 =  0.7390392624463102,\t fx_2 =  0.0000767690929604\n",
      "x_3 =  0.7390851332151495,\t fx_3 =  0.0000000000000187\n",
      "x_4 =  0.7390851332151606,\t fx_4 =  0.0000000000000001\n",
      "\n"
     ]
    },
    {
     "data": {
      "text/plain": [
       "0.7390851332151606"
      ]
     },
     "execution_count": 15,
     "metadata": {},
     "output_type": "execute_result"
    }
   ],
   "source": [
    "DD(f) = x->ForwardDiff.derivative(D(f), float(x))\n",
    "find_zero((f, D(f), DD(f)), 0.0, Roots.Halley(), verbose=true) "
   ]
  },
  {
   "cell_type": "markdown",
   "metadata": {},
   "source": [
    "### 3. Metody korzystające z przybliżenia pochodnej"
   ]
  },
  {
   "cell_type": "markdown",
   "metadata": {},
   "source": [
    "#### 3.1 Domyślna metoda bazuje na metodzie z <a href=\"http://www.hpl.hp.com/hpjournal/pdfs/IssuePDFs/1979-12.pdf\"> kalkulatorów HP-34</a> , używa metody siecznych\n",
    "oraz metody bazującej na przedziale wg artykułu:\n",
    "\n",
    "<a href=\"http://na.math.kit.edu/alefeld/download/1995_Algorithm_748_Enclosing_Zeros_of_Continuous_Functions.pdf\">G. E. Alefeld, F. A. Potra, and\n",
    "Y. Shi, \"Algorithm 748: enclosing zeros of continuous functions,\" ACM\n",
    "Trans. Math. Softw. 21, 327–344 (1995), DOI: 10.1145/210089.210111. </a>"
   ]
  },
  {
   "cell_type": "code",
   "execution_count": 16,
   "metadata": {},
   "outputs": [
    {
     "name": "stdout",
     "output_type": "stream",
     "text": [
      "Results of univariate zero finding:\n",
      "\n",
      "* Converged to: 0.7390851344824166\n",
      "* Algorithm: Roots.Secant(), with possible bracketing with Roots.AlefeldPotraShi()\n",
      "* iterations: 2\n",
      "* function evaluations: 11\n",
      "* Note: Exact zero found. Bracketing used over (0.0, 0.9999969722835389), those steps not shown. \n",
      "\n",
      "Trace:\n",
      "x_0 =  0.0000000000000000,\t fx_0 =  1.0000000000000000\n",
      "\n"
     ]
    },
    {
     "data": {
      "text/plain": [
       "0.7390851332151607"
      ]
     },
     "execution_count": 16,
     "metadata": {},
     "output_type": "execute_result"
    }
   ],
   "source": [
    "x = find_zero(f, 0,   verbose=true)"
   ]
  },
  {
   "cell_type": "markdown",
   "metadata": {},
   "source": [
    "Metody find_zero dla wyzszych rzędów to wariacje metody Newtona, które nie korzystaja z pochodnej, ale ja przyblizają.\n"
   ]
  },
  {
   "cell_type": "markdown",
   "metadata": {},
   "source": [
    "#### 3.2 Metoda siecznych"
   ]
  },
  {
   "cell_type": "code",
   "execution_count": 17,
   "metadata": {},
   "outputs": [
    {
     "name": "stdout",
     "output_type": "stream",
     "text": [
      "Results of univariate zero finding:\n",
      "\n",
      "* Converged to: 0.7390851332151607\n",
      "* Algorithm: Roots.Secant()\n",
      "* iterations: 7\n",
      "* function evaluations: 9\n",
      "* stopped as |f(x_n)| ≤ max(δ, max(1,|x|)⋅ϵ) using δ = atol, ϵ = rtol\n",
      "\n",
      "Trace:\n",
      "x_0 =  0.0000000000000000,\t fx_0 =  1.0000000000000000\n",
      "x_1 =  0.9999969722835389,\t fx_1 = -0.4596921186823234\n",
      "x_2 =  0.6850738998209052,\t fx_2 =  0.0892983907342113\n",
      "x_3 =  0.7362990541607766,\t fx_3 =  0.0046599445167859\n",
      "x_4 =  0.7391193608624661,\t fx_4 = -0.0000572842351875\n",
      "x_5 =  0.7390851121285389,\t fx_5 =  0.0000000352908237\n",
      "x_6 =  0.7390851332150014,\t fx_6 =  0.0000000000002666\n",
      "x_7 =  0.7390851332151607,\t fx_7 =  0.0000000000000000\n",
      "\n"
     ]
    },
    {
     "data": {
      "text/plain": [
       "0.7390851332151607"
      ]
     },
     "execution_count": 17,
     "metadata": {},
     "output_type": "execute_result"
    }
   ],
   "source": [
    "# wywołanie find_zero używając punktu startowego (a nie przedziału) \n",
    "# oraz opcji order=1   wykorzystuje metodę siecznych  \n",
    "x = find_zero(f, 0, Order1(),  verbose=true) "
   ]
  },
  {
   "cell_type": "code",
   "execution_count": 18,
   "metadata": {},
   "outputs": [
    {
     "data": {
      "text/plain": [
       "0.7390851332151607"
      ]
     },
     "execution_count": 18,
     "metadata": {},
     "output_type": "execute_result"
    }
   ],
   "source": [
    "# metoda siecznych może być wywołana bezpośrednio \n",
    "# implementacja taka sama jak find_zero(f, 0, Order1()), ale bez\n",
    "# narzutów frameworku oraz mniejsza ilość sprawdzanych warunków zbieżności - szybsza\n",
    "Roots.secant_method(f, 0)"
   ]
  },
  {
   "cell_type": "code",
   "execution_count": 19,
   "metadata": {},
   "outputs": [
    {
     "data": {
      "text/plain": [
       "0.7390851332151607"
      ]
     },
     "execution_count": 19,
     "metadata": {},
     "output_type": "execute_result"
    }
   ],
   "source": [
    "# mozemy podać przedział\n",
    "Roots.secant_method(f, (0,1))"
   ]
  },
  {
   "cell_type": "markdown",
   "metadata": {},
   "source": [
    "#### 3.3 Metoda Steffensena \n",
    "przybliża pochodną poprzez  (f(x + f(x)) - f(x))/f(x)  \n",
    "aby ja wywołać podajemy punkt startowy oraz order 2"
   ]
  },
  {
   "cell_type": "code",
   "execution_count": 20,
   "metadata": {},
   "outputs": [
    {
     "name": "stdout",
     "output_type": "stream",
     "text": [
      "Results of univariate zero finding:\n",
      "\n",
      "* Converged to: 0.7390851332151607\n",
      "* Algorithm: Order2()\n",
      "* iterations: 6\n",
      "* function evaluations: 10\n",
      "* stopped as |f(x_n)| ≤ max(δ, max(1,|x|)⋅ϵ) using δ = atol, ϵ = rtol\n",
      "\n",
      "Trace:\n",
      "x_0 =  0.0000000000000000,\t fx_0 =  1.0000000000000000\n",
      "x_1 =  0.9999969722835389,\t fx_1 = -0.4596921186823234\n",
      "x_2 =  0.6850738998209052,\t fx_2 =  0.0892983907342113\n",
      "x_3 =  0.7362990541607766,\t fx_3 =  0.0046599445167859\n",
      "x_4 =  0.7391193608624661,\t fx_4 = -0.0000572842351875\n",
      "x_5 =  0.7390851330409081,\t fx_5 =  0.0000000002916313\n",
      "x_6 =  0.7390851332151607,\t fx_6 =  0.0000000000000000\n",
      "\n"
     ]
    },
    {
     "data": {
      "text/plain": [
       "0.7390851332151607"
      ]
     },
     "execution_count": 20,
     "metadata": {},
     "output_type": "execute_result"
    }
   ],
   "source": [
    "x = find_zero(f, 0, Order2(), verbose=true) "
   ]
  },
  {
   "cell_type": "code",
   "execution_count": 21,
   "metadata": {},
   "outputs": [
    {
     "name": "stdout",
     "output_type": "stream",
     "text": [
      "Results of univariate zero finding:\n",
      "\n",
      "* Converged to: 0.7390851332151607\n",
      "* Algorithm: Order8()\n",
      "* iterations: 2\n",
      "* function evaluations: 10\n",
      "* stopped as |f(x_n)| ≤ max(δ, max(1,|x|)⋅ϵ) using δ = atol, ϵ = rtol\n",
      "\n",
      "Trace:\n",
      "x_0 =  0.0000000000000000,\t fx_0 =  1.0000000000000000\n",
      "x_1 =  0.7369285852997423,\t fx_1 =  0.0036075047762146\n",
      "x_2 =  0.7390851332151607,\t fx_2 =  0.0000000000000000\n",
      "\n"
     ]
    },
    {
     "data": {
      "text/plain": [
       "0.7390851332151607"
      ]
     },
     "execution_count": 21,
     "metadata": {},
     "output_type": "execute_result"
    }
   ],
   "source": [
    "# mozliwe sa jeszcze rzędy 5, 8 i 16\n",
    "x = find_zero(f, 0, Order8(), verbose=true) "
   ]
  },
  {
   "cell_type": "markdown",
   "metadata": {},
   "source": [
    "Można użyć funkcji fzero do znajdowania nieciagłości"
   ]
  },
  {
   "cell_type": "code",
   "execution_count": 22,
   "metadata": {},
   "outputs": [
    {
     "data": {
      "image/svg+xml": [
       "<?xml version=\"1.0\" encoding=\"utf-8\"?>\n",
       "<svg xmlns=\"http://www.w3.org/2000/svg\" xmlns:xlink=\"http://www.w3.org/1999/xlink\" width=\"600\" height=\"400\" viewBox=\"0 0 2400 1600\">\n",
       "<defs>\n",
       "  <clipPath id=\"clip340\">\n",
       "    <rect x=\"0\" y=\"0\" width=\"2400\" height=\"1600\"/>\n",
       "  </clipPath>\n",
       "</defs>\n",
       "<path clip-path=\"url(#clip340)\" d=\"\n",
       "M0 1600 L2400 1600 L2400 0 L0 0  Z\n",
       "  \" fill=\"#ffffff\" fill-rule=\"evenodd\" fill-opacity=\"1\"/>\n",
       "<defs>\n",
       "  <clipPath id=\"clip341\">\n",
       "    <rect x=\"480\" y=\"0\" width=\"1681\" height=\"1600\"/>\n",
       "  </clipPath>\n",
       "</defs>\n",
       "<path clip-path=\"url(#clip340)\" d=\"\n",
       "M198.195 1486.45 L2352.76 1486.45 L2352.76 47.2441 L198.195 47.2441  Z\n",
       "  \" fill=\"#ffffff\" fill-rule=\"evenodd\" fill-opacity=\"1\"/>\n",
       "<defs>\n",
       "  <clipPath id=\"clip342\">\n",
       "    <rect x=\"198\" y=\"47\" width=\"2156\" height=\"1440\"/>\n",
       "  </clipPath>\n",
       "</defs>\n",
       "<polyline clip-path=\"url(#clip342)\" style=\"stroke:#000000; stroke-width:2; stroke-opacity:0.1; fill:none\" points=\"\n",
       "  462.434,1486.45 462.434,47.2441 \n",
       "  \"/>\n",
       "<polyline clip-path=\"url(#clip342)\" style=\"stroke:#000000; stroke-width:2; stroke-opacity:0.1; fill:none\" points=\"\n",
       "  868.955,1486.45 868.955,47.2441 \n",
       "  \"/>\n",
       "<polyline clip-path=\"url(#clip342)\" style=\"stroke:#000000; stroke-width:2; stroke-opacity:0.1; fill:none\" points=\"\n",
       "  1275.48,1486.45 1275.48,47.2441 \n",
       "  \"/>\n",
       "<polyline clip-path=\"url(#clip342)\" style=\"stroke:#000000; stroke-width:2; stroke-opacity:0.1; fill:none\" points=\"\n",
       "  1682,1486.45 1682,47.2441 \n",
       "  \"/>\n",
       "<polyline clip-path=\"url(#clip342)\" style=\"stroke:#000000; stroke-width:2; stroke-opacity:0.1; fill:none\" points=\"\n",
       "  2088.52,1486.45 2088.52,47.2441 \n",
       "  \"/>\n",
       "<polyline clip-path=\"url(#clip340)\" style=\"stroke:#000000; stroke-width:4; stroke-opacity:1; fill:none\" points=\"\n",
       "  198.195,1486.45 2352.76,1486.45 \n",
       "  \"/>\n",
       "<polyline clip-path=\"url(#clip340)\" style=\"stroke:#000000; stroke-width:4; stroke-opacity:1; fill:none\" points=\"\n",
       "  462.434,1486.45 462.434,1469.18 \n",
       "  \"/>\n",
       "<polyline clip-path=\"url(#clip340)\" style=\"stroke:#000000; stroke-width:4; stroke-opacity:1; fill:none\" points=\"\n",
       "  868.955,1486.45 868.955,1469.18 \n",
       "  \"/>\n",
       "<polyline clip-path=\"url(#clip340)\" style=\"stroke:#000000; stroke-width:4; stroke-opacity:1; fill:none\" points=\"\n",
       "  1275.48,1486.45 1275.48,1469.18 \n",
       "  \"/>\n",
       "<polyline clip-path=\"url(#clip340)\" style=\"stroke:#000000; stroke-width:4; stroke-opacity:1; fill:none\" points=\"\n",
       "  1682,1486.45 1682,1469.18 \n",
       "  \"/>\n",
       "<polyline clip-path=\"url(#clip340)\" style=\"stroke:#000000; stroke-width:4; stroke-opacity:1; fill:none\" points=\"\n",
       "  2088.52,1486.45 2088.52,1469.18 \n",
       "  \"/>\n",
       "<path clip-path=\"url(#clip340)\" d=\"M 0 0 M433.846 1530.29 L463.522 1530.29 L463.522 1534.23 L433.846 1534.23 L433.846 1530.29 Z\" fill=\"#000000\" fill-rule=\"evenodd\" fill-opacity=\"1\" /><path clip-path=\"url(#clip340)\" d=\"M 0 0 M481.438 1516.63 L469.633 1535.08 L481.438 1535.08 L481.438 1516.63 M480.211 1512.56 L486.091 1512.56 L486.091 1535.08 L491.022 1535.08 L491.022 1538.97 L486.091 1538.97 L486.091 1547.12 L481.438 1547.12 L481.438 1538.97 L465.837 1538.97 L465.837 1534.46 L480.211 1512.56 Z\" fill=\"#000000\" fill-rule=\"evenodd\" fill-opacity=\"1\" /><path clip-path=\"url(#clip340)\" d=\"M 0 0 M841.409 1530.29 L871.084 1530.29 L871.084 1534.23 L841.409 1534.23 L841.409 1530.29 Z\" fill=\"#000000\" fill-rule=\"evenodd\" fill-opacity=\"1\" /><path clip-path=\"url(#clip340)\" d=\"M 0 0 M880.181 1543.18 L896.501 1543.18 L896.501 1547.12 L874.557 1547.12 L874.557 1543.18 Q877.219 1540.43 881.802 1535.8 Q886.408 1531.15 887.589 1529.81 Q889.834 1527.28 890.714 1525.55 Q891.617 1523.79 891.617 1522.1 Q891.617 1519.34 889.672 1517.61 Q887.751 1515.87 884.649 1515.87 Q882.45 1515.87 879.996 1516.63 Q877.566 1517.4 874.788 1518.95 L874.788 1514.23 Q877.612 1513.09 880.066 1512.51 Q882.519 1511.93 884.556 1511.93 Q889.927 1511.93 893.121 1514.62 Q896.316 1517.31 896.316 1521.8 Q896.316 1523.93 895.505 1525.85 Q894.718 1527.74 892.612 1530.34 Q892.033 1531.01 888.931 1534.23 Q885.83 1537.42 880.181 1543.18 Z\" fill=\"#000000\" fill-rule=\"evenodd\" fill-opacity=\"1\" /><path clip-path=\"url(#clip340)\" d=\"M 0 0 M1275.48 1515.64 Q1271.86 1515.64 1270.04 1519.2 Q1268.23 1522.75 1268.23 1529.87 Q1268.23 1536.98 1270.04 1540.55 Q1271.86 1544.09 1275.48 1544.09 Q1279.11 1544.09 1280.92 1540.55 Q1282.74 1536.98 1282.74 1529.87 Q1282.74 1522.75 1280.92 1519.2 Q1279.11 1515.64 1275.48 1515.64 M1275.48 1511.93 Q1281.29 1511.93 1284.34 1516.54 Q1287.42 1521.12 1287.42 1529.87 Q1287.42 1538.6 1284.34 1543.21 Q1281.29 1547.79 1275.48 1547.79 Q1269.67 1547.79 1266.59 1543.21 Q1263.53 1538.6 1263.53 1529.87 Q1263.53 1521.12 1266.59 1516.54 Q1269.67 1511.93 1275.48 1511.93 Z\" fill=\"#000000\" fill-rule=\"evenodd\" fill-opacity=\"1\" /><path clip-path=\"url(#clip340)\" d=\"M 0 0 M1676.65 1543.18 L1692.97 1543.18 L1692.97 1547.12 L1671.02 1547.12 L1671.02 1543.18 Q1673.69 1540.43 1678.27 1535.8 Q1682.88 1531.15 1684.06 1529.81 Q1686.3 1527.28 1687.18 1525.55 Q1688.08 1523.79 1688.08 1522.1 Q1688.08 1519.34 1686.14 1517.61 Q1684.22 1515.87 1681.12 1515.87 Q1678.92 1515.87 1676.46 1516.63 Q1674.03 1517.4 1671.26 1518.95 L1671.26 1514.23 Q1674.08 1513.09 1676.53 1512.51 Q1678.99 1511.93 1681.02 1511.93 Q1686.39 1511.93 1689.59 1514.62 Q1692.78 1517.31 1692.78 1521.8 Q1692.78 1523.93 1691.97 1525.85 Q1691.19 1527.74 1689.08 1530.34 Q1688.5 1531.01 1685.4 1534.23 Q1682.3 1537.42 1676.65 1543.18 Z\" fill=\"#000000\" fill-rule=\"evenodd\" fill-opacity=\"1\" /><path clip-path=\"url(#clip340)\" d=\"M 0 0 M2091.53 1516.63 L2079.72 1535.08 L2091.53 1535.08 L2091.53 1516.63 M2090.3 1512.56 L2096.18 1512.56 L2096.18 1535.08 L2101.11 1535.08 L2101.11 1538.97 L2096.18 1538.97 L2096.18 1547.12 L2091.53 1547.12 L2091.53 1538.97 L2075.92 1538.97 L2075.92 1534.46 L2090.3 1512.56 Z\" fill=\"#000000\" fill-rule=\"evenodd\" fill-opacity=\"1\" /><polyline clip-path=\"url(#clip342)\" style=\"stroke:#000000; stroke-width:2; stroke-opacity:0.1; fill:none\" points=\"\n",
       "  198.195,1299.37 2352.76,1299.37 \n",
       "  \"/>\n",
       "<polyline clip-path=\"url(#clip342)\" style=\"stroke:#000000; stroke-width:2; stroke-opacity:0.1; fill:none\" points=\"\n",
       "  198.195,1042.38 2352.76,1042.38 \n",
       "  \"/>\n",
       "<polyline clip-path=\"url(#clip342)\" style=\"stroke:#000000; stroke-width:2; stroke-opacity:0.1; fill:none\" points=\"\n",
       "  198.195,785.385 2352.76,785.385 \n",
       "  \"/>\n",
       "<polyline clip-path=\"url(#clip342)\" style=\"stroke:#000000; stroke-width:2; stroke-opacity:0.1; fill:none\" points=\"\n",
       "  198.195,528.391 2352.76,528.391 \n",
       "  \"/>\n",
       "<polyline clip-path=\"url(#clip342)\" style=\"stroke:#000000; stroke-width:2; stroke-opacity:0.1; fill:none\" points=\"\n",
       "  198.195,271.397 2352.76,271.397 \n",
       "  \"/>\n",
       "<polyline clip-path=\"url(#clip340)\" style=\"stroke:#000000; stroke-width:4; stroke-opacity:1; fill:none\" points=\"\n",
       "  198.195,1486.45 198.195,47.2441 \n",
       "  \"/>\n",
       "<polyline clip-path=\"url(#clip340)\" style=\"stroke:#000000; stroke-width:4; stroke-opacity:1; fill:none\" points=\"\n",
       "  198.195,1299.37 224.05,1299.37 \n",
       "  \"/>\n",
       "<polyline clip-path=\"url(#clip340)\" style=\"stroke:#000000; stroke-width:4; stroke-opacity:1; fill:none\" points=\"\n",
       "  198.195,1042.38 224.05,1042.38 \n",
       "  \"/>\n",
       "<polyline clip-path=\"url(#clip340)\" style=\"stroke:#000000; stroke-width:4; stroke-opacity:1; fill:none\" points=\"\n",
       "  198.195,785.385 224.05,785.385 \n",
       "  \"/>\n",
       "<polyline clip-path=\"url(#clip340)\" style=\"stroke:#000000; stroke-width:4; stroke-opacity:1; fill:none\" points=\"\n",
       "  198.195,528.391 224.05,528.391 \n",
       "  \"/>\n",
       "<polyline clip-path=\"url(#clip340)\" style=\"stroke:#000000; stroke-width:4; stroke-opacity:1; fill:none\" points=\"\n",
       "  198.195,271.397 224.05,271.397 \n",
       "  \"/>\n",
       "<path clip-path=\"url(#clip340)\" d=\"M 0 0 M50.9921 1299.83 L80.6679 1299.83 L80.6679 1303.76 L50.9921 1303.76 L50.9921 1299.83 Z\" fill=\"#000000\" fill-rule=\"evenodd\" fill-opacity=\"1\" /><path clip-path=\"url(#clip340)\" d=\"M 0 0 M98.5845 1286.17 L86.779 1304.62 L98.5845 1304.62 L98.5845 1286.17 M97.3576 1282.09 L103.237 1282.09 L103.237 1304.62 L108.168 1304.62 L108.168 1308.51 L103.237 1308.51 L103.237 1316.65 L98.5845 1316.65 L98.5845 1308.51 L82.9827 1308.51 L82.9827 1303.99 L97.3576 1282.09 Z\" fill=\"#000000\" fill-rule=\"evenodd\" fill-opacity=\"1\" /><path clip-path=\"url(#clip340)\" d=\"M 0 0 M123.237 1285.17 Q119.626 1285.17 117.797 1288.74 Q115.992 1292.28 115.992 1299.41 Q115.992 1306.52 117.797 1310.08 Q119.626 1313.62 123.237 1313.62 Q126.871 1313.62 128.677 1310.08 Q130.506 1306.52 130.506 1299.41 Q130.506 1292.28 128.677 1288.74 Q126.871 1285.17 123.237 1285.17 M123.237 1281.47 Q129.047 1281.47 132.103 1286.08 Q135.181 1290.66 135.181 1299.41 Q135.181 1308.14 132.103 1312.74 Q129.047 1317.33 123.237 1317.33 Q117.427 1317.33 114.348 1312.74 Q111.293 1308.14 111.293 1299.41 Q111.293 1290.66 114.348 1286.08 Q117.427 1281.47 123.237 1281.47 Z\" fill=\"#000000\" fill-rule=\"evenodd\" fill-opacity=\"1\" /><path clip-path=\"url(#clip340)\" d=\"M 0 0 M150.251 1285.17 Q146.64 1285.17 144.811 1288.74 Q143.006 1292.28 143.006 1299.41 Q143.006 1306.52 144.811 1310.08 Q146.64 1313.62 150.251 1313.62 Q153.885 1313.62 155.691 1310.08 Q157.519 1306.52 157.519 1299.41 Q157.519 1292.28 155.691 1288.74 Q153.885 1285.17 150.251 1285.17 M150.251 1281.47 Q156.061 1281.47 159.117 1286.08 Q162.195 1290.66 162.195 1299.41 Q162.195 1308.14 159.117 1312.74 Q156.061 1317.33 150.251 1317.33 Q144.441 1317.33 141.362 1312.74 Q138.306 1308.14 138.306 1299.41 Q138.306 1290.66 141.362 1286.08 Q144.441 1281.47 150.251 1281.47 Z\" fill=\"#000000\" fill-rule=\"evenodd\" fill-opacity=\"1\" /><path clip-path=\"url(#clip340)\" d=\"M 0 0 M53.0754 1042.83 L82.7512 1042.83 L82.7512 1046.77 L53.0754 1046.77 L53.0754 1042.83 Z\" fill=\"#000000\" fill-rule=\"evenodd\" fill-opacity=\"1\" /><path clip-path=\"url(#clip340)\" d=\"M 0 0 M91.8484 1055.72 L108.168 1055.72 L108.168 1059.66 L86.2234 1059.66 L86.2234 1055.72 Q88.8854 1052.97 93.4688 1048.34 Q98.0752 1043.69 99.2558 1042.35 Q101.501 1039.82 102.381 1038.09 Q103.284 1036.33 103.284 1034.64 Q103.284 1031.88 101.339 1030.15 Q99.4178 1028.41 96.316 1028.41 Q94.1169 1028.41 91.6632 1029.17 Q89.2327 1029.94 86.4549 1031.49 L86.4549 1026.77 Q89.279 1025.63 91.7326 1025.05 Q94.1863 1024.47 96.2234 1024.47 Q101.594 1024.47 104.788 1027.16 Q107.983 1029.85 107.983 1034.34 Q107.983 1036.47 107.172 1038.39 Q106.385 1040.28 104.279 1042.88 Q103.7 1043.55 100.598 1046.77 Q97.4965 1049.96 91.8484 1055.72 Z\" fill=\"#000000\" fill-rule=\"evenodd\" fill-opacity=\"1\" /><path clip-path=\"url(#clip340)\" d=\"M 0 0 M123.237 1028.18 Q119.626 1028.18 117.797 1031.74 Q115.992 1035.28 115.992 1042.41 Q115.992 1049.52 117.797 1053.09 Q119.626 1056.63 123.237 1056.63 Q126.871 1056.63 128.677 1053.09 Q130.506 1049.52 130.506 1042.41 Q130.506 1035.28 128.677 1031.74 Q126.871 1028.18 123.237 1028.18 M123.237 1024.47 Q129.047 1024.47 132.103 1029.08 Q135.181 1033.66 135.181 1042.41 Q135.181 1051.14 132.103 1055.75 Q129.047 1060.33 123.237 1060.33 Q117.427 1060.33 114.348 1055.75 Q111.293 1051.14 111.293 1042.41 Q111.293 1033.66 114.348 1029.08 Q117.427 1024.47 123.237 1024.47 Z\" fill=\"#000000\" fill-rule=\"evenodd\" fill-opacity=\"1\" /><path clip-path=\"url(#clip340)\" d=\"M 0 0 M150.251 1028.18 Q146.64 1028.18 144.811 1031.74 Q143.006 1035.28 143.006 1042.41 Q143.006 1049.52 144.811 1053.09 Q146.64 1056.63 150.251 1056.63 Q153.885 1056.63 155.691 1053.09 Q157.519 1049.52 157.519 1042.41 Q157.519 1035.28 155.691 1031.74 Q153.885 1028.18 150.251 1028.18 M150.251 1024.47 Q156.061 1024.47 159.117 1029.08 Q162.195 1033.66 162.195 1042.41 Q162.195 1051.14 159.117 1055.75 Q156.061 1060.33 150.251 1060.33 Q144.441 1060.33 141.362 1055.75 Q138.306 1051.14 138.306 1042.41 Q138.306 1033.66 141.362 1029.08 Q144.441 1024.47 150.251 1024.47 Z\" fill=\"#000000\" fill-rule=\"evenodd\" fill-opacity=\"1\" /><path clip-path=\"url(#clip340)\" d=\"M 0 0 M150.251 771.184 Q146.64 771.184 144.811 774.749 Q143.006 778.291 143.006 785.42 Q143.006 792.527 144.811 796.091 Q146.64 799.633 150.251 799.633 Q153.885 799.633 155.691 796.091 Q157.519 792.527 157.519 785.42 Q157.519 778.291 155.691 774.749 Q153.885 771.184 150.251 771.184 M150.251 767.48 Q156.061 767.48 159.117 772.087 Q162.195 776.67 162.195 785.42 Q162.195 794.147 159.117 798.753 Q156.061 803.337 150.251 803.337 Q144.441 803.337 141.362 798.753 Q138.306 794.147 138.306 785.42 Q138.306 776.67 141.362 772.087 Q144.441 767.48 150.251 767.48 Z\" fill=\"#000000\" fill-rule=\"evenodd\" fill-opacity=\"1\" /><path clip-path=\"url(#clip340)\" d=\"M 0 0 M91.8484 541.736 L108.168 541.736 L108.168 545.671 L86.2234 545.671 L86.2234 541.736 Q88.8854 538.981 93.4688 534.352 Q98.0752 529.699 99.2558 528.356 Q101.501 525.833 102.381 524.097 Q103.284 522.338 103.284 520.648 Q103.284 517.893 101.339 516.157 Q99.4178 514.421 96.316 514.421 Q94.1169 514.421 91.6632 515.185 Q89.2327 515.949 86.4549 517.5 L86.4549 512.778 Q89.279 511.643 91.7326 511.065 Q94.1863 510.486 96.2234 510.486 Q101.594 510.486 104.788 513.171 Q107.983 515.856 107.983 520.347 Q107.983 522.477 107.172 524.398 Q106.385 526.296 104.279 528.889 Q103.7 529.56 100.598 532.778 Q97.4965 535.972 91.8484 541.736 Z\" fill=\"#000000\" fill-rule=\"evenodd\" fill-opacity=\"1\" /><path clip-path=\"url(#clip340)\" d=\"M 0 0 M123.237 514.19 Q119.626 514.19 117.797 517.755 Q115.992 521.296 115.992 528.426 Q115.992 535.532 117.797 539.097 Q119.626 542.639 123.237 542.639 Q126.871 542.639 128.677 539.097 Q130.506 535.532 130.506 528.426 Q130.506 521.296 128.677 517.755 Q126.871 514.19 123.237 514.19 M123.237 510.486 Q129.047 510.486 132.103 515.093 Q135.181 519.676 135.181 528.426 Q135.181 537.153 132.103 541.759 Q129.047 546.342 123.237 546.342 Q117.427 546.342 114.348 541.759 Q111.293 537.153 111.293 528.426 Q111.293 519.676 114.348 515.093 Q117.427 510.486 123.237 510.486 Z\" fill=\"#000000\" fill-rule=\"evenodd\" fill-opacity=\"1\" /><path clip-path=\"url(#clip340)\" d=\"M 0 0 M150.251 514.19 Q146.64 514.19 144.811 517.755 Q143.006 521.296 143.006 528.426 Q143.006 535.532 144.811 539.097 Q146.64 542.639 150.251 542.639 Q153.885 542.639 155.691 539.097 Q157.519 535.532 157.519 528.426 Q157.519 521.296 155.691 517.755 Q153.885 514.19 150.251 514.19 M150.251 510.486 Q156.061 510.486 159.117 515.093 Q162.195 519.676 162.195 528.426 Q162.195 537.153 159.117 541.759 Q156.061 546.342 150.251 546.342 Q144.441 546.342 141.362 541.759 Q138.306 537.153 138.306 528.426 Q138.306 519.676 141.362 515.093 Q144.441 510.486 150.251 510.486 Z\" fill=\"#000000\" fill-rule=\"evenodd\" fill-opacity=\"1\" /><path clip-path=\"url(#clip340)\" d=\"M 0 0 M98.5845 258.191 L86.779 276.64 L98.5845 276.64 L98.5845 258.191 M97.3576 254.117 L103.237 254.117 L103.237 276.64 L108.168 276.64 L108.168 280.529 L103.237 280.529 L103.237 288.677 L98.5845 288.677 L98.5845 280.529 L82.9827 280.529 L82.9827 276.015 L97.3576 254.117 Z\" fill=\"#000000\" fill-rule=\"evenodd\" fill-opacity=\"1\" /><path clip-path=\"url(#clip340)\" d=\"M 0 0 M123.237 257.195 Q119.626 257.195 117.797 260.76 Q115.992 264.302 115.992 271.431 Q115.992 278.538 117.797 282.103 Q119.626 285.644 123.237 285.644 Q126.871 285.644 128.677 282.103 Q130.506 278.538 130.506 271.431 Q130.506 264.302 128.677 260.76 Q126.871 257.195 123.237 257.195 M123.237 253.492 Q129.047 253.492 132.103 258.098 Q135.181 262.681 135.181 271.431 Q135.181 280.158 132.103 284.765 Q129.047 289.348 123.237 289.348 Q117.427 289.348 114.348 284.765 Q111.293 280.158 111.293 271.431 Q111.293 262.681 114.348 258.098 Q117.427 253.492 123.237 253.492 Z\" fill=\"#000000\" fill-rule=\"evenodd\" fill-opacity=\"1\" /><path clip-path=\"url(#clip340)\" d=\"M 0 0 M150.251 257.195 Q146.64 257.195 144.811 260.76 Q143.006 264.302 143.006 271.431 Q143.006 278.538 144.811 282.103 Q146.64 285.644 150.251 285.644 Q153.885 285.644 155.691 282.103 Q157.519 278.538 157.519 271.431 Q157.519 264.302 155.691 260.76 Q153.885 257.195 150.251 257.195 M150.251 253.492 Q156.061 253.492 159.117 258.098 Q162.195 262.681 162.195 271.431 Q162.195 280.158 159.117 284.765 Q156.061 289.348 150.251 289.348 Q144.441 289.348 141.362 284.765 Q138.306 280.158 138.306 271.431 Q138.306 262.681 141.362 258.098 Q144.441 253.492 150.251 253.492 Z\" fill=\"#000000\" fill-rule=\"evenodd\" fill-opacity=\"1\" /><polyline clip-path=\"url(#clip342)\" style=\"stroke:#009af9; stroke-width:4; stroke-opacity:1; fill:none\" points=\"\n",
       "  259.173,785.642 279.023,785.648 462.566,785.707 572.867,785.757 666.125,785.814 767.43,785.9 860.824,786.015 960.952,786.216 1076.96,786.701 1102.73,786.897 \n",
       "  1128.51,787.163 1154.28,787.541 1180.06,788.123 1191.36,788.49 1202.66,788.972 1213.96,789.631 1225.26,790.586 1230.91,791.246 1236.56,792.097 1242.21,793.237 \n",
       "  1247.86,794.843 1253.51,797.275 1259.16,801.393 1261.98,804.745 1264.81,809.873 1266.22,813.611 1267.63,818.696 1269.05,826.015 1270.46,837.458 1271.23,846.902 \n",
       "  1272,860.531 1272.77,881.918 1273.54,920.321 1274.31,1009.47 1275.08,1445.72 1275.85,87.9763 1276.62,557.187 1277.39,648.968 1278.16,688.097 1278.93,709.782 \n",
       "  1279.7,723.563 1281.24,740.079 1282.78,749.631 1284.32,755.856 1285.86,760.235 1287.4,763.483 1288.94,765.988 1292.02,769.599 1295.1,772.077 1301.26,775.256 \n",
       "  1307.42,777.21 1313.58,778.531 1319.74,779.485 1332.06,780.77 1344.38,781.595 1356.7,782.17 1369.03,782.593 1393.81,783.178 1418.6,783.561 1443.39,783.83 \n",
       "  1468.18,784.03 1577.8,784.521 1682.11,784.743 1790.56,784.878 1881.85,784.955 1993.31,785.022 2098.09,785.068 2265.95,785.122 2291.78,785.128 \n",
       "  \"/>\n",
       "<path clip-path=\"url(#clip340)\" d=\"\n",
       "M1990.52 216.178 L2280.94 216.178 L2280.94 95.2176 L1990.52 95.2176  Z\n",
       "  \" fill=\"#ffffff\" fill-rule=\"evenodd\" fill-opacity=\"1\"/>\n",
       "<polyline clip-path=\"url(#clip340)\" style=\"stroke:#000000; stroke-width:4; stroke-opacity:1; fill:none\" points=\"\n",
       "  1990.52,216.178 2280.94,216.178 2280.94,95.2176 1990.52,95.2176 1990.52,216.178 \n",
       "  \"/>\n",
       "<polyline clip-path=\"url(#clip340)\" style=\"stroke:#009af9; stroke-width:4; stroke-opacity:1; fill:none\" points=\"\n",
       "  2014.46,155.698 2158.1,155.698 \n",
       "  \"/>\n",
       "<path clip-path=\"url(#clip340)\" d=\"M 0 0 M2195.88 175.385 Q2194.08 180.015 2192.36 181.427 Q2190.65 182.839 2187.78 182.839 L2184.38 182.839 L2184.38 179.274 L2186.88 179.274 Q2188.64 179.274 2189.61 178.44 Q2190.58 177.607 2191.76 174.505 L2192.53 172.561 L2182.04 147.052 L2186.55 147.052 L2194.66 167.329 L2202.76 147.052 L2207.27 147.052 L2195.88 175.385 Z\" fill=\"#000000\" fill-rule=\"evenodd\" fill-opacity=\"1\" /><path clip-path=\"url(#clip340)\" d=\"M 0 0 M2213.15 169.042 L2220.79 169.042 L2220.79 142.677 L2212.48 144.343 L2212.48 140.084 L2220.74 138.418 L2225.42 138.418 L2225.42 169.042 L2233.06 169.042 L2233.06 172.978 L2213.15 172.978 L2213.15 169.042 Z\" fill=\"#000000\" fill-rule=\"evenodd\" fill-opacity=\"1\" /></svg>\n"
      ]
     },
     "execution_count": 22,
     "metadata": {},
     "output_type": "execute_result"
    }
   ],
   "source": [
    "plot(x -> 1/x)"
   ]
  },
  {
   "cell_type": "code",
   "execution_count": 23,
   "metadata": {},
   "outputs": [
    {
     "name": "stdout",
     "output_type": "stream",
     "text": [
      "Results of univariate zero finding:\n",
      "\n",
      "* Converged to: 0.0\n",
      "* Algorithm: Roots.BisectionExact()\n",
      "* iterations: 61\n",
      "* function evaluations: 63\n",
      "* stopped as x_n ≈ x_{n-1} using atol=xatol, rtol=xrtol\n",
      "* Note: Change of sign at xn identified. \n",
      "\n",
      "Trace:\n",
      "(a_0, b_0) = (-1.0000000000000000,  0.0000000000000000)\n",
      "(a_1, b_1) = (-0.0000000000000000,  0.0000000000000000)\n",
      "(a_2, b_2) = (-0.0000000000000000,  0.0000000000000000)\n",
      "(a_3, b_3) = (-0.0000000000000000,  0.0000000000000000)\n",
      "(a_4, b_4) = (-0.0000000000000000,  0.0000000000000000)\n",
      "(a_5, b_5) = (-0.0000000000000000,  0.0000000000000000)\n",
      "(a_6, b_6) = (-0.0000000000000000,  0.0000000000000000)\n",
      "(a_7, b_7) = (-0.0000000000000000,  0.0000000000000000)\n",
      "(a_8, b_8) = (-0.0000000000000000,  0.0000000000000000)\n",
      "(a_9, b_9) = (-0.0000000000000000,  0.0000000000000000)\n",
      "(a_10, b_10) = (-0.0000000000000000,  0.0000000000000000)\n",
      "(a_11, b_11) = (-0.0000000000000000,  0.0000000000000000)\n",
      "(a_12, b_12) = (-0.0000000000000000,  0.0000000000000000)\n",
      "(a_13, b_13) = (-0.0000000000000000,  0.0000000000000000)\n",
      "(a_14, b_14) = (-0.0000000000000000,  0.0000000000000000)\n",
      "(a_15, b_15) = (-0.0000000000000000,  0.0000000000000000)\n",
      "(a_16, b_16) = (-0.0000000000000000,  0.0000000000000000)\n",
      "(a_17, b_17) = (-0.0000000000000000,  0.0000000000000000)\n",
      "(a_18, b_18) = (-0.0000000000000000,  0.0000000000000000)\n",
      "(a_19, b_19) = (-0.0000000000000000,  0.0000000000000000)\n",
      "(a_20, b_20) = (-0.0000000000000000,  0.0000000000000000)\n",
      "(a_21, b_21) = (-0.0000000000000000,  0.0000000000000000)\n",
      "(a_22, b_22) = (-0.0000000000000000,  0.0000000000000000)\n",
      "(a_23, b_23) = (-0.0000000000000000,  0.0000000000000000)\n",
      "(a_24, b_24) = (-0.0000000000000000,  0.0000000000000000)\n",
      "(a_25, b_25) = (-0.0000000000000000,  0.0000000000000000)\n",
      "(a_26, b_26) = (-0.0000000000000000,  0.0000000000000000)\n",
      "(a_27, b_27) = (-0.0000000000000000,  0.0000000000000000)\n",
      "(a_28, b_28) = (-0.0000000000000000,  0.0000000000000000)\n",
      "(a_29, b_29) = (-0.0000000000000000,  0.0000000000000000)\n",
      "(a_30, b_30) = (-0.0000000000000000,  0.0000000000000000)\n",
      "(a_31, b_31) = (-0.0000000000000000,  0.0000000000000000)\n",
      "(a_32, b_32) = (-0.0000000000000000,  0.0000000000000000)\n",
      "(a_33, b_33) = (-0.0000000000000000,  0.0000000000000000)\n",
      "(a_34, b_34) = (-0.0000000000000000,  0.0000000000000000)\n",
      "(a_35, b_35) = (-0.0000000000000000,  0.0000000000000000)\n",
      "(a_36, b_36) = (-0.0000000000000000,  0.0000000000000000)\n",
      "(a_37, b_37) = (-0.0000000000000000,  0.0000000000000000)\n",
      "(a_38, b_38) = (-0.0000000000000000,  0.0000000000000000)\n",
      "(a_39, b_39) = (-0.0000000000000000,  0.0000000000000000)\n",
      "(a_40, b_40) = (-0.0000000000000000,  0.0000000000000000)\n",
      "(a_41, b_41) = (-0.0000000000000000,  0.0000000000000000)\n",
      "(a_42, b_42) = (-0.0000000000000000,  0.0000000000000000)\n",
      "(a_43, b_43) = (-0.0000000000000000,  0.0000000000000000)\n",
      "(a_44, b_44) = (-0.0000000000000000,  0.0000000000000000)\n",
      "(a_45, b_45) = (-0.0000000000000000,  0.0000000000000000)\n",
      "(a_46, b_46) = (-0.0000000000000000,  0.0000000000000000)\n",
      "(a_47, b_47) = (-0.0000000000000000,  0.0000000000000000)\n",
      "(a_48, b_48) = (-0.0000000000000000,  0.0000000000000000)\n",
      "(a_49, b_49) = (-0.0000000000000000,  0.0000000000000000)\n",
      "(a_50, b_50) = (-0.0000000000000000,  0.0000000000000000)\n",
      "(a_51, b_51) = (-0.0000000000000000,  0.0000000000000000)\n",
      "(a_52, b_52) = (-0.0000000000000000,  0.0000000000000000)\n",
      "(a_53, b_53) = (-0.0000000000000000,  0.0000000000000000)\n",
      "(a_54, b_54) = (-0.0000000000000000,  0.0000000000000000)\n",
      "(a_55, b_55) = (-0.0000000000000000,  0.0000000000000000)\n",
      "(a_56, b_56) = (-0.0000000000000000,  0.0000000000000000)\n",
      "(a_57, b_57) = (-0.0000000000000000,  0.0000000000000000)\n",
      "(a_58, b_58) = (-0.0000000000000000,  0.0000000000000000)\n",
      "(a_59, b_59) = (-0.0000000000000000,  0.0000000000000000)\n",
      "(a_60, b_60) = (-0.0000000000000000,  0.0000000000000000)\n",
      "(a_61, b_61) = (-0.0000000000000000,  0.0000000000000000)\n",
      "\n"
     ]
    },
    {
     "data": {
      "text/plain": [
       "0.0"
      ]
     },
     "execution_count": 23,
     "metadata": {},
     "output_type": "execute_result"
    }
   ],
   "source": [
    "find_zero(x -> 1/x, (-1, 1), verbose=true)"
   ]
  },
  {
   "cell_type": "markdown",
   "metadata": {},
   "source": [
    "find_zeros - szukanie więcej niż jednego pierwiastka. Wykorzystuje podział przedziału na mniejsze podprzedziały"
   ]
  },
  {
   "cell_type": "code",
   "execution_count": 24,
   "metadata": {},
   "outputs": [
    {
     "data": {
      "text/plain": [
       "2-element Array{Float64,1}:\n",
       " 0.0\n",
       " 3.0"
      ]
     },
     "execution_count": 24,
     "metadata": {},
     "output_type": "execute_result"
    }
   ],
   "source": [
    "find_zeros(x ->(x-3)*x, -10, 10)"
   ]
  },
  {
   "cell_type": "code",
   "execution_count": 25,
   "metadata": {
    "scrolled": true
   },
   "outputs": [
    {
     "data": {
      "image/svg+xml": [
       "<?xml version=\"1.0\" encoding=\"utf-8\"?>\n",
       "<svg xmlns=\"http://www.w3.org/2000/svg\" xmlns:xlink=\"http://www.w3.org/1999/xlink\" width=\"600\" height=\"400\" viewBox=\"0 0 2400 1600\">\n",
       "<defs>\n",
       "  <clipPath id=\"clip380\">\n",
       "    <rect x=\"0\" y=\"0\" width=\"2400\" height=\"1600\"/>\n",
       "  </clipPath>\n",
       "</defs>\n",
       "<path clip-path=\"url(#clip380)\" d=\"\n",
       "M0 1600 L2400 1600 L2400 0 L0 0  Z\n",
       "  \" fill=\"#ffffff\" fill-rule=\"evenodd\" fill-opacity=\"1\"/>\n",
       "<defs>\n",
       "  <clipPath id=\"clip381\">\n",
       "    <rect x=\"480\" y=\"0\" width=\"1681\" height=\"1600\"/>\n",
       "  </clipPath>\n",
       "</defs>\n",
       "<path clip-path=\"url(#clip380)\" d=\"\n",
       "M142.455 1486.45 L2352.76 1486.45 L2352.76 47.2441 L142.455 47.2441  Z\n",
       "  \" fill=\"#ffffff\" fill-rule=\"evenodd\" fill-opacity=\"1\"/>\n",
       "<defs>\n",
       "  <clipPath id=\"clip382\">\n",
       "    <rect x=\"142\" y=\"47\" width=\"2211\" height=\"1440\"/>\n",
       "  </clipPath>\n",
       "</defs>\n",
       "<polyline clip-path=\"url(#clip382)\" style=\"stroke:#000000; stroke-width:2; stroke-opacity:0.1; fill:none\" points=\"\n",
       "  205.01,1486.45 205.01,47.2441 \n",
       "  \"/>\n",
       "<polyline clip-path=\"url(#clip382)\" style=\"stroke:#000000; stroke-width:2; stroke-opacity:0.1; fill:none\" points=\"\n",
       "  622.048,1486.45 622.048,47.2441 \n",
       "  \"/>\n",
       "<polyline clip-path=\"url(#clip382)\" style=\"stroke:#000000; stroke-width:2; stroke-opacity:0.1; fill:none\" points=\"\n",
       "  1039.09,1486.45 1039.09,47.2441 \n",
       "  \"/>\n",
       "<polyline clip-path=\"url(#clip382)\" style=\"stroke:#000000; stroke-width:2; stroke-opacity:0.1; fill:none\" points=\"\n",
       "  1456.12,1486.45 1456.12,47.2441 \n",
       "  \"/>\n",
       "<polyline clip-path=\"url(#clip382)\" style=\"stroke:#000000; stroke-width:2; stroke-opacity:0.1; fill:none\" points=\"\n",
       "  1873.16,1486.45 1873.16,47.2441 \n",
       "  \"/>\n",
       "<polyline clip-path=\"url(#clip382)\" style=\"stroke:#000000; stroke-width:2; stroke-opacity:0.1; fill:none\" points=\"\n",
       "  2290.2,1486.45 2290.2,47.2441 \n",
       "  \"/>\n",
       "<polyline clip-path=\"url(#clip380)\" style=\"stroke:#000000; stroke-width:4; stroke-opacity:1; fill:none\" points=\"\n",
       "  142.455,1486.45 2352.76,1486.45 \n",
       "  \"/>\n",
       "<polyline clip-path=\"url(#clip380)\" style=\"stroke:#000000; stroke-width:4; stroke-opacity:1; fill:none\" points=\"\n",
       "  205.01,1486.45 205.01,1469.18 \n",
       "  \"/>\n",
       "<polyline clip-path=\"url(#clip380)\" style=\"stroke:#000000; stroke-width:4; stroke-opacity:1; fill:none\" points=\"\n",
       "  622.048,1486.45 622.048,1469.18 \n",
       "  \"/>\n",
       "<polyline clip-path=\"url(#clip380)\" style=\"stroke:#000000; stroke-width:4; stroke-opacity:1; fill:none\" points=\"\n",
       "  1039.09,1486.45 1039.09,1469.18 \n",
       "  \"/>\n",
       "<polyline clip-path=\"url(#clip380)\" style=\"stroke:#000000; stroke-width:4; stroke-opacity:1; fill:none\" points=\"\n",
       "  1456.12,1486.45 1456.12,1469.18 \n",
       "  \"/>\n",
       "<polyline clip-path=\"url(#clip380)\" style=\"stroke:#000000; stroke-width:4; stroke-opacity:1; fill:none\" points=\"\n",
       "  1873.16,1486.45 1873.16,1469.18 \n",
       "  \"/>\n",
       "<polyline clip-path=\"url(#clip380)\" style=\"stroke:#000000; stroke-width:4; stroke-opacity:1; fill:none\" points=\"\n",
       "  2290.2,1486.45 2290.2,1469.18 \n",
       "  \"/>\n",
       "<path clip-path=\"url(#clip380)\" d=\"M 0 0 M177.279 1530.29 L206.955 1530.29 L206.955 1534.23 L177.279 1534.23 L177.279 1530.29 Z\" fill=\"#000000\" fill-rule=\"evenodd\" fill-opacity=\"1\" /><path clip-path=\"url(#clip380)\" d=\"M 0 0 M212.835 1543.18 L220.473 1543.18 L220.473 1516.82 L212.163 1518.49 L212.163 1514.23 L220.427 1512.56 L225.103 1512.56 L225.103 1543.18 L232.742 1543.18 L232.742 1547.12 L212.835 1547.12 L212.835 1543.18 Z\" fill=\"#000000\" fill-rule=\"evenodd\" fill-opacity=\"1\" /><path clip-path=\"url(#clip380)\" d=\"M 0 0 M622.048 1515.64 Q618.437 1515.64 616.609 1519.2 Q614.803 1522.75 614.803 1529.87 Q614.803 1536.98 616.609 1540.55 Q618.437 1544.09 622.048 1544.09 Q625.683 1544.09 627.488 1540.55 Q629.317 1536.98 629.317 1529.87 Q629.317 1522.75 627.488 1519.2 Q625.683 1515.64 622.048 1515.64 M622.048 1511.93 Q627.859 1511.93 630.914 1516.54 Q633.993 1521.12 633.993 1529.87 Q633.993 1538.6 630.914 1543.21 Q627.859 1547.79 622.048 1547.79 Q616.238 1547.79 613.16 1543.21 Q610.104 1538.6 610.104 1529.87 Q610.104 1521.12 613.16 1516.54 Q616.238 1511.93 622.048 1511.93 Z\" fill=\"#000000\" fill-rule=\"evenodd\" fill-opacity=\"1\" /><path clip-path=\"url(#clip380)\" d=\"M 0 0 M1029.47 1543.18 L1037.11 1543.18 L1037.11 1516.82 L1028.8 1518.49 L1028.8 1514.23 L1037.06 1512.56 L1041.74 1512.56 L1041.74 1543.18 L1049.38 1543.18 L1049.38 1547.12 L1029.47 1547.12 L1029.47 1543.18 Z\" fill=\"#000000\" fill-rule=\"evenodd\" fill-opacity=\"1\" /><path clip-path=\"url(#clip380)\" d=\"M 0 0 M1450.78 1543.18 L1467.1 1543.18 L1467.1 1547.12 L1445.15 1547.12 L1445.15 1543.18 Q1447.81 1540.43 1452.4 1535.8 Q1457 1531.15 1458.18 1529.81 Q1460.43 1527.28 1461.31 1525.55 Q1462.21 1523.79 1462.21 1522.1 Q1462.21 1519.34 1460.27 1517.61 Q1458.35 1515.87 1455.24 1515.87 Q1453.05 1515.87 1450.59 1516.63 Q1448.16 1517.4 1445.38 1518.95 L1445.38 1514.23 Q1448.21 1513.09 1450.66 1512.51 Q1453.12 1511.93 1455.15 1511.93 Q1460.52 1511.93 1463.72 1514.62 Q1466.91 1517.31 1466.91 1521.8 Q1466.91 1523.93 1466.1 1525.85 Q1465.31 1527.74 1463.21 1530.34 Q1462.63 1531.01 1459.53 1534.23 Q1456.43 1537.42 1450.78 1543.18 Z\" fill=\"#000000\" fill-rule=\"evenodd\" fill-opacity=\"1\" /><path clip-path=\"url(#clip380)\" d=\"M 0 0 M1877.41 1528.49 Q1880.77 1529.2 1882.64 1531.47 Q1884.54 1533.74 1884.54 1537.07 Q1884.54 1542.19 1881.02 1544.99 Q1877.5 1547.79 1871.02 1547.79 Q1868.85 1547.79 1866.53 1547.35 Q1864.24 1546.93 1861.79 1546.08 L1861.79 1541.56 Q1863.73 1542.7 1866.04 1543.28 Q1868.36 1543.86 1870.88 1543.86 Q1875.28 1543.86 1877.57 1542.12 Q1879.89 1540.38 1879.89 1537.07 Q1879.89 1534.02 1877.73 1532.31 Q1875.6 1530.57 1871.78 1530.57 L1867.76 1530.57 L1867.76 1526.73 L1871.97 1526.73 Q1875.42 1526.73 1877.25 1525.36 Q1879.08 1523.97 1879.08 1521.38 Q1879.08 1518.72 1877.18 1517.31 Q1875.3 1515.87 1871.78 1515.87 Q1869.86 1515.87 1867.66 1516.29 Q1865.47 1516.7 1862.83 1517.58 L1862.83 1513.42 Q1865.49 1512.68 1867.8 1512.31 Q1870.14 1511.93 1872.2 1511.93 Q1877.53 1511.93 1880.63 1514.37 Q1883.73 1516.77 1883.73 1520.89 Q1883.73 1523.76 1882.09 1525.75 Q1880.44 1527.72 1877.41 1528.49 Z\" fill=\"#000000\" fill-rule=\"evenodd\" fill-opacity=\"1\" /><path clip-path=\"url(#clip380)\" d=\"M 0 0 M2293.21 1516.63 L2281.4 1535.08 L2293.21 1535.08 L2293.21 1516.63 M2291.98 1512.56 L2297.86 1512.56 L2297.86 1535.08 L2302.79 1535.08 L2302.79 1538.97 L2297.86 1538.97 L2297.86 1547.12 L2293.21 1547.12 L2293.21 1538.97 L2277.61 1538.97 L2277.61 1534.46 L2291.98 1512.56 Z\" fill=\"#000000\" fill-rule=\"evenodd\" fill-opacity=\"1\" /><polyline clip-path=\"url(#clip382)\" style=\"stroke:#000000; stroke-width:2; stroke-opacity:0.1; fill:none\" points=\"\n",
       "  142.455,1391.44 2352.76,1391.44 \n",
       "  \"/>\n",
       "<polyline clip-path=\"url(#clip382)\" style=\"stroke:#000000; stroke-width:2; stroke-opacity:0.1; fill:none\" points=\"\n",
       "  142.455,1174.19 2352.76,1174.19 \n",
       "  \"/>\n",
       "<polyline clip-path=\"url(#clip382)\" style=\"stroke:#000000; stroke-width:2; stroke-opacity:0.1; fill:none\" points=\"\n",
       "  142.455,956.951 2352.76,956.951 \n",
       "  \"/>\n",
       "<polyline clip-path=\"url(#clip382)\" style=\"stroke:#000000; stroke-width:2; stroke-opacity:0.1; fill:none\" points=\"\n",
       "  142.455,739.707 2352.76,739.707 \n",
       "  \"/>\n",
       "<polyline clip-path=\"url(#clip382)\" style=\"stroke:#000000; stroke-width:2; stroke-opacity:0.1; fill:none\" points=\"\n",
       "  142.455,522.463 2352.76,522.463 \n",
       "  \"/>\n",
       "<polyline clip-path=\"url(#clip382)\" style=\"stroke:#000000; stroke-width:2; stroke-opacity:0.1; fill:none\" points=\"\n",
       "  142.455,305.22 2352.76,305.22 \n",
       "  \"/>\n",
       "<polyline clip-path=\"url(#clip382)\" style=\"stroke:#000000; stroke-width:2; stroke-opacity:0.1; fill:none\" points=\"\n",
       "  142.455,87.9763 2352.76,87.9763 \n",
       "  \"/>\n",
       "<polyline clip-path=\"url(#clip380)\" style=\"stroke:#000000; stroke-width:4; stroke-opacity:1; fill:none\" points=\"\n",
       "  142.455,1486.45 142.455,47.2441 \n",
       "  \"/>\n",
       "<polyline clip-path=\"url(#clip380)\" style=\"stroke:#000000; stroke-width:4; stroke-opacity:1; fill:none\" points=\"\n",
       "  142.455,1391.44 168.978,1391.44 \n",
       "  \"/>\n",
       "<polyline clip-path=\"url(#clip380)\" style=\"stroke:#000000; stroke-width:4; stroke-opacity:1; fill:none\" points=\"\n",
       "  142.455,1174.19 168.978,1174.19 \n",
       "  \"/>\n",
       "<polyline clip-path=\"url(#clip380)\" style=\"stroke:#000000; stroke-width:4; stroke-opacity:1; fill:none\" points=\"\n",
       "  142.455,956.951 168.978,956.951 \n",
       "  \"/>\n",
       "<polyline clip-path=\"url(#clip380)\" style=\"stroke:#000000; stroke-width:4; stroke-opacity:1; fill:none\" points=\"\n",
       "  142.455,739.707 168.978,739.707 \n",
       "  \"/>\n",
       "<polyline clip-path=\"url(#clip380)\" style=\"stroke:#000000; stroke-width:4; stroke-opacity:1; fill:none\" points=\"\n",
       "  142.455,522.463 168.978,522.463 \n",
       "  \"/>\n",
       "<polyline clip-path=\"url(#clip380)\" style=\"stroke:#000000; stroke-width:4; stroke-opacity:1; fill:none\" points=\"\n",
       "  142.455,305.22 168.978,305.22 \n",
       "  \"/>\n",
       "<polyline clip-path=\"url(#clip380)\" style=\"stroke:#000000; stroke-width:4; stroke-opacity:1; fill:none\" points=\"\n",
       "  142.455,87.9763 168.978,87.9763 \n",
       "  \"/>\n",
       "<path clip-path=\"url(#clip380)\" d=\"M 0 0 M51.3625 1391.89 L81.0383 1391.89 L81.0383 1395.82 L51.3625 1395.82 L51.3625 1391.89 Z\" fill=\"#000000\" fill-rule=\"evenodd\" fill-opacity=\"1\" /><path clip-path=\"url(#clip380)\" d=\"M 0 0 M90.1354 1404.78 L106.455 1404.78 L106.455 1408.72 L84.5105 1408.72 L84.5105 1404.78 Q87.1725 1402.03 91.7558 1397.4 Q96.3623 1392.75 97.5428 1391.4 Q99.7882 1388.88 100.668 1387.14 Q101.571 1385.38 101.571 1383.69 Q101.571 1380.94 99.6261 1379.2 Q97.7048 1377.47 94.603 1377.47 Q92.4039 1377.47 89.9503 1378.23 Q87.5197 1379 84.7419 1380.55 L84.7419 1375.82 Q87.566 1374.69 90.0197 1374.11 Q92.4734 1373.53 94.5104 1373.53 Q99.8808 1373.53 103.075 1376.22 Q106.27 1378.9 106.27 1383.39 Q106.27 1385.52 105.459 1387.44 Q104.672 1389.34 102.566 1391.94 Q101.987 1392.61 98.8854 1395.82 Q95.7836 1399.02 90.1354 1404.78 Z\" fill=\"#000000\" fill-rule=\"evenodd\" fill-opacity=\"1\" /><path clip-path=\"url(#clip380)\" d=\"M 0 0 M50.9921 1174.65 L80.6679 1174.65 L80.6679 1178.58 L50.9921 1178.58 L50.9921 1174.65 Z\" fill=\"#000000\" fill-rule=\"evenodd\" fill-opacity=\"1\" /><path clip-path=\"url(#clip380)\" d=\"M 0 0 M86.5475 1187.54 L94.1863 1187.54 L94.1863 1161.17 L85.8762 1162.84 L85.8762 1158.58 L94.14 1156.91 L98.8159 1156.91 L98.8159 1187.54 L106.455 1187.54 L106.455 1191.47 L86.5475 1191.47 L86.5475 1187.54 Z\" fill=\"#000000\" fill-rule=\"evenodd\" fill-opacity=\"1\" /><path clip-path=\"url(#clip380)\" d=\"M 0 0 M94.5104 942.749 Q90.8993 942.749 89.0706 946.314 Q87.2651 949.856 87.2651 956.985 Q87.2651 964.092 89.0706 967.657 Q90.8993 971.198 94.5104 971.198 Q98.1447 971.198 99.9502 967.657 Q101.779 964.092 101.779 956.985 Q101.779 949.856 99.9502 946.314 Q98.1447 942.749 94.5104 942.749 M94.5104 939.046 Q100.321 939.046 103.376 943.652 Q106.455 948.235 106.455 956.985 Q106.455 965.712 103.376 970.319 Q100.321 974.902 94.5104 974.902 Q88.7003 974.902 85.6216 970.319 Q82.566 965.712 82.566 956.985 Q82.566 948.235 85.6216 943.652 Q88.7003 939.046 94.5104 939.046 Z\" fill=\"#000000\" fill-rule=\"evenodd\" fill-opacity=\"1\" /><path clip-path=\"url(#clip380)\" d=\"M 0 0 M86.5475 753.052 L94.1863 753.052 L94.1863 726.686 L85.8762 728.353 L85.8762 724.094 L94.14 722.427 L98.8159 722.427 L98.8159 753.052 L106.455 753.052 L106.455 756.987 L86.5475 756.987 L86.5475 753.052 Z\" fill=\"#000000\" fill-rule=\"evenodd\" fill-opacity=\"1\" /><path clip-path=\"url(#clip380)\" d=\"M 0 0 M90.1354 535.808 L106.455 535.808 L106.455 539.743 L84.5105 539.743 L84.5105 535.808 Q87.1725 533.054 91.7558 528.424 Q96.3623 523.771 97.5428 522.429 Q99.7882 519.906 100.668 518.17 Q101.571 516.41 101.571 514.72 Q101.571 511.966 99.6261 510.23 Q97.7048 508.494 94.603 508.494 Q92.4039 508.494 89.9503 509.258 Q87.5197 510.021 84.7419 511.572 L84.7419 506.85 Q87.566 505.716 90.0197 505.137 Q92.4734 504.558 94.5104 504.558 Q99.8808 504.558 103.075 507.244 Q106.27 509.929 106.27 514.42 Q106.27 516.549 105.459 518.47 Q104.672 520.369 102.566 522.961 Q101.987 523.632 98.8854 526.85 Q95.7836 530.044 90.1354 535.808 Z\" fill=\"#000000\" fill-rule=\"evenodd\" fill-opacity=\"1\" /><path clip-path=\"url(#clip380)\" d=\"M 0 0 M99.3252 303.866 Q102.682 304.583 104.557 306.852 Q106.455 309.12 106.455 312.454 Q106.455 317.569 102.936 320.37 Q99.4178 323.171 92.9363 323.171 Q90.7604 323.171 88.4456 322.731 Q86.154 322.315 83.7003 321.458 L83.7003 316.944 Q85.6447 318.079 87.9595 318.657 Q90.2743 319.236 92.7975 319.236 Q97.1956 319.236 99.4872 317.5 Q101.802 315.764 101.802 312.454 Q101.802 309.398 99.6493 307.685 Q97.5197 305.949 93.7002 305.949 L89.6725 305.949 L89.6725 302.106 L93.8854 302.106 Q97.3345 302.106 99.1632 300.741 Q100.992 299.352 100.992 296.759 Q100.992 294.097 99.0937 292.685 Q97.2187 291.25 93.7002 291.25 Q91.7789 291.25 89.5799 291.667 Q87.3808 292.083 84.7419 292.963 L84.7419 288.796 Q87.404 288.056 89.7188 287.685 Q92.0567 287.315 94.1169 287.315 Q99.4409 287.315 102.543 289.745 Q105.645 292.153 105.645 296.273 Q105.645 299.144 104.001 301.134 Q102.358 303.102 99.3252 303.866 Z\" fill=\"#000000\" fill-rule=\"evenodd\" fill-opacity=\"1\" /><path clip-path=\"url(#clip380)\" d=\"M 0 0 M96.8715 74.7703 L85.066 93.2193 L96.8715 93.2193 L96.8715 74.7703 M95.6447 70.6963 L101.524 70.6963 L101.524 93.2193 L106.455 93.2193 L106.455 97.1082 L101.524 97.1082 L101.524 105.256 L96.8715 105.256 L96.8715 97.1082 L81.2697 97.1082 L81.2697 92.5943 L95.6447 70.6963 Z\" fill=\"#000000\" fill-rule=\"evenodd\" fill-opacity=\"1\" /><polyline clip-path=\"url(#clip382)\" style=\"stroke:#009af9; stroke-width:4; stroke-opacity:1; fill:none\" points=\"\n",
       "  205.01,87.9763 215.192,114.366 225.374,140.497 319.519,369.848 413.665,577.056 470.242,690.928 526.82,796.803 574.655,880.081 622.491,957.642 674.454,1035.42 \n",
       "  726.416,1106.45 774.321,1165.95 822.226,1219.73 873.586,1271.01 924.945,1315.71 984.45,1359.25 1043.95,1393.94 1096.84,1417.35 1149.72,1433.78 1196.09,1442.43 \n",
       "  1242.46,1445.72 1293.02,1443.17 1343.58,1434.24 1394.43,1418.82 1445.29,1396.93 1501.52,1365.22 1557.75,1325.6 1611.25,1280.57 1664.75,1228.39 1720.38,1166.55 \n",
       "  1776.01,1096.98 1822.84,1032.43 1869.67,962.394 1926.84,869.465 1984.01,768.37 2037.76,665.892 2091.5,556.198 2177.6,365.421 2263.7,156.123 2276.95,122.269 \n",
       "  2290.2,87.9763 \n",
       "  \"/>\n",
       "<path clip-path=\"url(#clip380)\" d=\"\n",
       "M1982.47 216.178 L2279.08 216.178 L2279.08 95.2176 L1982.47 95.2176  Z\n",
       "  \" fill=\"#ffffff\" fill-rule=\"evenodd\" fill-opacity=\"1\"/>\n",
       "<polyline clip-path=\"url(#clip380)\" style=\"stroke:#000000; stroke-width:4; stroke-opacity:1; fill:none\" points=\"\n",
       "  1982.47,216.178 2279.08,216.178 2279.08,95.2176 1982.47,95.2176 1982.47,216.178 \n",
       "  \"/>\n",
       "<polyline clip-path=\"url(#clip380)\" style=\"stroke:#009af9; stroke-width:4; stroke-opacity:1; fill:none\" points=\"\n",
       "  2007.03,155.698 2154.38,155.698 \n",
       "  \"/>\n",
       "<path clip-path=\"url(#clip380)\" d=\"M 0 0 M2192.79 175.385 Q2190.98 180.015 2189.27 181.427 Q2187.55 182.839 2184.68 182.839 L2181.28 182.839 L2181.28 179.274 L2183.78 179.274 Q2185.54 179.274 2186.51 178.44 Q2187.48 177.607 2188.67 174.505 L2189.43 172.561 L2178.94 147.052 L2183.46 147.052 L2191.56 167.329 L2199.66 147.052 L2204.17 147.052 L2192.79 175.385 Z\" fill=\"#000000\" fill-rule=\"evenodd\" fill-opacity=\"1\" /><path clip-path=\"url(#clip380)\" d=\"M 0 0 M2210.05 169.042 L2217.69 169.042 L2217.69 142.677 L2209.38 144.343 L2209.38 140.084 L2217.65 138.418 L2222.32 138.418 L2222.32 169.042 L2229.96 169.042 L2229.96 172.978 L2210.05 172.978 L2210.05 169.042 Z\" fill=\"#000000\" fill-rule=\"evenodd\" fill-opacity=\"1\" /></svg>\n"
      ]
     },
     "execution_count": 25,
     "metadata": {},
     "output_type": "execute_result"
    }
   ],
   "source": [
    "plot(x ->(x-3)*x,-1,4)"
   ]
  },
  {
   "cell_type": "markdown",
   "metadata": {},
   "source": [
    "Więcej na https://github.com/JuliaMath/Roots.jl/blob/master/doc/roots.ipynb"
   ]
  },
  {
   "cell_type": "markdown",
   "metadata": {},
   "source": [
    "### Zadanie:\n",
    "\n",
    "A. Wybrać trzy metody poszukiwania pierwiastków: \n",
    "\n",
    "* wykorzystującą przedział i zmianę znaku, \n",
    "* wykorzystującą pochodną, \n",
    "* wykorzystującą przybliżenie pochodnej\n",
    "\n",
    "    1. Każdą z trzech wybranych metod przetestować (ilość iteracji, ilość wywołań funkcji) na sześciu wybranych  funkcjach ze zbioru http://people.sc.fsu.edu/~jburkardt/py_src/test_zero/test_zero.html Wyniki przedstawić w formie tabelki. <b>Pamiętać o sprawdzeniu czy wynik jest poprawny poprzez obliczenie wartości funkcji dla znalezionego pierwiastka !</b> (3 pkt)\n",
    "\n",
    "    2. Zademonstrować wybrany, ciekawy przykład trudnej funkcji z p.1 i działania metod na niej. (1 pkt)\n",
    "\n",
    "    3. Dla każdej z wybranych metod zademonstrować i wyjaśnić po jednym  przykładzie, dla którego nie działają (można na podstawie p.1 lub wymyślić własny)(1 pkt)\n",
    "\n",
    "B. Narysować <a href=\"https://pl.wikipedia.org/wiki/Wst%C4%99ga_Newtona\"> wstegę Newtona </a> i objaśnić, w jaki sposób powstała i jaki jest jej związek z metodą Newtona do znajdowania pierwiastków. Sposób i język - dowolny. (1 pkt)"
   ]
  },
  {
   "cell_type": "code",
   "execution_count": null,
   "metadata": {},
   "outputs": [],
   "source": []
  }
 ],
 "metadata": {
  "kernelspec": {
   "display_name": "Julia 1.5.3",
   "language": "julia",
   "name": "julia-1.5"
  },
  "language_info": {
   "file_extension": ".jl",
   "mimetype": "application/julia",
   "name": "julia",
   "version": "1.5.3"
  }
 },
 "nbformat": 4,
 "nbformat_minor": 2
}
