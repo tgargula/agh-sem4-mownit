{
 "cells": [
  {
   "cell_type": "markdown",
   "metadata": {},
   "source": [
    "## Zadanie A"
   ]
  },
  {
   "cell_type": "markdown",
   "metadata": {},
   "source": [
    "### Zadanie 1"
   ]
  },
  {
   "cell_type": "code",
   "execution_count": 36,
   "metadata": {},
   "outputs": [],
   "source": [
    "using Roots\n",
    "using Plots\n",
    "using ForwardDiff\n",
    "using DataFrames"
   ]
  },
  {
   "cell_type": "code",
   "execution_count": 37,
   "metadata": {},
   "outputs": [],
   "source": [
    "fv = [\n",
    "    x -> sin(x) - x / 2,\n",
    "    x -> exp(x) - 1 / (10 * x) ^ 2,\n",
    "    x -> (x + 3) * (x - 1) ^ 2,\n",
    "    x -> x ^ 3 - 2 * x - 5,\n",
    "    x -> x * exp(-x),\n",
    "    x -> cos(x) - x\n",
    "];"
   ]
  },
  {
   "cell_type": "code",
   "execution_count": 38,
   "metadata": {},
   "outputs": [],
   "source": [
    "dfv = [x -> ForwardDiff.derivative(f, float(x)) for f in fv];"
   ]
  },
  {
   "cell_type": "code",
   "execution_count": 39,
   "metadata": {},
   "outputs": [],
   "source": [
    "limv = [\n",
    "    (1, 3),\n",
    "    (-0.15, 0),\n",
    "    (-4, 2),\n",
    "    (-2, 4),\n",
    "    (-4, 4),\n",
    "    (-4, 4)\n",
    "];"
   ]
  },
  {
   "cell_type": "code",
   "execution_count": 40,
   "metadata": {},
   "outputs": [
    {
     "name": "stdout",
     "output_type": "stream",
     "text": [
      "[1.895494267033981, -0.1054119671030927, -3.0, 2.094551481542327, 0.0, 0.7390851332151607]\n",
      "[1.895494267033981, -0.10541196710309271, -3.0, 2.0945514815423265, -5.901739800109785e-24, 0.7390851332151607]\n",
      "[1.895494267033981, -0.1054119671030927, -3.0, 2.0945514815423265, -9.591945638057392e-19, 0.7390851332151607]\n"
     ]
    }
   ],
   "source": [
    "bisection = Array{Float64}(undef, 0)\n",
    "newton = Array{Float64}(undef, 0)\n",
    "secant = Array{Float64}(undef, 0)\n",
    "for i in 1:6\n",
    "    result = find_zero(fv[i], limv[i], Bisection())\n",
    "    append!(bisection, result)\n",
    "    result = find_zero((fv[i], dfv[i]), limv[i][1], Roots.Newton())\n",
    "    append!(newton, result)\n",
    "    result = find_zero(fv[i], limv[i][1], Order1())\n",
    "    append!(secant, result)\n",
    "end\n",
    "println(bisection)\n",
    "println(newton)\n",
    "println(secant)"
   ]
  },
  {
   "cell_type": "markdown",
   "metadata": {},
   "source": [
    "W komórce poniżej wypisałem listę krotek w postaci (liczba iteracji, liczba wywołań funkcji). Dane te zostały przepisane z raportu wywołanego z funkcji `find_zero` razem z parametrem `verbose` ustawionym na `true`. Wywołanie funkcji jest analogiczne do tych powyżej."
   ]
  },
  {
   "cell_type": "code",
   "execution_count": 41,
   "metadata": {},
   "outputs": [],
   "source": [
    "data_bisection = [(51, 53), (62, 64), (60, 62), (62, 64), (0, 3), (59, 61)]\n",
    "data_newton = [(14, 29), (7, 15), (6, 13), (8, 17), (11, 23), (9, 19)]\n",
    "data_secant = [(10, 12), (10, 12), (8, 10), (20, 22), (15, 17), (10, 12)];"
   ]
  },
  {
   "cell_type": "code",
   "execution_count": 42,
   "metadata": {},
   "outputs": [
    {
     "data": {
      "text/plain": [
       "isCorrectZero (generic function with 1 method)"
      ]
     },
     "execution_count": 42,
     "metadata": {},
     "output_type": "execute_result"
    }
   ],
   "source": [
    "function isCorrectZero(f, x)\n",
    "    sign(f(prevfloat(x))) * sign(f(nextfloat(x))) == -1 || iszero(f(x))\n",
    "end"
   ]
  },
  {
   "cell_type": "code",
   "execution_count": 43,
   "metadata": {},
   "outputs": [
    {
     "data": {
      "text/html": [
       "<table class=\"data-frame\"><thead><tr><th></th><th>bisection_x</th><th>bisection_correct</th><th>bisection_it</th><th>bisection_fev</th><th>newton_x</th><th>newton_correct</th><th>newton_it</th><th>newton_fev</th><th>secant_x</th><th>secant_correct</th><th>secant_it</th><th>secant_fev</th></tr><tr><th></th><th>Float64</th><th>Bool</th><th>Int64</th><th>Int64</th><th>Float64</th><th>Bool</th><th>Int64</th><th>Int64</th><th>Float64</th><th>Bool</th><th>Int64</th><th>Int64</th></tr></thead><tbody><p>6 rows × 12 columns</p><tr><th>1</th><td>1.89549</td><td>1</td><td>51</td><td>53</td><td>1.89549</td><td>1</td><td>14</td><td>29</td><td>1.89549</td><td>1</td><td>10</td><td>12</td></tr><tr><th>2</th><td>-0.105412</td><td>1</td><td>62</td><td>64</td><td>-0.105412</td><td>1</td><td>7</td><td>15</td><td>-0.105412</td><td>1</td><td>10</td><td>12</td></tr><tr><th>3</th><td>-3.0</td><td>1</td><td>60</td><td>62</td><td>-3.0</td><td>1</td><td>6</td><td>13</td><td>-3.0</td><td>1</td><td>8</td><td>10</td></tr><tr><th>4</th><td>2.09455</td><td>1</td><td>62</td><td>64</td><td>2.09455</td><td>1</td><td>8</td><td>17</td><td>2.09455</td><td>1</td><td>20</td><td>22</td></tr><tr><th>5</th><td>0.0</td><td>1</td><td>0</td><td>3</td><td>-5.90174e-24</td><td>0</td><td>11</td><td>23</td><td>-9.59195e-19</td><td>0</td><td>15</td><td>17</td></tr><tr><th>6</th><td>0.739085</td><td>1</td><td>59</td><td>61</td><td>0.739085</td><td>1</td><td>9</td><td>19</td><td>0.739085</td><td>1</td><td>10</td><td>12</td></tr></tbody></table>"
      ],
      "text/latex": [
       "\\begin{tabular}{r|cccccccccccc}\n",
       "\t& bisection\\_x & bisection\\_correct & bisection\\_it & bisection\\_fev & newton\\_x & newton\\_correct & newton\\_it & newton\\_fev & secant\\_x & secant\\_correct & secant\\_it & secant\\_fev\\\\\n",
       "\t\\hline\n",
       "\t& Float64 & Bool & Int64 & Int64 & Float64 & Bool & Int64 & Int64 & Float64 & Bool & Int64 & Int64\\\\\n",
       "\t\\hline\n",
       "\t1 & 1.89549 & 1 & 51 & 53 & 1.89549 & 1 & 14 & 29 & 1.89549 & 1 & 10 & 12 \\\\\n",
       "\t2 & -0.105412 & 1 & 62 & 64 & -0.105412 & 1 & 7 & 15 & -0.105412 & 1 & 10 & 12 \\\\\n",
       "\t3 & -3.0 & 1 & 60 & 62 & -3.0 & 1 & 6 & 13 & -3.0 & 1 & 8 & 10 \\\\\n",
       "\t4 & 2.09455 & 1 & 62 & 64 & 2.09455 & 1 & 8 & 17 & 2.09455 & 1 & 20 & 22 \\\\\n",
       "\t5 & 0.0 & 1 & 0 & 3 & -5.90174e-24 & 0 & 11 & 23 & -9.59195e-19 & 0 & 15 & 17 \\\\\n",
       "\t6 & 0.739085 & 1 & 59 & 61 & 0.739085 & 1 & 9 & 19 & 0.739085 & 1 & 10 & 12 \\\\\n",
       "\\end{tabular}\n"
      ],
      "text/plain": [
       "\u001b[1m6×12 DataFrame\u001b[0m\n",
       "\u001b[1m Row \u001b[0m│\u001b[1m bisection_x \u001b[0m\u001b[1m bisection_correct \u001b[0m\u001b[1m bisection_it \u001b[0m\u001b[1m bisection_fev \u001b[0m\u001b[1m newton_x     \u001b[0m\u001b[1m newton_correct \u001b[0m\u001b[1m newton_it \u001b[0m\u001b[1m newton_fev \u001b[0m\u001b[1m secant_x     \u001b[0m\u001b[1m secant_correct \u001b[0m\u001b[1m secant_it \u001b[0m\u001b[1m secant_fev \u001b[0m\n",
       "\u001b[1m     \u001b[0m│\u001b[90m Float64     \u001b[0m\u001b[90m Bool              \u001b[0m\u001b[90m Int64        \u001b[0m\u001b[90m Int64         \u001b[0m\u001b[90m Float64      \u001b[0m\u001b[90m Bool           \u001b[0m\u001b[90m Int64     \u001b[0m\u001b[90m Int64      \u001b[0m\u001b[90m Float64      \u001b[0m\u001b[90m Bool           \u001b[0m\u001b[90m Int64     \u001b[0m\u001b[90m Int64      \u001b[0m\n",
       "─────┼───────────────────────────────────────────────────────────────────────────────────────────────────────────────────────────────────────────────────────────────────────\n",
       "   1 │    1.89549                true            51             53   1.89549                true         14          29   1.89549                true         10          12\n",
       "   2 │   -0.105412               true            62             64  -0.105412               true          7          15  -0.105412               true         10          12\n",
       "   3 │   -3.0                    true            60             62  -3.0                    true          6          13  -3.0                    true          8          10\n",
       "   4 │    2.09455                true            62             64   2.09455                true          8          17   2.09455                true         20          22\n",
       "   5 │    0.0                    true             0              3  -5.90174e-24           false         11          23  -9.59195e-19           false         15          17\n",
       "   6 │    0.739085               true            59             61   0.739085               true          9          19   0.739085               true         10          12"
      ]
     },
     "execution_count": 43,
     "metadata": {},
     "output_type": "execute_result"
    }
   ],
   "source": [
    "ENV[\"COLUMNS\"] = 1000\n",
    "df = DataFrame(\n",
    "    bisection_x = bisection,\n",
    "    bisection_correct = map(i -> isCorrectZero(fv[i], bisection[i]), 1:size(bisection)[1]),\n",
    "    bisection_it = map(i -> data_bisection[i][1], 1:size(bisection)[1]),\n",
    "    bisection_fev = map(i -> data_bisection[i][2], 1:size(bisection)[1]),\n",
    "    newton_x = newton,\n",
    "    newton_correct = map(i -> isCorrectZero(fv[i], newton[i]), 1:size(newton)[1]),\n",
    "    newton_it = map(i -> data_newton[i][1], 1:size(newton)[1]),\n",
    "    newton_fev = map(i -> data_newton[i][2], 1:size(newton)[1]),\n",
    "    secant_x = secant,\n",
    "    secant_correct = map(i -> isCorrectZero(fv[i], secant[i]), 1:size(secant)[1]),\n",
    "    secant_it = map(i -> data_secant[i][1], 1:size(secant)[1]),\n",
    "    secant_fev = map(i -> data_secant[i][2], 1:size(secant)[1])\n",
    ")"
   ]
  },
  {
   "cell_type": "markdown",
   "metadata": {},
   "source": [
    "## Zadanie 2"
   ]
  },
  {
   "cell_type": "code",
   "execution_count": 44,
   "metadata": {},
   "outputs": [],
   "source": [
    "g = fv[1]\n",
    "dg = dfv[1]\n",
    "lim = limv[1];"
   ]
  },
  {
   "cell_type": "code",
   "execution_count": 45,
   "metadata": {},
   "outputs": [
    {
     "name": "stdout",
     "output_type": "stream",
     "text": [
      "Results of univariate zero finding:\n",
      "\n",
      "* Converged to: 1.8954942670339814\n",
      "* Algorithm: Roots.BisectionExact()\n",
      "* iterations: 51\n",
      "* function evaluations: 53\n",
      "* stopped as x_n ≈ x_{n-1} using atol=xatol, rtol=xrtol\n",
      "* stopped as |f(x_n)| ≤ max(δ, max(1,|x|)⋅ϵ) using δ = atol, ϵ = rtol\n",
      "\n",
      "Trace:\n",
      "(a_0, b_0) = ( 1.0000000000000000,  3.0000000000000000)\n",
      "(a_1, b_1) = ( 1.7500000000000000,  3.0000000000000000)\n",
      "(a_2, b_2) = ( 1.7500000000000000,  2.2500000000000000)\n",
      "(a_3, b_3) = ( 1.7500000000000000,  1.9375000000000000)\n",
      "(a_4, b_4) = ( 1.8437500000000000,  1.9375000000000000)\n",
      "(a_5, b_5) = ( 1.8906250000000000,  1.9375000000000000)\n",
      "(a_6, b_6) = ( 1.8906250000000000,  1.9140625000000000)\n",
      "(a_7, b_7) = ( 1.8906250000000000,  1.9023437500000000)\n",
      "(a_8, b_8) = ( 1.8906250000000000,  1.8964843750000000)\n",
      "(a_9, b_9) = ( 1.8935546875000000,  1.8964843750000000)\n",
      "(a_10, b_10) = ( 1.8950195312500000,  1.8964843750000000)\n",
      "(a_11, b_11) = ( 1.8950195312500000,  1.8957519531250000)\n",
      "(a_12, b_12) = ( 1.8953857421875000,  1.8957519531250000)\n",
      "(a_13, b_13) = ( 1.8953857421875000,  1.8955688476562500)\n",
      "(a_14, b_14) = ( 1.8954772949218750,  1.8955688476562500)\n",
      "(a_15, b_15) = ( 1.8954772949218750,  1.8955230712890625)\n",
      "(a_16, b_16) = ( 1.8954772949218750,  1.8955001831054688)\n",
      "(a_17, b_17) = ( 1.8954887390136719,  1.8955001831054688)\n",
      "(a_18, b_18) = ( 1.8954887390136719,  1.8954944610595703)\n",
      "(a_19, b_19) = ( 1.8954916000366211,  1.8954944610595703)\n",
      "(a_20, b_20) = ( 1.8954930305480957,  1.8954944610595703)\n",
      "(a_21, b_21) = ( 1.8954937458038330,  1.8954944610595703)\n",
      "(a_22, b_22) = ( 1.8954941034317017,  1.8954944610595703)\n",
      "(a_23, b_23) = ( 1.8954941034317017,  1.8954942822456360)\n",
      "(a_24, b_24) = ( 1.8954941928386688,  1.8954942822456360)\n",
      "(a_25, b_25) = ( 1.8954942375421524,  1.8954942822456360)\n",
      "(a_26, b_26) = ( 1.8954942598938942,  1.8954942822456360)\n",
      "(a_27, b_27) = ( 1.8954942598938942,  1.8954942710697651)\n",
      "(a_28, b_28) = ( 1.8954942654818296,  1.8954942710697651)\n",
      "(a_29, b_29) = ( 1.8954942654818296,  1.8954942682757974)\n",
      "(a_30, b_30) = ( 1.8954942668788135,  1.8954942682757974)\n",
      "(a_31, b_31) = ( 1.8954942668788135,  1.8954942675773054)\n",
      "(a_32, b_32) = ( 1.8954942668788135,  1.8954942672280595)\n",
      "(a_33, b_33) = ( 1.8954942668788135,  1.8954942670534365)\n",
      "(a_34, b_34) = ( 1.8954942669661250,  1.8954942670534365)\n",
      "(a_35, b_35) = ( 1.8954942670097807,  1.8954942670534365)\n",
      "(a_36, b_36) = ( 1.8954942670316086,  1.8954942670534365)\n",
      "(a_37, b_37) = ( 1.8954942670316086,  1.8954942670425226)\n",
      "(a_38, b_38) = ( 1.8954942670316086,  1.8954942670370656)\n",
      "(a_39, b_39) = ( 1.8954942670316086,  1.8954942670343371)\n",
      "(a_40, b_40) = ( 1.8954942670329729,  1.8954942670343371)\n",
      "(a_41, b_41) = ( 1.8954942670336550,  1.8954942670343371)\n",
      "(a_42, b_42) = ( 1.8954942670336550,  1.8954942670339960)\n",
      "(a_43, b_43) = ( 1.8954942670338255,  1.8954942670339960)\n",
      "(a_44, b_44) = ( 1.8954942670339108,  1.8954942670339960)\n",
      "(a_45, b_45) = ( 1.8954942670339534,  1.8954942670339960)\n",
      "(a_46, b_46) = ( 1.8954942670339747,  1.8954942670339960)\n",
      "(a_47, b_47) = ( 1.8954942670339747,  1.8954942670339854)\n",
      "(a_48, b_48) = ( 1.8954942670339801,  1.8954942670339854)\n",
      "(a_49, b_49) = ( 1.8954942670339801,  1.8954942670339827)\n",
      "(a_50, b_50) = ( 1.8954942670339801,  1.8954942670339814)\n",
      "(a_51, b_51) = ( 1.8954942670339807,  1.8954942670339814)\n",
      "\n"
     ]
    },
    {
     "data": {
      "text/plain": [
       "1.895494267033981"
      ]
     },
     "execution_count": 45,
     "metadata": {},
     "output_type": "execute_result"
    }
   ],
   "source": [
    "result = find_zero(g, lim, Bisection(), verbose=true)"
   ]
  },
  {
   "cell_type": "code",
   "execution_count": 46,
   "metadata": {},
   "outputs": [
    {
     "name": "stdout",
     "output_type": "stream",
     "text": [
      "Results of univariate zero finding:\n",
      "\n",
      "* Converged to: 1.895494267033981\n",
      "* Algorithm: Roots.Newton()\n",
      "* iterations: 14\n",
      "* function evaluations: 29\n",
      "* stopped as |f(x_n)| ≤ max(δ, max(1,|x|)⋅ϵ) using δ = atol, ϵ = rtol\n",
      "\n",
      "Trace:\n",
      "x_0 =  1.0000000000000000,\t fx_0 =  0.3414709848078965\n",
      "x_1 = -7.4727406398312315,\t fx_1 =  2.8081667094536464\n",
      "x_2 =  14.4785209828738370,\t fx_2 = -6.2969582454430819\n",
      "x_3 =  6.9351154080461033,\t fx_3 = -2.8608359044584981\n",
      "x_4 =  16.6356841214309199,\t fx_4 = -9.1180973695297300\n",
      "x_5 =  8.3439375493161698,\t fx_5 = -3.2896151695238847\n",
      "x_6 =  4.9546327243405406,\t fx_6 = -3.4481185485938926\n",
      "x_7 = -8.3013179977216467,\t fx_7 =  3.2490565022281146\n",
      "x_8 = -4.8173199338714303,\t fx_8 =  3.4031597638831967\n",
      "x_9 =  3.7925744878946874,\t fx_9 = -2.5022549802413874\n",
      "x_10 =  1.8610609427091811,\t fx_10 =  0.0276377031006260\n",
      "x_11 =  1.8962142114143934,\t fx_11 = -0.0005898962619408\n",
      "x_12 =  1.8954945666276892,\t fx_12 = -0.0000002453740378\n",
      "x_13 =  1.8954942670340329,\t fx_13 = -0.0000000000000425\n",
      "x_14 =  1.8954942670339809,\t fx_14 =  0.0000000000000000\n",
      "\n"
     ]
    },
    {
     "data": {
      "text/plain": [
       "1.895494267033981"
      ]
     },
     "execution_count": 46,
     "metadata": {},
     "output_type": "execute_result"
    }
   ],
   "source": [
    "result = find_zero((g, dg), lim[1], Roots.Newton(), verbose=true)"
   ]
  },
  {
   "cell_type": "code",
   "execution_count": 47,
   "metadata": {},
   "outputs": [
    {
     "data": {
      "image/svg+xml": [
       "<?xml version=\"1.0\" encoding=\"utf-8\"?>\n",
       "<svg xmlns=\"http://www.w3.org/2000/svg\" xmlns:xlink=\"http://www.w3.org/1999/xlink\" width=\"600\" height=\"400\" viewBox=\"0 0 2400 1600\">\n",
       "<defs>\n",
       "  <clipPath id=\"clip070\">\n",
       "    <rect x=\"0\" y=\"0\" width=\"2400\" height=\"1600\"/>\n",
       "  </clipPath>\n",
       "</defs>\n",
       "<path clip-path=\"url(#clip070)\" d=\"\n",
       "M0 1600 L2400 1600 L2400 0 L0 0  Z\n",
       "  \" fill=\"#ffffff\" fill-rule=\"evenodd\" fill-opacity=\"1\"/>\n",
       "<defs>\n",
       "  <clipPath id=\"clip071\">\n",
       "    <rect x=\"480\" y=\"0\" width=\"1681\" height=\"1600\"/>\n",
       "  </clipPath>\n",
       "</defs>\n",
       "<path clip-path=\"url(#clip070)\" d=\"\n",
       "M169.469 1486.45 L2352.76 1486.45 L2352.76 47.2441 L169.469 47.2441  Z\n",
       "  \" fill=\"#ffffff\" fill-rule=\"evenodd\" fill-opacity=\"1\"/>\n",
       "<defs>\n",
       "  <clipPath id=\"clip072\">\n",
       "    <rect x=\"169\" y=\"47\" width=\"2184\" height=\"1440\"/>\n",
       "  </clipPath>\n",
       "</defs>\n",
       "<polyline clip-path=\"url(#clip072)\" style=\"stroke:#000000; stroke-width:2; stroke-opacity:0.1; fill:none\" points=\"\n",
       "  169.469,1486.45 169.469,47.2441 \n",
       "  \"/>\n",
       "<polyline clip-path=\"url(#clip072)\" style=\"stroke:#000000; stroke-width:2; stroke-opacity:0.1; fill:none\" points=\"\n",
       "  897.231,1486.45 897.231,47.2441 \n",
       "  \"/>\n",
       "<polyline clip-path=\"url(#clip072)\" style=\"stroke:#000000; stroke-width:2; stroke-opacity:0.1; fill:none\" points=\"\n",
       "  1624.99,1486.45 1624.99,47.2441 \n",
       "  \"/>\n",
       "<polyline clip-path=\"url(#clip072)\" style=\"stroke:#000000; stroke-width:2; stroke-opacity:0.1; fill:none\" points=\"\n",
       "  2352.76,1486.45 2352.76,47.2441 \n",
       "  \"/>\n",
       "<polyline clip-path=\"url(#clip070)\" style=\"stroke:#000000; stroke-width:4; stroke-opacity:1; fill:none\" points=\"\n",
       "  169.469,1486.45 2352.76,1486.45 \n",
       "  \"/>\n",
       "<polyline clip-path=\"url(#clip070)\" style=\"stroke:#000000; stroke-width:4; stroke-opacity:1; fill:none\" points=\"\n",
       "  169.469,1486.45 169.469,1469.18 \n",
       "  \"/>\n",
       "<polyline clip-path=\"url(#clip070)\" style=\"stroke:#000000; stroke-width:4; stroke-opacity:1; fill:none\" points=\"\n",
       "  897.231,1486.45 897.231,1469.18 \n",
       "  \"/>\n",
       "<polyline clip-path=\"url(#clip070)\" style=\"stroke:#000000; stroke-width:4; stroke-opacity:1; fill:none\" points=\"\n",
       "  1624.99,1486.45 1624.99,1469.18 \n",
       "  \"/>\n",
       "<polyline clip-path=\"url(#clip070)\" style=\"stroke:#000000; stroke-width:4; stroke-opacity:1; fill:none\" points=\"\n",
       "  2352.76,1486.45 2352.76,1469.18 \n",
       "  \"/>\n",
       "<path clip-path=\"url(#clip070)\" d=\"M 0 0 M128.23 1530.29 L157.906 1530.29 L157.906 1534.23 L128.23 1534.23 L128.23 1530.29 Z\" fill=\"#000000\" fill-rule=\"evenodd\" fill-opacity=\"1\" /><path clip-path=\"url(#clip070)\" d=\"M 0 0 M163.786 1543.18 L171.425 1543.18 L171.425 1516.82 L163.114 1518.49 L163.114 1514.23 L171.378 1512.56 L176.054 1512.56 L176.054 1543.18 L183.693 1543.18 L183.693 1547.12 L163.786 1547.12 L163.786 1543.18 Z\" fill=\"#000000\" fill-rule=\"evenodd\" fill-opacity=\"1\" /><path clip-path=\"url(#clip070)\" d=\"M 0 0 M198.762 1515.64 Q195.151 1515.64 193.323 1519.2 Q191.517 1522.75 191.517 1529.87 Q191.517 1536.98 193.323 1540.55 Q195.151 1544.09 198.762 1544.09 Q202.397 1544.09 204.202 1540.55 Q206.031 1536.98 206.031 1529.87 Q206.031 1522.75 204.202 1519.2 Q202.397 1515.64 198.762 1515.64 M198.762 1511.93 Q204.573 1511.93 207.628 1516.54 Q210.707 1521.12 210.707 1529.87 Q210.707 1538.6 207.628 1543.21 Q204.573 1547.79 198.762 1547.79 Q192.952 1547.79 189.874 1543.21 Q186.818 1538.6 186.818 1529.87 Q186.818 1521.12 189.874 1516.54 Q192.952 1511.93 198.762 1511.93 Z\" fill=\"#000000\" fill-rule=\"evenodd\" fill-opacity=\"1\" /><path clip-path=\"url(#clip070)\" d=\"M 0 0 M897.231 1515.64 Q893.62 1515.64 891.791 1519.2 Q889.986 1522.75 889.986 1529.87 Q889.986 1536.98 891.791 1540.55 Q893.62 1544.09 897.231 1544.09 Q900.865 1544.09 902.671 1540.55 Q904.499 1536.98 904.499 1529.87 Q904.499 1522.75 902.671 1519.2 Q900.865 1515.64 897.231 1515.64 M897.231 1511.93 Q903.041 1511.93 906.097 1516.54 Q909.175 1521.12 909.175 1529.87 Q909.175 1538.6 906.097 1543.21 Q903.041 1547.79 897.231 1547.79 Q891.421 1547.79 888.342 1543.21 Q885.287 1538.6 885.287 1529.87 Q885.287 1521.12 888.342 1516.54 Q891.421 1511.93 897.231 1511.93 Z\" fill=\"#000000\" fill-rule=\"evenodd\" fill-opacity=\"1\" /><path clip-path=\"url(#clip070)\" d=\"M 0 0 M1601.87 1543.18 L1609.51 1543.18 L1609.51 1516.82 L1601.2 1518.49 L1601.2 1514.23 L1609.46 1512.56 L1614.14 1512.56 L1614.14 1543.18 L1621.78 1543.18 L1621.78 1547.12 L1601.87 1547.12 L1601.87 1543.18 Z\" fill=\"#000000\" fill-rule=\"evenodd\" fill-opacity=\"1\" /><path clip-path=\"url(#clip070)\" d=\"M 0 0 M1636.85 1515.64 Q1633.23 1515.64 1631.41 1519.2 Q1629.6 1522.75 1629.6 1529.87 Q1629.6 1536.98 1631.41 1540.55 Q1633.23 1544.09 1636.85 1544.09 Q1640.48 1544.09 1642.29 1540.55 Q1644.11 1536.98 1644.11 1529.87 Q1644.11 1522.75 1642.29 1519.2 Q1640.48 1515.64 1636.85 1515.64 M1636.85 1511.93 Q1642.66 1511.93 1645.71 1516.54 Q1648.79 1521.12 1648.79 1529.87 Q1648.79 1538.6 1645.71 1543.21 Q1642.66 1547.79 1636.85 1547.79 Q1631.04 1547.79 1627.96 1543.21 Q1624.9 1538.6 1624.9 1529.87 Q1624.9 1521.12 1627.96 1516.54 Q1631.04 1511.93 1636.85 1511.93 Z\" fill=\"#000000\" fill-rule=\"evenodd\" fill-opacity=\"1\" /><path clip-path=\"url(#clip070)\" d=\"M 0 0 M2333.9 1543.18 L2350.22 1543.18 L2350.22 1547.12 L2328.28 1547.12 L2328.28 1543.18 Q2330.94 1540.43 2335.52 1535.8 Q2340.13 1531.15 2341.31 1529.81 Q2343.55 1527.28 2344.43 1525.55 Q2345.34 1523.79 2345.34 1522.1 Q2345.34 1519.34 2343.39 1517.61 Q2341.47 1515.87 2338.37 1515.87 Q2336.17 1515.87 2333.72 1516.63 Q2331.29 1517.4 2328.51 1518.95 L2328.51 1514.23 Q2331.33 1513.09 2333.79 1512.51 Q2336.24 1511.93 2338.28 1511.93 Q2343.65 1511.93 2346.84 1514.62 Q2350.04 1517.31 2350.04 1521.8 Q2350.04 1523.93 2349.23 1525.85 Q2348.44 1527.74 2346.33 1530.34 Q2345.75 1531.01 2342.65 1534.23 Q2339.55 1537.42 2333.9 1543.18 Z\" fill=\"#000000\" fill-rule=\"evenodd\" fill-opacity=\"1\" /><path clip-path=\"url(#clip070)\" d=\"M 0 0 M2365.29 1515.64 Q2361.68 1515.64 2359.85 1519.2 Q2358.05 1522.75 2358.05 1529.87 Q2358.05 1536.98 2359.85 1540.55 Q2361.68 1544.09 2365.29 1544.09 Q2368.92 1544.09 2370.73 1540.55 Q2372.56 1536.98 2372.56 1529.87 Q2372.56 1522.75 2370.73 1519.2 Q2368.92 1515.64 2365.29 1515.64 M2365.29 1511.93 Q2371.1 1511.93 2374.16 1516.54 Q2377.23 1521.12 2377.23 1529.87 Q2377.23 1538.6 2374.16 1543.21 Q2371.1 1547.79 2365.29 1547.79 Q2359.48 1547.79 2356.4 1543.21 Q2353.35 1538.6 2353.35 1529.87 Q2353.35 1521.12 2356.4 1516.54 Q2359.48 1511.93 2365.29 1511.93 Z\" fill=\"#000000\" fill-rule=\"evenodd\" fill-opacity=\"1\" /><polyline clip-path=\"url(#clip072)\" style=\"stroke:#000000; stroke-width:2; stroke-opacity:0.1; fill:none\" points=\"\n",
       "  169.469,1486.45 2352.76,1486.45 \n",
       "  \"/>\n",
       "<polyline clip-path=\"url(#clip072)\" style=\"stroke:#000000; stroke-width:2; stroke-opacity:0.1; fill:none\" points=\"\n",
       "  169.469,1036.7 2352.76,1036.7 \n",
       "  \"/>\n",
       "<polyline clip-path=\"url(#clip072)\" style=\"stroke:#000000; stroke-width:2; stroke-opacity:0.1; fill:none\" points=\"\n",
       "  169.469,586.946 2352.76,586.946 \n",
       "  \"/>\n",
       "<polyline clip-path=\"url(#clip072)\" style=\"stroke:#000000; stroke-width:2; stroke-opacity:0.1; fill:none\" points=\"\n",
       "  169.469,137.194 2352.76,137.194 \n",
       "  \"/>\n",
       "<polyline clip-path=\"url(#clip070)\" style=\"stroke:#000000; stroke-width:4; stroke-opacity:1; fill:none\" points=\"\n",
       "  169.469,1486.45 169.469,47.2441 \n",
       "  \"/>\n",
       "<polyline clip-path=\"url(#clip070)\" style=\"stroke:#000000; stroke-width:4; stroke-opacity:1; fill:none\" points=\"\n",
       "  169.469,1486.45 195.668,1486.45 \n",
       "  \"/>\n",
       "<polyline clip-path=\"url(#clip070)\" style=\"stroke:#000000; stroke-width:4; stroke-opacity:1; fill:none\" points=\"\n",
       "  169.469,1036.7 195.668,1036.7 \n",
       "  \"/>\n",
       "<polyline clip-path=\"url(#clip070)\" style=\"stroke:#000000; stroke-width:4; stroke-opacity:1; fill:none\" points=\"\n",
       "  169.469,586.946 195.668,586.946 \n",
       "  \"/>\n",
       "<polyline clip-path=\"url(#clip070)\" style=\"stroke:#000000; stroke-width:4; stroke-opacity:1; fill:none\" points=\"\n",
       "  169.469,137.194 195.668,137.194 \n",
       "  \"/>\n",
       "<path clip-path=\"url(#clip070)\" d=\"M 0 0 M50.9921 1486.9 L80.6679 1486.9 L80.6679 1490.83 L50.9921 1490.83 L50.9921 1486.9 Z\" fill=\"#000000\" fill-rule=\"evenodd\" fill-opacity=\"1\" /><path clip-path=\"url(#clip070)\" d=\"M 0 0 M86.5475 1499.79 L94.1863 1499.79 L94.1863 1473.43 L85.8762 1475.09 L85.8762 1470.83 L94.14 1469.17 L98.8159 1469.17 L98.8159 1499.79 L106.455 1499.79 L106.455 1503.73 L86.5475 1503.73 L86.5475 1499.79 Z\" fill=\"#000000\" fill-rule=\"evenodd\" fill-opacity=\"1\" /><path clip-path=\"url(#clip070)\" d=\"M 0 0 M121.524 1472.25 Q117.913 1472.25 116.084 1475.81 Q114.279 1479.35 114.279 1486.48 Q114.279 1493.59 116.084 1497.15 Q117.913 1500.7 121.524 1500.7 Q125.158 1500.7 126.964 1497.15 Q128.793 1493.59 128.793 1486.48 Q128.793 1479.35 126.964 1475.81 Q125.158 1472.25 121.524 1472.25 M121.524 1468.54 Q127.334 1468.54 130.39 1473.15 Q133.469 1477.73 133.469 1486.48 Q133.469 1495.21 130.39 1499.82 Q127.334 1504.4 121.524 1504.4 Q115.714 1504.4 112.635 1499.82 Q109.58 1495.21 109.58 1486.48 Q109.58 1477.73 112.635 1473.15 Q115.714 1468.54 121.524 1468.54 Z\" fill=\"#000000\" fill-rule=\"evenodd\" fill-opacity=\"1\" /><path clip-path=\"url(#clip070)\" d=\"M 0 0 M77.7744 1037.15 L107.45 1037.15 L107.45 1041.08 L77.7744 1041.08 L77.7744 1037.15 Z\" fill=\"#000000\" fill-rule=\"evenodd\" fill-opacity=\"1\" /><path clip-path=\"url(#clip070)\" d=\"M 0 0 M112.566 1019.42 L130.922 1019.42 L130.922 1023.35 L116.848 1023.35 L116.848 1031.82 Q117.867 1031.48 118.885 1031.31 Q119.904 1031.13 120.922 1031.13 Q126.709 1031.13 130.089 1034.3 Q133.469 1037.47 133.469 1042.89 Q133.469 1048.47 129.996 1051.57 Q126.524 1054.65 120.205 1054.65 Q118.029 1054.65 115.76 1054.28 Q113.515 1053.91 111.108 1053.17 L111.108 1048.47 Q113.191 1049.6 115.413 1050.16 Q117.635 1050.71 120.112 1050.71 Q124.117 1050.71 126.455 1048.61 Q128.793 1046.5 128.793 1042.89 Q128.793 1039.28 126.455 1037.17 Q124.117 1035.06 120.112 1035.06 Q118.237 1035.06 116.362 1035.48 Q114.51 1035.9 112.566 1036.78 L112.566 1019.42 Z\" fill=\"#000000\" fill-rule=\"evenodd\" fill-opacity=\"1\" /><path clip-path=\"url(#clip070)\" d=\"M 0 0 M121.524 572.744 Q117.913 572.744 116.084 576.309 Q114.279 579.851 114.279 586.98 Q114.279 594.087 116.084 597.651 Q117.913 601.193 121.524 601.193 Q125.158 601.193 126.964 597.651 Q128.793 594.087 128.793 586.98 Q128.793 579.851 126.964 576.309 Q125.158 572.744 121.524 572.744 M121.524 569.041 Q127.334 569.041 130.39 573.647 Q133.469 578.23 133.469 586.98 Q133.469 595.707 130.39 600.313 Q127.334 604.897 121.524 604.897 Q115.714 604.897 112.635 600.313 Q109.58 595.707 109.58 586.98 Q109.58 578.23 112.635 573.647 Q115.714 569.041 121.524 569.041 Z\" fill=\"#000000\" fill-rule=\"evenodd\" fill-opacity=\"1\" /><path clip-path=\"url(#clip070)\" d=\"M 0 0 M112.566 119.914 L130.922 119.914 L130.922 123.849 L116.848 123.849 L116.848 132.322 Q117.867 131.974 118.885 131.812 Q119.904 131.627 120.922 131.627 Q126.709 131.627 130.089 134.799 Q133.469 137.97 133.469 143.386 Q133.469 148.965 129.996 152.067 Q126.524 155.146 120.205 155.146 Q118.029 155.146 115.76 154.775 Q113.515 154.405 111.108 153.664 L111.108 148.965 Q113.191 150.099 115.413 150.655 Q117.635 151.21 120.112 151.21 Q124.117 151.21 126.455 149.104 Q128.793 146.998 128.793 143.386 Q128.793 139.775 126.455 137.669 Q124.117 135.562 120.112 135.562 Q118.237 135.562 116.362 135.979 Q114.51 136.396 112.566 137.275 L112.566 119.914 Z\" fill=\"#000000\" fill-rule=\"evenodd\" fill-opacity=\"1\" /><polyline clip-path=\"url(#clip072)\" style=\"stroke:#009af9; stroke-width:8; stroke-opacity:1; fill:none\" points=\"\n",
       "  169.469,88.2595 174.444,96.6038 179.419,105.152 184.394,113.879 189.369,122.758 235.37,207.095 281.371,280.16 304.372,306.697 327.373,324.703 350.374,333.801 \n",
       "  373.374,334.497 428.664,311.286 483.954,280.424 507.327,274.119 530.701,275.163 554.074,284.928 577.448,303.891 602.838,334.352 628.228,373.327 653.618,418.011 \n",
       "  679.008,464.909 702.416,506.861 725.823,544.68 749.23,575.969 772.638,599.003 797.733,613.549 822.828,617.723 847.924,612.86 873.019,601.359 902.094,583.945 \n",
       "  931.169,567.476 960.245,557.377 989.32,558.068 1015.16,569.984 1041,593.106 1066.84,626.543 1092.67,668.114 1137.99,750.653 1183.31,827.591 1208.01,860.309 \n",
       "  1232.71,883.749 1257.42,896.977 1282.12,900.227 1331.82,883.094 1381.52,853.594 1409,841.974 1436.47,838.979 1463.95,847.423 1491.42,868.508 1517.57,899.796 \n",
       "  1543.71,940.085 1569.85,986.294 1595.99,1034.59 1623.17,1082.6 1650.36,1124.14 1677.54,1155.77 1704.72,1175.47 1727.6,1182.45 1750.48,1181.35 1773.36,1173.68 \n",
       "  1796.24,1161.57 1824.18,1144.52 1852.11,1129.7 1880.05,1121.77 1907.98,1124.4 1934.24,1138.43 1960.5,1163.96 1986.76,1199.82 2013.02,1243.45 2055.09,1320.54 \n",
       "  2097.16,1391.76 2118.2,1420.36 2139.24,1442.42 2160.27,1457.18 2181.31,1464.51 2187.78,1465.32 2194.25,1465.49 2200.73,1465.06 2207.2,1464.05 \n",
       "  \"/>\n",
       "<polyline clip-path=\"url(#clip072)\" style=\"stroke:#e26f46; stroke-width:4; stroke-opacity:1; fill:none\" points=\"\n",
       "  -558.294,586.946 -522.758,586.946 -194.176,586.946 3.2873,586.946 170.24,586.946 351.598,586.946 518.794,586.946 698.046,586.946 905.727,586.946 1090.29,586.946 \n",
       "  1252.13,586.946 1428.59,586.946 1606.09,586.946 1802.34,586.946 1989.07,586.946 2183.22,586.946 2346.66,586.946 2546.2,586.946 2733.77,586.946 3034.27,586.946 \n",
       "  3080.52,586.946 \n",
       "  \"/>\n",
       "<circle clip-path=\"url(#clip072)\" cx=\"970.007\" cy=\"556.23\" r=\"14\" fill=\"#ffa500\" fill-rule=\"evenodd\" fill-opacity=\"1\" stroke=\"#000000\" stroke-opacity=\"1\" stroke-width=\"3.2\"/>\n",
       "<circle clip-path=\"url(#clip072)\" cx=\"353.393\" cy=\"334.35\" r=\"14\" fill=\"#ffa500\" fill-rule=\"evenodd\" fill-opacity=\"1\" stroke=\"#000000\" stroke-opacity=\"1\" stroke-width=\"3.2\"/>\n",
       "<circle clip-path=\"url(#clip072)\" cx=\"1950.92\" cy=\"1153.36\" r=\"14\" fill=\"#ffa500\" fill-rule=\"evenodd\" fill-opacity=\"1\" stroke=\"#000000\" stroke-opacity=\"1\" stroke-width=\"3.2\"/>\n",
       "<circle clip-path=\"url(#clip072)\" cx=\"1401.94\" cy=\"844.278\" r=\"14\" fill=\"#ffa500\" fill-rule=\"evenodd\" fill-opacity=\"1\" stroke=\"#000000\" stroke-opacity=\"1\" stroke-width=\"3.2\"/>\n",
       "<circle clip-path=\"url(#clip072)\" cx=\"2107.91\" cy=\"1407.12\" r=\"14\" fill=\"#ffa500\" fill-rule=\"evenodd\" fill-opacity=\"1\" stroke=\"#000000\" stroke-opacity=\"1\" stroke-width=\"3.2\"/>\n",
       "<circle clip-path=\"url(#clip072)\" cx=\"1504.47\" cy=\"882.847\" r=\"14\" fill=\"#ffa500\" fill-rule=\"evenodd\" fill-opacity=\"1\" stroke=\"#000000\" stroke-opacity=\"1\" stroke-width=\"3.2\"/>\n",
       "<circle clip-path=\"url(#clip072)\" cx=\"1257.81\" cy=\"897.105\" r=\"14\" fill=\"#ffa500\" fill-rule=\"evenodd\" fill-opacity=\"1\" stroke=\"#000000\" stroke-opacity=\"1\" stroke-width=\"3.2\"/>\n",
       "<circle clip-path=\"url(#clip072)\" cx=\"293.092\" cy=\"294.692\" r=\"14\" fill=\"#ffa500\" fill-rule=\"evenodd\" fill-opacity=\"1\" stroke=\"#000000\" stroke-opacity=\"1\" stroke-width=\"3.2\"/>\n",
       "<circle clip-path=\"url(#clip072)\" cx=\"546.645\" cy=\"280.83\" r=\"14\" fill=\"#ffa500\" fill-rule=\"evenodd\" fill-opacity=\"1\" stroke=\"#000000\" stroke-opacity=\"1\" stroke-width=\"3.2\"/>\n",
       "<circle clip-path=\"url(#clip072)\" cx=\"1173.24\" cy=\"812.024\" r=\"14\" fill=\"#ffa500\" fill-rule=\"evenodd\" fill-opacity=\"1\" stroke=\"#000000\" stroke-opacity=\"1\" stroke-width=\"3.2\"/>\n",
       "<circle clip-path=\"url(#clip072)\" cx=\"1032.67\" cy=\"584.459\" r=\"14\" fill=\"#ffa500\" fill-rule=\"evenodd\" fill-opacity=\"1\" stroke=\"#000000\" stroke-opacity=\"1\" stroke-width=\"3.2\"/>\n",
       "<circle clip-path=\"url(#clip072)\" cx=\"1035.23\" cy=\"586.999\" r=\"14\" fill=\"#ffa500\" fill-rule=\"evenodd\" fill-opacity=\"1\" stroke=\"#000000\" stroke-opacity=\"1\" stroke-width=\"3.2\"/>\n",
       "<circle clip-path=\"url(#clip072)\" cx=\"1035.18\" cy=\"586.946\" r=\"14\" fill=\"#ffa500\" fill-rule=\"evenodd\" fill-opacity=\"1\" stroke=\"#000000\" stroke-opacity=\"1\" stroke-width=\"3.2\"/>\n",
       "<circle clip-path=\"url(#clip072)\" cx=\"1035.18\" cy=\"586.946\" r=\"14\" fill=\"#ffa500\" fill-rule=\"evenodd\" fill-opacity=\"1\" stroke=\"#000000\" stroke-opacity=\"1\" stroke-width=\"3.2\"/>\n",
       "<circle clip-path=\"url(#clip072)\" cx=\"1035.18\" cy=\"586.946\" r=\"14\" fill=\"#ffa500\" fill-rule=\"evenodd\" fill-opacity=\"1\" stroke=\"#000000\" stroke-opacity=\"1\" stroke-width=\"3.2\"/>\n",
       "<circle clip-path=\"url(#clip072)\" cx=\"970.007\" cy=\"556.23\" r=\"14\" fill=\"#0000ff\" fill-rule=\"evenodd\" fill-opacity=\"1\" stroke=\"#000000\" stroke-opacity=\"1\" stroke-width=\"3.2\"/>\n",
       "<polyline clip-path=\"url(#clip072)\" style=\"stroke:#808080; stroke-width:4; stroke-opacity:1; fill:none\" points=\"\n",
       "  169.469,596.107 190.79,595.045 387.939,585.225 506.417,579.323 606.589,574.333 715.404,568.913 815.721,563.916 923.272,558.558 1047.88,552.351 1158.62,546.835 \n",
       "  1255.72,541.998 1361.6,536.724 1468.1,531.419 1585.85,525.553 1697.89,519.972 1814.38,514.169 1912.44,509.285 2032.16,503.321 2144.71,497.715 2325.01,488.733 \n",
       "  2352.76,487.351 \n",
       "  \"/>\n",
       "<polyline clip-path=\"url(#clip072)\" style=\"stroke:#808080; stroke-width:4; stroke-opacity:0.501961; fill:none\" points=\"\n",
       "  970.007,2925.65 970.007,-1391.96 \n",
       "  \"/>\n",
       "<polyline clip-path=\"url(#clip072)\" style=\"stroke:#808080; stroke-width:4; stroke-opacity:1; fill:none\" points=\"\n",
       "  169.469,305.269 190.79,308.64 387.939,339.813 506.417,358.546 606.589,374.385 715.404,391.59 815.721,407.452 923.272,424.457 1047.88,444.16 1158.62,461.669 \n",
       "  1255.72,477.023 1361.6,493.764 1468.1,510.603 1585.85,529.221 1697.89,546.936 1814.38,565.356 1912.44,580.861 2032.16,599.791 2144.71,617.586 2325.01,646.094 \n",
       "  2352.76,650.482 \n",
       "  \"/>\n",
       "<polyline clip-path=\"url(#clip072)\" style=\"stroke:#808080; stroke-width:4; stroke-opacity:0.501961; fill:none\" points=\"\n",
       "  353.393,2925.65 353.393,-1391.96 \n",
       "  \"/>\n",
       "<polyline clip-path=\"url(#clip072)\" style=\"stroke:#808080; stroke-width:4; stroke-opacity:1; fill:none\" points=\"\n",
       "  169.469,-684.664 190.79,-662.666 387.939,-459.256 506.417,-337.016 606.589,-233.663 715.404,-121.393 815.721,-17.8904 923.272,93.0757 1047.88,221.641 1158.62,335.894 \n",
       "  1255.72,436.085 1361.6,545.319 1468.1,655.202 1585.85,776.692 1697.89,892.287 1814.38,1012.48 1912.44,1113.65 2032.16,1237.18 2144.71,1353.29 2325.01,1539.32 \n",
       "  2352.76,1567.95 \n",
       "  \"/>\n",
       "<polyline clip-path=\"url(#clip072)\" style=\"stroke:#808080; stroke-width:4; stroke-opacity:0.501961; fill:none\" points=\"\n",
       "  1950.92,2925.65 1950.92,-1391.96 \n",
       "  \"/>\n",
       "<polyline clip-path=\"url(#clip072)\" style=\"stroke:#808080; stroke-width:4; stroke-opacity:1; fill:none\" points=\"\n",
       "  169.469,1293.53 190.79,1285.75 387.939,1213.89 506.417,1170.71 606.589,1134.19 715.404,1094.53 815.721,1057.96 923.272,1018.76 1047.88,973.337 1158.62,932.972 \n",
       "  1255.72,897.576 1361.6,858.985 1468.1,820.164 1585.85,777.243 1697.89,736.404 1814.38,693.942 1912.44,658.197 2032.16,614.557 2144.71,573.534 2325.01,507.813 \n",
       "  2352.76,497.698 \n",
       "  \"/>\n",
       "<polyline clip-path=\"url(#clip072)\" style=\"stroke:#808080; stroke-width:4; stroke-opacity:0.501961; fill:none\" points=\"\n",
       "  1401.94,2925.65 1401.94,-1391.96 \n",
       "  \"/>\n",
       "<polyline clip-path=\"url(#clip072)\" style=\"stroke:#808080; stroke-width:4; stroke-opacity:1; fill:none\" points=\"\n",
       "  169.469,-1227.54 190.79,-1198.56 387.939,-930.602 506.417,-769.571 606.589,-633.421 715.404,-485.524 815.721,-349.177 923.272,-202.997 1047.88,-33.6346 1158.62,116.875 \n",
       "  1255.72,248.859 1361.6,392.756 1468.1,537.509 1585.85,697.551 1697.89,849.828 1814.38,1008.16 1912.44,1141.44 2032.16,1304.16 2144.71,1457.13 2325.01,1702.19 \n",
       "  2352.76,1739.9 \n",
       "  \"/>\n",
       "<polyline clip-path=\"url(#clip072)\" style=\"stroke:#808080; stroke-width:4; stroke-opacity:0.501961; fill:none\" points=\"\n",
       "  2107.91,2925.65 2107.91,-1391.96 \n",
       "  \"/>\n",
       "<circle clip-path=\"url(#clip072)\" cx=\"1035.18\" cy=\"586.946\" r=\"14\" fill=\"#008000\" fill-rule=\"evenodd\" fill-opacity=\"1\" stroke=\"#000000\" stroke-opacity=\"1\" stroke-width=\"3.2\"/>\n",
       "<path clip-path=\"url(#clip070)\" d=\"\n",
       "M1810.75 458.098 L2279.98 458.098 L2279.98 95.2176 L1810.75 95.2176  Z\n",
       "  \" fill=\"#ffffff\" fill-rule=\"evenodd\" fill-opacity=\"1\"/>\n",
       "<polyline clip-path=\"url(#clip070)\" style=\"stroke:#000000; stroke-width:4; stroke-opacity:1; fill:none\" points=\"\n",
       "  1810.75,458.098 2279.98,458.098 2279.98,95.2176 1810.75,95.2176 1810.75,458.098 \n",
       "  \"/>\n",
       "<polyline clip-path=\"url(#clip070)\" style=\"stroke:#009af9; stroke-width:4; stroke-opacity:1; fill:none\" points=\"\n",
       "  1835.01,155.698 1980.56,155.698 \n",
       "  \"/>\n",
       "<path clip-path=\"url(#clip070)\" d=\"M 0 0 M2021.32 136.959 L2021.32 140.501 L2017.25 140.501 Q2014.96 140.501 2014.06 141.427 Q2013.18 142.353 2013.18 144.76 L2013.18 147.052 L2020.19 147.052 L2020.19 150.362 L2013.18 150.362 L2013.18 172.978 L2008.89 172.978 L2008.89 150.362 L2004.82 150.362 L2004.82 147.052 L2008.89 147.052 L2008.89 145.246 Q2008.89 140.918 2010.91 138.95 Q2012.92 136.959 2017.3 136.959 L2021.32 136.959 Z\" fill=\"#000000\" fill-rule=\"evenodd\" fill-opacity=\"1\" /><path clip-path=\"url(#clip070)\" d=\"M 0 0 M2036.02 137.006 Q2032.92 142.33 2031.42 147.538 Q2029.91 152.746 2029.91 158.093 Q2029.91 163.441 2031.42 168.695 Q2032.94 173.927 2036.02 179.228 L2032.32 179.228 Q2028.85 173.788 2027.11 168.533 Q2025.4 163.279 2025.4 158.093 Q2025.4 152.931 2027.11 147.7 Q2028.82 142.468 2032.32 137.006 L2036.02 137.006 Z\" fill=\"#000000\" fill-rule=\"evenodd\" fill-opacity=\"1\" /><path clip-path=\"url(#clip070)\" d=\"M 0 0 M2062.04 147.052 L2052.67 159.667 L2062.53 172.978 L2057.5 172.978 L2049.96 162.792 L2042.41 172.978 L2037.39 172.978 L2047.46 159.413 L2038.25 147.052 L2043.27 147.052 L2050.14 156.288 L2057.02 147.052 L2062.04 147.052 Z\" fill=\"#000000\" fill-rule=\"evenodd\" fill-opacity=\"1\" /><path clip-path=\"url(#clip070)\" d=\"M 0 0 M2066.32 137.006 L2070.03 137.006 Q2073.5 142.468 2075.21 147.7 Q2076.95 152.931 2076.95 158.093 Q2076.95 163.279 2075.21 168.533 Q2073.5 173.788 2070.03 179.228 L2066.32 179.228 Q2069.4 173.927 2070.91 168.695 Q2072.44 163.441 2072.44 158.093 Q2072.44 152.746 2070.91 147.538 Q2069.4 142.33 2066.32 137.006 Z\" fill=\"#000000\" fill-rule=\"evenodd\" fill-opacity=\"1\" /><polyline clip-path=\"url(#clip070)\" style=\"stroke:#e26f46; stroke-width:4; stroke-opacity:1; fill:none\" points=\"\n",
       "  1835.01,216.178 1980.56,216.178 \n",
       "  \"/>\n",
       "<path clip-path=\"url(#clip070)\" d=\"M 0 0 M2018.66 235.865 Q2016.86 240.495 2015.14 241.907 Q2013.43 243.319 2010.56 243.319 L2007.16 243.319 L2007.16 239.754 L2009.66 239.754 Q2011.42 239.754 2012.39 238.92 Q2013.36 238.087 2014.54 234.985 L2015.31 233.041 L2004.82 207.532 L2009.33 207.532 L2017.44 227.809 L2025.54 207.532 L2030.05 207.532 L2018.66 235.865 Z\" fill=\"#000000\" fill-rule=\"evenodd\" fill-opacity=\"1\" /><path clip-path=\"url(#clip070)\" d=\"M 0 0 M2039.15 229.522 L2055.47 229.522 L2055.47 233.458 L2033.52 233.458 L2033.52 229.522 Q2036.19 226.768 2040.77 222.138 Q2045.38 217.485 2046.56 216.143 Q2048.8 213.62 2049.68 211.884 Q2050.58 210.124 2050.58 208.435 Q2050.58 205.68 2048.64 203.944 Q2046.72 202.208 2043.62 202.208 Q2041.42 202.208 2038.96 202.972 Q2036.53 203.735 2033.75 205.286 L2033.75 200.564 Q2036.58 199.43 2039.03 198.851 Q2041.49 198.273 2043.52 198.273 Q2048.89 198.273 2052.09 200.958 Q2055.28 203.643 2055.28 208.134 Q2055.28 210.263 2054.47 212.185 Q2053.69 214.083 2051.58 216.675 Q2051 217.347 2047.9 220.564 Q2044.8 223.759 2039.15 229.522 Z\" fill=\"#000000\" fill-rule=\"evenodd\" fill-opacity=\"1\" /><circle clip-path=\"url(#clip070)\" cx=\"1907.78\" cy=\"276.658\" r=\"23\" fill=\"#ffa500\" fill-rule=\"evenodd\" fill-opacity=\"1\" stroke=\"#000000\" stroke-opacity=\"1\" stroke-width=\"5.12\"/>\n",
       "<path clip-path=\"url(#clip070)\" d=\"M 0 0 M2029.47 268.012 L2020.1 280.627 L2029.96 293.938 L2024.94 293.938 L2017.39 283.752 L2009.84 293.938 L2004.82 293.938 L2014.89 280.373 L2005.68 268.012 L2010.7 268.012 L2017.57 277.248 L2024.45 268.012 L2029.47 268.012 Z\" fill=\"#000000\" fill-rule=\"evenodd\" fill-opacity=\"1\" /><path clip-path=\"url(#clip070)\" d=\"M 0 0 M2034.26 257.919 L2038.55 257.919 L2038.55 279.192 L2051.25 268.012 L2056.69 268.012 L2042.94 280.141 L2057.27 293.938 L2051.72 293.938 L2038.55 281.276 L2038.55 293.938 L2034.26 293.938 L2034.26 257.919 Z\" fill=\"#000000\" fill-rule=\"evenodd\" fill-opacity=\"1\" /><circle clip-path=\"url(#clip070)\" cx=\"1907.78\" cy=\"337.138\" r=\"23\" fill=\"#0000ff\" fill-rule=\"evenodd\" fill-opacity=\"1\" stroke=\"#000000\" stroke-opacity=\"1\" stroke-width=\"5.12\"/>\n",
       "<path clip-path=\"url(#clip070)\" d=\"M 0 0 M2004.82 319.858 L2009.5 319.858 L2009.5 354.418 L2004.82 354.418 L2004.82 319.858 Z\" fill=\"#000000\" fill-rule=\"evenodd\" fill-opacity=\"1\" /><path clip-path=\"url(#clip070)\" d=\"M 0 0 M2035.51 338.769 L2035.51 354.418 L2031.25 354.418 L2031.25 338.908 Q2031.25 335.228 2029.82 333.399 Q2028.38 331.57 2025.51 331.57 Q2022.07 331.57 2020.07 333.77 Q2018.08 335.969 2018.08 339.765 L2018.08 354.418 L2013.8 354.418 L2013.8 328.492 L2018.08 328.492 L2018.08 332.52 Q2019.61 330.182 2021.67 329.024 Q2023.75 327.867 2026.46 327.867 Q2030.93 327.867 2033.22 330.645 Q2035.51 333.399 2035.51 338.769 Z\" fill=\"#000000\" fill-rule=\"evenodd\" fill-opacity=\"1\" /><path clip-path=\"url(#clip070)\" d=\"M 0 0 M2039.98 328.492 L2044.24 328.492 L2044.24 354.418 L2039.98 354.418 L2039.98 328.492 M2039.98 318.399 L2044.24 318.399 L2044.24 323.793 L2039.98 323.793 L2039.98 318.399 Z\" fill=\"#000000\" fill-rule=\"evenodd\" fill-opacity=\"1\" /><path clip-path=\"url(#clip070)\" d=\"M 0 0 M2052.92 321.131 L2052.92 328.492 L2061.69 328.492 L2061.69 331.802 L2052.92 331.802 L2052.92 345.876 Q2052.92 349.047 2053.78 349.95 Q2054.66 350.853 2057.32 350.853 L2061.69 350.853 L2061.69 354.418 L2057.32 354.418 Q2052.39 354.418 2050.51 352.589 Q2048.64 350.737 2048.64 345.876 L2048.64 331.802 L2045.51 331.802 L2045.51 328.492 L2048.64 328.492 L2048.64 321.131 L2052.92 321.131 Z\" fill=\"#000000\" fill-rule=\"evenodd\" fill-opacity=\"1\" /><path clip-path=\"url(#clip070)\" d=\"M 0 0 M2066.16 328.492 L2070.42 328.492 L2070.42 354.418 L2066.16 354.418 L2066.16 328.492 M2066.16 318.399 L2070.42 318.399 L2070.42 323.793 L2066.16 323.793 L2066.16 318.399 Z\" fill=\"#000000\" fill-rule=\"evenodd\" fill-opacity=\"1\" /><path clip-path=\"url(#clip070)\" d=\"M 0 0 M2086.67 341.385 Q2081.51 341.385 2079.52 342.566 Q2077.53 343.746 2077.53 346.594 Q2077.53 348.862 2079.01 350.205 Q2080.51 351.524 2083.08 351.524 Q2086.62 351.524 2088.75 349.024 Q2090.91 346.501 2090.91 342.334 L2090.91 341.385 L2086.67 341.385 M2095.17 339.626 L2095.17 354.418 L2090.91 354.418 L2090.91 350.482 Q2089.45 352.843 2087.27 353.978 Q2085.1 355.089 2081.95 355.089 Q2077.97 355.089 2075.61 352.867 Q2073.27 350.621 2073.27 346.871 Q2073.27 342.496 2076.19 340.274 Q2079.13 338.052 2084.94 338.052 L2090.91 338.052 L2090.91 337.635 Q2090.91 334.695 2088.96 333.098 Q2087.04 331.478 2083.55 331.478 Q2081.32 331.478 2079.22 332.01 Q2077.11 332.543 2075.17 333.607 L2075.17 329.672 Q2077.5 328.77 2079.7 328.33 Q2081.9 327.867 2083.99 327.867 Q2089.61 327.867 2092.39 330.783 Q2095.17 333.7 2095.17 339.626 Z\" fill=\"#000000\" fill-rule=\"evenodd\" fill-opacity=\"1\" /><path clip-path=\"url(#clip070)\" d=\"M 0 0 M2099.63 318.399 L2103.89 318.399 L2103.89 354.418 L2099.63 354.418 L2099.63 318.399 Z\" fill=\"#000000\" fill-rule=\"evenodd\" fill-opacity=\"1\" /><path clip-path=\"url(#clip070)\" d=\"M 0 0 M2120.37 328.492 L2124.89 328.492 L2132.99 350.251 L2141.09 328.492 L2145.61 328.492 L2135.88 354.418 L2130.1 354.418 L2120.37 328.492 Z\" fill=\"#000000\" fill-rule=\"evenodd\" fill-opacity=\"1\" /><path clip-path=\"url(#clip070)\" d=\"M 0 0 M2161.86 341.385 Q2156.69 341.385 2154.7 342.566 Q2152.71 343.746 2152.71 346.594 Q2152.71 348.862 2154.19 350.205 Q2155.7 351.524 2158.27 351.524 Q2161.81 351.524 2163.94 349.024 Q2166.09 346.501 2166.09 342.334 L2166.09 341.385 L2161.86 341.385 M2170.35 339.626 L2170.35 354.418 L2166.09 354.418 L2166.09 350.482 Q2164.63 352.843 2162.46 353.978 Q2160.28 355.089 2157.13 355.089 Q2153.15 355.089 2150.79 352.867 Q2148.45 350.621 2148.45 346.871 Q2148.45 342.496 2151.37 340.274 Q2154.31 338.052 2160.12 338.052 L2166.09 338.052 L2166.09 337.635 Q2166.09 334.695 2164.15 333.098 Q2162.23 331.478 2158.73 331.478 Q2156.51 331.478 2154.4 332.01 Q2152.3 332.543 2150.35 333.607 L2150.35 329.672 Q2152.69 328.77 2154.89 328.33 Q2157.09 327.867 2159.17 327.867 Q2164.8 327.867 2167.57 330.783 Q2170.35 333.7 2170.35 339.626 Z\" fill=\"#000000\" fill-rule=\"evenodd\" fill-opacity=\"1\" /><path clip-path=\"url(#clip070)\" d=\"M 0 0 M2174.82 318.399 L2179.08 318.399 L2179.08 354.418 L2174.82 354.418 L2174.82 318.399 Z\" fill=\"#000000\" fill-rule=\"evenodd\" fill-opacity=\"1\" /><path clip-path=\"url(#clip070)\" d=\"M 0 0 M2183.11 344.186 L2183.11 328.492 L2187.37 328.492 L2187.37 344.024 Q2187.37 347.705 2188.8 349.556 Q2190.24 351.385 2193.11 351.385 Q2196.55 351.385 2198.55 349.186 Q2200.56 346.987 2200.56 343.191 L2200.56 328.492 L2204.82 328.492 L2204.82 354.418 L2200.56 354.418 L2200.56 350.436 Q2199.01 352.797 2196.95 353.955 Q2194.91 355.089 2192.2 355.089 Q2187.74 355.089 2185.42 352.311 Q2183.11 349.533 2183.11 344.186 M2193.82 327.867 L2193.82 327.867 Z\" fill=\"#000000\" fill-rule=\"evenodd\" fill-opacity=\"1\" /><path clip-path=\"url(#clip070)\" d=\"M 0 0 M2231.46 340.39 L2231.46 342.473 L2211.88 342.473 Q2212.16 346.871 2214.52 349.186 Q2216.9 351.478 2221.14 351.478 Q2223.59 351.478 2225.88 350.876 Q2228.2 350.274 2230.47 349.07 L2230.47 353.098 Q2228.18 354.07 2225.77 354.58 Q2223.36 355.089 2220.88 355.089 Q2214.68 355.089 2211.05 351.478 Q2207.43 347.867 2207.43 341.709 Q2207.43 335.344 2210.86 331.617 Q2214.31 327.867 2220.14 327.867 Q2225.37 327.867 2228.41 331.246 Q2231.46 334.603 2231.46 340.39 M2227.2 339.14 Q2227.16 335.645 2225.24 333.561 Q2223.34 331.478 2220.19 331.478 Q2216.62 331.478 2214.47 333.492 Q2212.34 335.506 2212.02 339.163 L2227.2 339.14 Z\" fill=\"#000000\" fill-rule=\"evenodd\" fill-opacity=\"1\" /><circle clip-path=\"url(#clip070)\" cx=\"1907.78\" cy=\"397.618\" r=\"23\" fill=\"#008000\" fill-rule=\"evenodd\" fill-opacity=\"1\" stroke=\"#000000\" stroke-opacity=\"1\" stroke-width=\"5.12\"/>\n",
       "<path clip-path=\"url(#clip070)\" d=\"M 0 0 M2020 392.953 Q2019.29 392.537 2018.43 392.351 Q2017.6 392.143 2016.58 392.143 Q2012.97 392.143 2011.02 394.504 Q2009.1 396.842 2009.1 401.24 L2009.1 414.898 L2004.82 414.898 L2004.82 388.972 L2009.1 388.972 L2009.1 393 Q2010.44 390.638 2012.6 389.504 Q2014.75 388.347 2017.83 388.347 Q2018.27 388.347 2018.8 388.416 Q2019.33 388.463 2019.98 388.578 L2020 392.953 Z\" fill=\"#000000\" fill-rule=\"evenodd\" fill-opacity=\"1\" /><path clip-path=\"url(#clip070)\" d=\"M 0 0 M2033.48 391.958 Q2030.05 391.958 2028.06 394.643 Q2026.07 397.305 2026.07 401.958 Q2026.07 406.611 2028.04 409.296 Q2030.03 411.958 2033.48 411.958 Q2036.88 411.958 2038.87 409.273 Q2040.86 406.587 2040.86 401.958 Q2040.86 397.351 2038.87 394.666 Q2036.88 391.958 2033.48 391.958 M2033.48 388.347 Q2039.03 388.347 2042.2 391.958 Q2045.38 395.569 2045.38 401.958 Q2045.38 408.324 2042.2 411.958 Q2039.03 415.569 2033.48 415.569 Q2027.9 415.569 2024.73 411.958 Q2021.58 408.324 2021.58 401.958 Q2021.58 395.569 2024.73 391.958 Q2027.9 388.347 2033.48 388.347 Z\" fill=\"#000000\" fill-rule=\"evenodd\" fill-opacity=\"1\" /><path clip-path=\"url(#clip070)\" d=\"M 0 0 M2059.89 391.958 Q2056.46 391.958 2054.47 394.643 Q2052.48 397.305 2052.48 401.958 Q2052.48 406.611 2054.45 409.296 Q2056.44 411.958 2059.89 411.958 Q2063.29 411.958 2065.28 409.273 Q2067.27 406.587 2067.27 401.958 Q2067.27 397.351 2065.28 394.666 Q2063.29 391.958 2059.89 391.958 M2059.89 388.347 Q2065.44 388.347 2068.62 391.958 Q2071.79 395.569 2071.79 401.958 Q2071.79 408.324 2068.62 411.958 Q2065.44 415.569 2059.89 415.569 Q2054.31 415.569 2051.14 411.958 Q2047.99 408.324 2047.99 401.958 Q2047.99 395.569 2051.14 391.958 Q2054.31 388.347 2059.89 388.347 Z\" fill=\"#000000\" fill-rule=\"evenodd\" fill-opacity=\"1\" /><path clip-path=\"url(#clip070)\" d=\"M 0 0 M2080.47 381.611 L2080.47 388.972 L2089.24 388.972 L2089.24 392.282 L2080.47 392.282 L2080.47 406.356 Q2080.47 409.527 2081.32 410.43 Q2082.2 411.333 2084.87 411.333 L2089.24 411.333 L2089.24 414.898 L2084.87 414.898 Q2079.94 414.898 2078.06 413.069 Q2076.19 411.217 2076.19 406.356 L2076.19 392.282 L2073.06 392.282 L2073.06 388.972 L2076.19 388.972 L2076.19 381.611 L2080.47 381.611 Z\" fill=\"#000000\" fill-rule=\"evenodd\" fill-opacity=\"1\" /></svg>\n"
      ]
     },
     "execution_count": 47,
     "metadata": {},
     "output_type": "execute_result"
    }
   ],
   "source": [
    "plot(g, label=\"f(x)\", (-10, 18)..., linewidth=2)\n",
    "xk = [\n",
    "    1.0000000000000000,\n",
    "    -7.4727406398312315,\n",
    "    14.4785209828738370,\n",
    "    6.9351154080461033,\n",
    "    16.6356841214309199,\n",
    "    8.3439375493161698,\n",
    "    4.9546327243405406,\n",
    "    -8.3013179977216467,\n",
    "    -4.8173199338714303,\n",
    "    3.7925744878946874,\n",
    "    1.8610609427091811,\n",
    "    1.8962142114143934,\n",
    "    1.8954945666276892,\n",
    "    1.8954942670340329,\n",
    "    1.8954942670339809\n",
    "]\n",
    "plot!([x -> 0], (-20, 30)..., ylim=(-10, 6), xlim=(-10, 20))\n",
    "scatter!(xk, map(x -> g(x), xk), label=\"xk\", color=\"orange\")\n",
    "scatter!([xk[1]], [g(xk[1])], color=\"blue\", label=\"Initial value\")\n",
    "for i in 1:5\n",
    "    xn = xk[i]\n",
    "    plot!(x -> dg(xn) * x + g(xn) - dg(xn) * xn, (-10, 20)..., label=\"\", color=\"grey\")\n",
    "    vline!([xn], color=\"rgba(128, 128, 128, 0.5)\", label=\"\")\n",
    "end\n",
    "\n",
    "scatter!([1.8954942670339809], [0], color=\"green\", label=\"root\")"
   ]
  },
  {
   "cell_type": "code",
   "execution_count": 48,
   "metadata": {},
   "outputs": [
    {
     "name": "stdout",
     "output_type": "stream",
     "text": [
      "Results of univariate zero finding:\n",
      "\n",
      "* Converged to: 1.895494267033981\n",
      "* Algorithm: Roots.Secant()\n",
      "* iterations: 10\n",
      "* function evaluations: 12\n",
      "* stopped as |f(x_n)| ≤ max(δ, max(1,|x|)⋅ϵ) using δ = atol, ϵ = rtol\n",
      "\n",
      "Trace:\n",
      "x_0 =  1.0000000000000000,\t fx_0 =  0.3414709848078965\n",
      "x_1 = -7.4732762903841063,\t fx_1 =  2.8082353669792566\n",
      "x_2 =  2.1729446153588370,\t fx_2 = -0.2623516113255318\n",
      "x_3 =  1.3487694281049514,\t fx_3 =  0.3010684015958831\n",
      "x_4 =  1.7891746330512732,\t fx_4 =  0.0816627510127899\n",
      "x_5 =  1.9530933858303756,\t fx_5 = -0.0487365328443132\n",
      "x_6 =  1.8918290027577502,\t fx_6 =  0.0029955652938334\n",
      "x_7 =  1.8953765383552894,\t fx_7 =  0.0000964158715917\n",
      "x_8 =  1.8954945173507891,\t fx_8 = -0.0000002050151338\n",
      "x_9 =  1.8954942670169290,\t fx_9 =  0.0000000000139659\n",
      "x_10 =  1.8954942670339809,\t fx_10 =  0.0000000000000000\n",
      "\n"
     ]
    },
    {
     "data": {
      "text/plain": [
       "1.895494267033981"
      ]
     },
     "execution_count": 48,
     "metadata": {},
     "output_type": "execute_result"
    }
   ],
   "source": [
    "result = find_zero(g, lim[1], Order1(), verbose=true)"
   ]
  },
  {
   "cell_type": "markdown",
   "metadata": {},
   "source": [
    "## Zadanie 3"
   ]
  },
  {
   "cell_type": "markdown",
   "metadata": {},
   "source": [
    "### a)"
   ]
  },
  {
   "cell_type": "markdown",
   "metadata": {},
   "source": [
    "Przykład funkcji, przy której nie działa metoda bisekcji. Metoda bisekcji opiera się nie obserwacji zmiany znaków funkcji przy przejściu przez oś `x`. W tym przypadku pierwiastek istnieje, ale znak się nie zmienia, więc metoda go nie wykrywa."
   ]
  },
  {
   "cell_type": "code",
   "execution_count": 49,
   "metadata": {},
   "outputs": [
    {
     "data": {
      "text/plain": [
       "f (generic function with 1 method)"
      ]
     },
     "execution_count": 49,
     "metadata": {},
     "output_type": "execute_result"
    }
   ],
   "source": [
    "f(x) = (x - 1)^2 * (x + 4) ^ 4"
   ]
  },
  {
   "cell_type": "code",
   "execution_count": 50,
   "metadata": {},
   "outputs": [
    {
     "ename": "ArgumentError",
     "evalue": "\u001b[91mArgumentError: The interval [a,b] is not a bracketing interval.\u001b[39m\n\u001b[91mYou need f(a) and f(b) to have different signs (f(a) * f(b) < 0).\u001b[39m\n\u001b[91mConsider a different bracket or try fzero(f, c) with an initial guess c.\u001b[39m\n\n",
     "output_type": "error",
     "traceback": [
      "\u001b[91mArgumentError: The interval [a,b] is not a bracketing interval.\u001b[39m\n\u001b[91mYou need f(a) and f(b) to have different signs (f(a) * f(b) < 0).\u001b[39m\n\u001b[91mConsider a different bracket or try fzero(f, c) with an initial guess c.\u001b[39m\n\n",
      "",
      "Stacktrace:",
      " [1] init_state(::Bisection, ::Roots.DerivativeFree{typeof(f)}, ::Tuple{Float64,Float64}) at /home/tomek/.julia/packages/Roots/kk34X/src/bracketing.jl:83",
      " [2] find_zero(::Function, ::Tuple{Int64,Int64}, ::Bisection; tracks::Roots.NullTracks, verbose::Bool, kwargs::Base.Iterators.Pairs{Union{},Union{},Tuple{},NamedTuple{(),Tuple{}}}) at /home/tomek/.julia/packages/Roots/kk34X/src/bracketing.jl:334",
      " [3] find_zero(::Function, ::Tuple{Int64,Int64}, ::Bisection) at /home/tomek/.julia/packages/Roots/kk34X/src/bracketing.jl:331",
      " [4] top-level scope at In[50]:1"
     ]
    }
   ],
   "source": [
    "find_zero(f, (-2, 2), Bisection())"
   ]
  },
  {
   "cell_type": "code",
   "execution_count": 51,
   "metadata": {},
   "outputs": [
    {
     "data": {
      "text/plain": [
       "1.0"
      ]
     },
     "execution_count": 51,
     "metadata": {},
     "output_type": "execute_result"
    }
   ],
   "source": [
    "x = find_zero((f, x -> ForwardDiff.derivative(f, float(x))), 0, Roots.Newton())"
   ]
  },
  {
   "cell_type": "code",
   "execution_count": 52,
   "metadata": {},
   "outputs": [
    {
     "data": {
      "text/plain": [
       "true"
      ]
     },
     "execution_count": 52,
     "metadata": {},
     "output_type": "execute_result"
    }
   ],
   "source": [
    "isCorrectZero(f, x)"
   ]
  },
  {
   "cell_type": "code",
   "execution_count": 53,
   "metadata": {},
   "outputs": [
    {
     "data": {
      "text/plain": [
       "0.9999999990948166"
      ]
     },
     "execution_count": 53,
     "metadata": {},
     "output_type": "execute_result"
    }
   ],
   "source": [
    "x = find_zero(f, 0, Order1())"
   ]
  },
  {
   "cell_type": "code",
   "execution_count": 54,
   "metadata": {},
   "outputs": [
    {
     "data": {
      "text/plain": [
       "false"
      ]
     },
     "execution_count": 54,
     "metadata": {},
     "output_type": "execute_result"
    }
   ],
   "source": [
    "isCorrectZero(f, x)"
   ]
  },
  {
   "cell_type": "code",
   "execution_count": 55,
   "metadata": {},
   "outputs": [
    {
     "data": {
      "image/svg+xml": [
       "<?xml version=\"1.0\" encoding=\"utf-8\"?>\n",
       "<svg xmlns=\"http://www.w3.org/2000/svg\" xmlns:xlink=\"http://www.w3.org/1999/xlink\" width=\"600\" height=\"400\" viewBox=\"0 0 2400 1600\">\n",
       "<defs>\n",
       "  <clipPath id=\"clip110\">\n",
       "    <rect x=\"0\" y=\"0\" width=\"2400\" height=\"1600\"/>\n",
       "  </clipPath>\n",
       "</defs>\n",
       "<path clip-path=\"url(#clip110)\" d=\"\n",
       "M0 1600 L2400 1600 L2400 0 L0 0  Z\n",
       "  \" fill=\"#ffffff\" fill-rule=\"evenodd\" fill-opacity=\"1\"/>\n",
       "<defs>\n",
       "  <clipPath id=\"clip111\">\n",
       "    <rect x=\"480\" y=\"0\" width=\"1681\" height=\"1600\"/>\n",
       "  </clipPath>\n",
       "</defs>\n",
       "<path clip-path=\"url(#clip110)\" d=\"\n",
       "M188.612 1486.45 L2352.76 1486.45 L2352.76 47.2441 L188.612 47.2441  Z\n",
       "  \" fill=\"#ffffff\" fill-rule=\"evenodd\" fill-opacity=\"1\"/>\n",
       "<defs>\n",
       "  <clipPath id=\"clip112\">\n",
       "    <rect x=\"188\" y=\"47\" width=\"2165\" height=\"1440\"/>\n",
       "  </clipPath>\n",
       "</defs>\n",
       "<polyline clip-path=\"url(#clip112)\" style=\"stroke:#000000; stroke-width:2; stroke-opacity:0.1; fill:none\" points=\"\n",
       "  249.861,1486.45 249.861,47.2441 \n",
       "  \"/>\n",
       "<polyline clip-path=\"url(#clip112)\" style=\"stroke:#000000; stroke-width:2; stroke-opacity:0.1; fill:none\" points=\"\n",
       "  760.273,1486.45 760.273,47.2441 \n",
       "  \"/>\n",
       "<polyline clip-path=\"url(#clip112)\" style=\"stroke:#000000; stroke-width:2; stroke-opacity:0.1; fill:none\" points=\"\n",
       "  1270.68,1486.45 1270.68,47.2441 \n",
       "  \"/>\n",
       "<polyline clip-path=\"url(#clip112)\" style=\"stroke:#000000; stroke-width:2; stroke-opacity:0.1; fill:none\" points=\"\n",
       "  1781.1,1486.45 1781.1,47.2441 \n",
       "  \"/>\n",
       "<polyline clip-path=\"url(#clip112)\" style=\"stroke:#000000; stroke-width:2; stroke-opacity:0.1; fill:none\" points=\"\n",
       "  2291.51,1486.45 2291.51,47.2441 \n",
       "  \"/>\n",
       "<polyline clip-path=\"url(#clip110)\" style=\"stroke:#000000; stroke-width:4; stroke-opacity:1; fill:none\" points=\"\n",
       "  188.612,1486.45 2352.76,1486.45 \n",
       "  \"/>\n",
       "<polyline clip-path=\"url(#clip110)\" style=\"stroke:#000000; stroke-width:4; stroke-opacity:1; fill:none\" points=\"\n",
       "  249.861,1486.45 249.861,1469.18 \n",
       "  \"/>\n",
       "<polyline clip-path=\"url(#clip110)\" style=\"stroke:#000000; stroke-width:4; stroke-opacity:1; fill:none\" points=\"\n",
       "  760.273,1486.45 760.273,1469.18 \n",
       "  \"/>\n",
       "<polyline clip-path=\"url(#clip110)\" style=\"stroke:#000000; stroke-width:4; stroke-opacity:1; fill:none\" points=\"\n",
       "  1270.68,1486.45 1270.68,1469.18 \n",
       "  \"/>\n",
       "<polyline clip-path=\"url(#clip110)\" style=\"stroke:#000000; stroke-width:4; stroke-opacity:1; fill:none\" points=\"\n",
       "  1781.1,1486.45 1781.1,1469.18 \n",
       "  \"/>\n",
       "<polyline clip-path=\"url(#clip110)\" style=\"stroke:#000000; stroke-width:4; stroke-opacity:1; fill:none\" points=\"\n",
       "  2291.51,1486.45 2291.51,1469.18 \n",
       "  \"/>\n",
       "<path clip-path=\"url(#clip110)\" d=\"M 0 0 M221.436 1530.29 L251.111 1530.29 L251.111 1534.23 L221.436 1534.23 L221.436 1530.29 Z\" fill=\"#000000\" fill-rule=\"evenodd\" fill-opacity=\"1\" /><path clip-path=\"url(#clip110)\" d=\"M 0 0 M266.759 1527.98 Q263.611 1527.98 261.759 1530.13 Q259.931 1532.28 259.931 1536.03 Q259.931 1539.76 261.759 1541.93 Q263.611 1544.09 266.759 1544.09 Q269.907 1544.09 271.736 1541.93 Q273.588 1539.76 273.588 1536.03 Q273.588 1532.28 271.736 1530.13 Q269.907 1527.98 266.759 1527.98 M276.042 1513.32 L276.042 1517.58 Q274.282 1516.75 272.477 1516.31 Q270.695 1515.87 268.935 1515.87 Q264.306 1515.87 261.852 1519 Q259.421 1522.12 259.074 1528.44 Q260.44 1526.43 262.5 1525.36 Q264.56 1524.27 267.037 1524.27 Q272.245 1524.27 275.255 1527.44 Q278.287 1530.59 278.287 1536.03 Q278.287 1541.36 275.139 1544.57 Q271.991 1547.79 266.759 1547.79 Q260.764 1547.79 257.593 1543.21 Q254.421 1538.6 254.421 1529.87 Q254.421 1521.68 258.31 1516.82 Q262.199 1511.93 268.75 1511.93 Q270.509 1511.93 272.292 1512.28 Q274.097 1512.63 276.042 1513.32 Z\" fill=\"#000000\" fill-rule=\"evenodd\" fill-opacity=\"1\" /><path clip-path=\"url(#clip110)\" d=\"M 0 0 M731.685 1530.29 L761.361 1530.29 L761.361 1534.23 L731.685 1534.23 L731.685 1530.29 Z\" fill=\"#000000\" fill-rule=\"evenodd\" fill-opacity=\"1\" /><path clip-path=\"url(#clip110)\" d=\"M 0 0 M779.277 1516.63 L767.472 1535.08 L779.277 1535.08 L779.277 1516.63 M778.05 1512.56 L783.93 1512.56 L783.93 1535.08 L788.86 1535.08 L788.86 1538.97 L783.93 1538.97 L783.93 1547.12 L779.277 1547.12 L779.277 1538.97 L763.675 1538.97 L763.675 1534.46 L778.05 1512.56 Z\" fill=\"#000000\" fill-rule=\"evenodd\" fill-opacity=\"1\" /><path clip-path=\"url(#clip110)\" d=\"M 0 0 M1243.14 1530.29 L1272.81 1530.29 L1272.81 1534.23 L1243.14 1534.23 L1243.14 1530.29 Z\" fill=\"#000000\" fill-rule=\"evenodd\" fill-opacity=\"1\" /><path clip-path=\"url(#clip110)\" d=\"M 0 0 M1281.91 1543.18 L1298.23 1543.18 L1298.23 1547.12 L1276.29 1547.12 L1276.29 1543.18 Q1278.95 1540.43 1283.53 1535.8 Q1288.14 1531.15 1289.32 1529.81 Q1291.56 1527.28 1292.44 1525.55 Q1293.35 1523.79 1293.35 1522.1 Q1293.35 1519.34 1291.4 1517.61 Q1289.48 1515.87 1286.38 1515.87 Q1284.18 1515.87 1281.73 1516.63 Q1279.29 1517.4 1276.52 1518.95 L1276.52 1514.23 Q1279.34 1513.09 1281.79 1512.51 Q1284.25 1511.93 1286.29 1511.93 Q1291.66 1511.93 1294.85 1514.62 Q1298.04 1517.31 1298.04 1521.8 Q1298.04 1523.93 1297.23 1525.85 Q1296.45 1527.74 1294.34 1530.34 Q1293.76 1531.01 1290.66 1534.23 Q1287.56 1537.42 1281.91 1543.18 Z\" fill=\"#000000\" fill-rule=\"evenodd\" fill-opacity=\"1\" /><path clip-path=\"url(#clip110)\" d=\"M 0 0 M1781.1 1515.64 Q1777.48 1515.64 1775.66 1519.2 Q1773.85 1522.75 1773.85 1529.87 Q1773.85 1536.98 1775.66 1540.55 Q1777.48 1544.09 1781.1 1544.09 Q1784.73 1544.09 1786.54 1540.55 Q1788.36 1536.98 1788.36 1529.87 Q1788.36 1522.75 1786.54 1519.2 Q1784.73 1515.64 1781.1 1515.64 M1781.1 1511.93 Q1786.91 1511.93 1789.96 1516.54 Q1793.04 1521.12 1793.04 1529.87 Q1793.04 1538.6 1789.96 1543.21 Q1786.91 1547.79 1781.1 1547.79 Q1775.29 1547.79 1772.21 1543.21 Q1769.15 1538.6 1769.15 1529.87 Q1769.15 1521.12 1772.21 1516.54 Q1775.29 1511.93 1781.1 1511.93 Z\" fill=\"#000000\" fill-rule=\"evenodd\" fill-opacity=\"1\" /><path clip-path=\"url(#clip110)\" d=\"M 0 0 M2286.16 1543.18 L2302.48 1543.18 L2302.48 1547.12 L2280.53 1547.12 L2280.53 1543.18 Q2283.2 1540.43 2287.78 1535.8 Q2292.39 1531.15 2293.57 1529.81 Q2295.81 1527.28 2296.69 1525.55 Q2297.59 1523.79 2297.59 1522.1 Q2297.59 1519.34 2295.65 1517.61 Q2293.73 1515.87 2290.63 1515.87 Q2288.43 1515.87 2285.97 1516.63 Q2283.54 1517.4 2280.77 1518.95 L2280.77 1514.23 Q2283.59 1513.09 2286.04 1512.51 Q2288.5 1511.93 2290.53 1511.93 Q2295.9 1511.93 2299.1 1514.62 Q2302.29 1517.31 2302.29 1521.8 Q2302.29 1523.93 2301.48 1525.85 Q2300.7 1527.74 2298.59 1530.34 Q2298.01 1531.01 2294.91 1534.23 Q2291.81 1537.42 2286.16 1543.18 Z\" fill=\"#000000\" fill-rule=\"evenodd\" fill-opacity=\"1\" /><polyline clip-path=\"url(#clip112)\" style=\"stroke:#000000; stroke-width:2; stroke-opacity:0.1; fill:none\" points=\"\n",
       "  188.612,1445.72 2352.76,1445.72 \n",
       "  \"/>\n",
       "<polyline clip-path=\"url(#clip112)\" style=\"stroke:#000000; stroke-width:2; stroke-opacity:0.1; fill:none\" points=\"\n",
       "  188.612,1236.19 2352.76,1236.19 \n",
       "  \"/>\n",
       "<polyline clip-path=\"url(#clip112)\" style=\"stroke:#000000; stroke-width:2; stroke-opacity:0.1; fill:none\" points=\"\n",
       "  188.612,1026.66 2352.76,1026.66 \n",
       "  \"/>\n",
       "<polyline clip-path=\"url(#clip112)\" style=\"stroke:#000000; stroke-width:2; stroke-opacity:0.1; fill:none\" points=\"\n",
       "  188.612,817.133 2352.76,817.133 \n",
       "  \"/>\n",
       "<polyline clip-path=\"url(#clip112)\" style=\"stroke:#000000; stroke-width:2; stroke-opacity:0.1; fill:none\" points=\"\n",
       "  188.612,607.605 2352.76,607.605 \n",
       "  \"/>\n",
       "<polyline clip-path=\"url(#clip112)\" style=\"stroke:#000000; stroke-width:2; stroke-opacity:0.1; fill:none\" points=\"\n",
       "  188.612,398.077 2352.76,398.077 \n",
       "  \"/>\n",
       "<polyline clip-path=\"url(#clip112)\" style=\"stroke:#000000; stroke-width:2; stroke-opacity:0.1; fill:none\" points=\"\n",
       "  188.612,188.55 2352.76,188.55 \n",
       "  \"/>\n",
       "<polyline clip-path=\"url(#clip110)\" style=\"stroke:#000000; stroke-width:4; stroke-opacity:1; fill:none\" points=\"\n",
       "  188.612,1486.45 188.612,47.2441 \n",
       "  \"/>\n",
       "<polyline clip-path=\"url(#clip110)\" style=\"stroke:#000000; stroke-width:4; stroke-opacity:1; fill:none\" points=\"\n",
       "  188.612,1445.72 214.582,1445.72 \n",
       "  \"/>\n",
       "<polyline clip-path=\"url(#clip110)\" style=\"stroke:#000000; stroke-width:4; stroke-opacity:1; fill:none\" points=\"\n",
       "  188.612,1236.19 214.582,1236.19 \n",
       "  \"/>\n",
       "<polyline clip-path=\"url(#clip110)\" style=\"stroke:#000000; stroke-width:4; stroke-opacity:1; fill:none\" points=\"\n",
       "  188.612,1026.66 214.582,1026.66 \n",
       "  \"/>\n",
       "<polyline clip-path=\"url(#clip110)\" style=\"stroke:#000000; stroke-width:4; stroke-opacity:1; fill:none\" points=\"\n",
       "  188.612,817.133 214.582,817.133 \n",
       "  \"/>\n",
       "<polyline clip-path=\"url(#clip110)\" style=\"stroke:#000000; stroke-width:4; stroke-opacity:1; fill:none\" points=\"\n",
       "  188.612,607.605 214.582,607.605 \n",
       "  \"/>\n",
       "<polyline clip-path=\"url(#clip110)\" style=\"stroke:#000000; stroke-width:4; stroke-opacity:1; fill:none\" points=\"\n",
       "  188.612,398.077 214.582,398.077 \n",
       "  \"/>\n",
       "<polyline clip-path=\"url(#clip110)\" style=\"stroke:#000000; stroke-width:4; stroke-opacity:1; fill:none\" points=\"\n",
       "  188.612,188.55 214.582,188.55 \n",
       "  \"/>\n",
       "<path clip-path=\"url(#clip110)\" d=\"M 0 0 M140.668 1431.51 Q137.056 1431.51 135.228 1435.08 Q133.422 1438.62 133.422 1445.75 Q133.422 1452.86 135.228 1456.42 Q137.056 1459.96 140.668 1459.96 Q144.302 1459.96 146.107 1456.42 Q147.936 1452.86 147.936 1445.75 Q147.936 1438.62 146.107 1435.08 Q144.302 1431.51 140.668 1431.51 M140.668 1427.81 Q146.478 1427.81 149.533 1432.42 Q152.612 1437 152.612 1445.75 Q152.612 1454.48 149.533 1459.08 Q146.478 1463.67 140.668 1463.67 Q134.857 1463.67 131.779 1459.08 Q128.723 1454.48 128.723 1445.75 Q128.723 1437 131.779 1432.42 Q134.857 1427.81 140.668 1427.81 Z\" fill=\"#000000\" fill-rule=\"evenodd\" fill-opacity=\"1\" /><path clip-path=\"url(#clip110)\" d=\"M 0 0 M82.2651 1249.53 L98.5845 1249.53 L98.5845 1253.47 L76.6401 1253.47 L76.6401 1249.53 Q79.3022 1246.78 83.8855 1242.15 Q88.4919 1237.5 89.6725 1236.15 Q91.9178 1233.63 92.7975 1231.89 Q93.7002 1230.13 93.7002 1228.44 Q93.7002 1225.69 91.7558 1223.95 Q89.8345 1222.22 86.7327 1222.22 Q84.5336 1222.22 82.0799 1222.98 Q79.6494 1223.75 76.8716 1225.3 L76.8716 1220.57 Q79.6957 1219.44 82.1494 1218.86 Q84.6031 1218.28 86.6401 1218.28 Q92.0104 1218.28 95.2049 1220.97 Q98.3993 1223.65 98.3993 1228.14 Q98.3993 1230.27 97.5891 1232.19 Q96.8021 1234.09 94.6956 1236.69 Q94.1169 1237.36 91.0151 1240.57 Q87.9132 1243.77 82.2651 1249.53 Z\" fill=\"#000000\" fill-rule=\"evenodd\" fill-opacity=\"1\" /><path clip-path=\"url(#clip110)\" d=\"M 0 0 M113.654 1221.99 Q110.043 1221.99 108.214 1225.55 Q106.408 1229.09 106.408 1236.22 Q106.408 1243.33 108.214 1246.89 Q110.043 1250.44 113.654 1250.44 Q117.288 1250.44 119.094 1246.89 Q120.922 1243.33 120.922 1236.22 Q120.922 1229.09 119.094 1225.55 Q117.288 1221.99 113.654 1221.99 M113.654 1218.28 Q119.464 1218.28 122.52 1222.89 Q125.598 1227.47 125.598 1236.22 Q125.598 1244.95 122.52 1249.56 Q119.464 1254.14 113.654 1254.14 Q107.844 1254.14 104.765 1249.56 Q101.709 1244.95 101.709 1236.22 Q101.709 1227.47 104.765 1222.89 Q107.844 1218.28 113.654 1218.28 Z\" fill=\"#000000\" fill-rule=\"evenodd\" fill-opacity=\"1\" /><path clip-path=\"url(#clip110)\" d=\"M 0 0 M140.668 1221.99 Q137.056 1221.99 135.228 1225.55 Q133.422 1229.09 133.422 1236.22 Q133.422 1243.33 135.228 1246.89 Q137.056 1250.44 140.668 1250.44 Q144.302 1250.44 146.107 1246.89 Q147.936 1243.33 147.936 1236.22 Q147.936 1229.09 146.107 1225.55 Q144.302 1221.99 140.668 1221.99 M140.668 1218.28 Q146.478 1218.28 149.533 1222.89 Q152.612 1227.47 152.612 1236.22 Q152.612 1244.95 149.533 1249.56 Q146.478 1254.14 140.668 1254.14 Q134.857 1254.14 131.779 1249.56 Q128.723 1244.95 128.723 1236.22 Q128.723 1227.47 131.779 1222.89 Q134.857 1218.28 140.668 1218.28 Z\" fill=\"#000000\" fill-rule=\"evenodd\" fill-opacity=\"1\" /><path clip-path=\"url(#clip110)\" d=\"M 0 0 M89.0012 1013.45 L77.1957 1031.9 L89.0012 1031.9 L89.0012 1013.45 M87.7743 1009.38 L93.6539 1009.38 L93.6539 1031.9 L98.5845 1031.9 L98.5845 1035.79 L93.6539 1035.79 L93.6539 1043.94 L89.0012 1043.94 L89.0012 1035.79 L73.3994 1035.79 L73.3994 1031.28 L87.7743 1009.38 Z\" fill=\"#000000\" fill-rule=\"evenodd\" fill-opacity=\"1\" /><path clip-path=\"url(#clip110)\" d=\"M 0 0 M113.654 1012.46 Q110.043 1012.46 108.214 1016.02 Q106.408 1019.57 106.408 1026.7 Q106.408 1033.8 108.214 1037.37 Q110.043 1040.91 113.654 1040.91 Q117.288 1040.91 119.094 1037.37 Q120.922 1033.8 120.922 1026.7 Q120.922 1019.57 119.094 1016.02 Q117.288 1012.46 113.654 1012.46 M113.654 1008.76 Q119.464 1008.76 122.52 1013.36 Q125.598 1017.95 125.598 1026.7 Q125.598 1035.42 122.52 1040.03 Q119.464 1044.61 113.654 1044.61 Q107.844 1044.61 104.765 1040.03 Q101.709 1035.42 101.709 1026.7 Q101.709 1017.95 104.765 1013.36 Q107.844 1008.76 113.654 1008.76 Z\" fill=\"#000000\" fill-rule=\"evenodd\" fill-opacity=\"1\" /><path clip-path=\"url(#clip110)\" d=\"M 0 0 M140.668 1012.46 Q137.056 1012.46 135.228 1016.02 Q133.422 1019.57 133.422 1026.7 Q133.422 1033.8 135.228 1037.37 Q137.056 1040.91 140.668 1040.91 Q144.302 1040.91 146.107 1037.37 Q147.936 1033.8 147.936 1026.7 Q147.936 1019.57 146.107 1016.02 Q144.302 1012.46 140.668 1012.46 M140.668 1008.76 Q146.478 1008.76 149.533 1013.36 Q152.612 1017.95 152.612 1026.7 Q152.612 1035.42 149.533 1040.03 Q146.478 1044.61 140.668 1044.61 Q134.857 1044.61 131.779 1040.03 Q128.723 1035.42 128.723 1026.7 Q128.723 1017.95 131.779 1013.36 Q134.857 1008.76 140.668 1008.76 Z\" fill=\"#000000\" fill-rule=\"evenodd\" fill-opacity=\"1\" /><path clip-path=\"url(#clip110)\" d=\"M 0 0 M87.0567 815.269 Q83.9086 815.269 82.0568 817.422 Q80.2281 819.575 80.2281 823.325 Q80.2281 827.052 82.0568 829.227 Q83.9086 831.38 87.0567 831.38 Q90.2049 831.38 92.0336 829.227 Q93.8854 827.052 93.8854 823.325 Q93.8854 819.575 92.0336 817.422 Q90.2049 815.269 87.0567 815.269 M96.3391 800.617 L96.3391 804.876 Q94.5799 804.042 92.7743 803.603 Q90.9919 803.163 89.2327 803.163 Q84.6031 803.163 82.1494 806.288 Q79.7188 809.413 79.3716 815.732 Q80.7373 813.718 82.7975 812.653 Q84.8577 811.566 87.3345 811.566 Q92.5428 811.566 95.5521 814.737 Q98.5845 817.885 98.5845 823.325 Q98.5845 828.649 95.4363 831.866 Q92.2882 835.084 87.0567 835.084 Q81.0614 835.084 77.8901 830.501 Q74.7189 825.894 74.7189 817.167 Q74.7189 808.973 78.6077 804.112 Q82.4966 799.228 89.0475 799.228 Q90.8067 799.228 92.5891 799.575 Q94.3947 799.922 96.3391 800.617 Z\" fill=\"#000000\" fill-rule=\"evenodd\" fill-opacity=\"1\" /><path clip-path=\"url(#clip110)\" d=\"M 0 0 M113.654 802.931 Q110.043 802.931 108.214 806.496 Q106.408 810.038 106.408 817.167 Q106.408 824.274 108.214 827.839 Q110.043 831.38 113.654 831.38 Q117.288 831.38 119.094 827.839 Q120.922 824.274 120.922 817.167 Q120.922 810.038 119.094 806.496 Q117.288 802.931 113.654 802.931 M113.654 799.228 Q119.464 799.228 122.52 803.834 Q125.598 808.417 125.598 817.167 Q125.598 825.894 122.52 830.501 Q119.464 835.084 113.654 835.084 Q107.844 835.084 104.765 830.501 Q101.709 825.894 101.709 817.167 Q101.709 808.417 104.765 803.834 Q107.844 799.228 113.654 799.228 Z\" fill=\"#000000\" fill-rule=\"evenodd\" fill-opacity=\"1\" /><path clip-path=\"url(#clip110)\" d=\"M 0 0 M140.668 802.931 Q137.056 802.931 135.228 806.496 Q133.422 810.038 133.422 817.167 Q133.422 824.274 135.228 827.839 Q137.056 831.38 140.668 831.38 Q144.302 831.38 146.107 827.839 Q147.936 824.274 147.936 817.167 Q147.936 810.038 146.107 806.496 Q144.302 802.931 140.668 802.931 M140.668 799.228 Q146.478 799.228 149.533 803.834 Q152.612 808.417 152.612 817.167 Q152.612 825.894 149.533 830.501 Q146.478 835.084 140.668 835.084 Q134.857 835.084 131.779 830.501 Q128.723 825.894 128.723 817.167 Q128.723 808.417 131.779 803.834 Q134.857 799.228 140.668 799.228 Z\" fill=\"#000000\" fill-rule=\"evenodd\" fill-opacity=\"1\" /><path clip-path=\"url(#clip110)\" d=\"M 0 0 M86.7327 608.473 Q83.3994 608.473 81.4781 610.255 Q79.5799 612.038 79.5799 615.163 Q79.5799 618.288 81.4781 620.07 Q83.3994 621.853 86.7327 621.853 Q90.066 621.853 91.9873 620.07 Q93.9086 618.265 93.9086 615.163 Q93.9086 612.038 91.9873 610.255 Q90.0891 608.473 86.7327 608.473 M82.0568 606.482 Q79.0475 605.742 77.3577 603.681 Q75.6911 601.621 75.6911 598.658 Q75.6911 594.515 78.6309 592.107 Q81.5938 589.7 86.7327 589.7 Q91.8947 589.7 94.8345 592.107 Q97.7743 594.515 97.7743 598.658 Q97.7743 601.621 96.0845 603.681 Q94.4178 605.742 91.4317 606.482 Q94.8113 607.269 96.6863 609.561 Q98.5845 611.853 98.5845 615.163 Q98.5845 620.186 95.5058 622.871 Q92.4502 625.556 86.7327 625.556 Q81.0151 625.556 77.9364 622.871 Q74.8809 620.186 74.8809 615.163 Q74.8809 611.853 76.779 609.561 Q78.6772 607.269 82.0568 606.482 M80.3438 599.098 Q80.3438 601.783 82.0105 603.288 Q83.7003 604.792 86.7327 604.792 Q89.7419 604.792 91.4317 603.288 Q93.1447 601.783 93.1447 599.098 Q93.1447 596.413 91.4317 594.908 Q89.7419 593.404 86.7327 593.404 Q83.7003 593.404 82.0105 594.908 Q80.3438 596.413 80.3438 599.098 Z\" fill=\"#000000\" fill-rule=\"evenodd\" fill-opacity=\"1\" /><path clip-path=\"url(#clip110)\" d=\"M 0 0 M113.654 593.404 Q110.043 593.404 108.214 596.968 Q106.408 600.51 106.408 607.64 Q106.408 614.746 108.214 618.311 Q110.043 621.853 113.654 621.853 Q117.288 621.853 119.094 618.311 Q120.922 614.746 120.922 607.64 Q120.922 600.51 119.094 596.968 Q117.288 593.404 113.654 593.404 M113.654 589.7 Q119.464 589.7 122.52 594.306 Q125.598 598.89 125.598 607.64 Q125.598 616.366 122.52 620.973 Q119.464 625.556 113.654 625.556 Q107.844 625.556 104.765 620.973 Q101.709 616.366 101.709 607.64 Q101.709 598.89 104.765 594.306 Q107.844 589.7 113.654 589.7 Z\" fill=\"#000000\" fill-rule=\"evenodd\" fill-opacity=\"1\" /><path clip-path=\"url(#clip110)\" d=\"M 0 0 M140.668 593.404 Q137.056 593.404 135.228 596.968 Q133.422 600.51 133.422 607.64 Q133.422 614.746 135.228 618.311 Q137.056 621.853 140.668 621.853 Q144.302 621.853 146.107 618.311 Q147.936 614.746 147.936 607.64 Q147.936 600.51 146.107 596.968 Q144.302 593.404 140.668 593.404 M140.668 589.7 Q146.478 589.7 149.533 594.306 Q152.612 598.89 152.612 607.64 Q152.612 616.366 149.533 620.973 Q146.478 625.556 140.668 625.556 Q134.857 625.556 131.779 620.973 Q128.723 616.366 128.723 607.64 Q128.723 598.89 131.779 594.306 Q134.857 589.7 140.668 589.7 Z\" fill=\"#000000\" fill-rule=\"evenodd\" fill-opacity=\"1\" /><path clip-path=\"url(#clip110)\" d=\"M 0 0 M51.6634 411.422 L59.3023 411.422 L59.3023 385.056 L50.9921 386.723 L50.9921 382.464 L59.256 380.797 L63.9319 380.797 L63.9319 411.422 L71.5707 411.422 L71.5707 415.357 L51.6634 415.357 L51.6634 411.422 Z\" fill=\"#000000\" fill-rule=\"evenodd\" fill-opacity=\"1\" /><path clip-path=\"url(#clip110)\" d=\"M 0 0 M86.6401 383.876 Q83.029 383.876 81.2003 387.441 Q79.3948 390.982 79.3948 398.112 Q79.3948 405.218 81.2003 408.783 Q83.029 412.325 86.6401 412.325 Q90.2743 412.325 92.0799 408.783 Q93.9086 405.218 93.9086 398.112 Q93.9086 390.982 92.0799 387.441 Q90.2743 383.876 86.6401 383.876 M86.6401 380.172 Q92.4502 380.172 95.5058 384.779 Q98.5845 389.362 98.5845 398.112 Q98.5845 406.839 95.5058 411.445 Q92.4502 416.029 86.6401 416.029 Q80.8299 416.029 77.7512 411.445 Q74.6957 406.839 74.6957 398.112 Q74.6957 389.362 77.7512 384.779 Q80.8299 380.172 86.6401 380.172 Z\" fill=\"#000000\" fill-rule=\"evenodd\" fill-opacity=\"1\" /><path clip-path=\"url(#clip110)\" d=\"M 0 0 M113.654 383.876 Q110.043 383.876 108.214 387.441 Q106.408 390.982 106.408 398.112 Q106.408 405.218 108.214 408.783 Q110.043 412.325 113.654 412.325 Q117.288 412.325 119.094 408.783 Q120.922 405.218 120.922 398.112 Q120.922 390.982 119.094 387.441 Q117.288 383.876 113.654 383.876 M113.654 380.172 Q119.464 380.172 122.52 384.779 Q125.598 389.362 125.598 398.112 Q125.598 406.839 122.52 411.445 Q119.464 416.029 113.654 416.029 Q107.844 416.029 104.765 411.445 Q101.709 406.839 101.709 398.112 Q101.709 389.362 104.765 384.779 Q107.844 380.172 113.654 380.172 Z\" fill=\"#000000\" fill-rule=\"evenodd\" fill-opacity=\"1\" /><path clip-path=\"url(#clip110)\" d=\"M 0 0 M140.668 383.876 Q137.056 383.876 135.228 387.441 Q133.422 390.982 133.422 398.112 Q133.422 405.218 135.228 408.783 Q137.056 412.325 140.668 412.325 Q144.302 412.325 146.107 408.783 Q147.936 405.218 147.936 398.112 Q147.936 390.982 146.107 387.441 Q144.302 383.876 140.668 383.876 M140.668 380.172 Q146.478 380.172 149.533 384.779 Q152.612 389.362 152.612 398.112 Q152.612 406.839 149.533 411.445 Q146.478 416.029 140.668 416.029 Q134.857 416.029 131.779 411.445 Q128.723 406.839 128.723 398.112 Q128.723 389.362 131.779 384.779 Q134.857 380.172 140.668 380.172 Z\" fill=\"#000000\" fill-rule=\"evenodd\" fill-opacity=\"1\" /><path clip-path=\"url(#clip110)\" d=\"M 0 0 M53.2606 201.894 L60.8995 201.894 L60.8995 175.529 L52.5893 177.195 L52.5893 172.936 L60.8532 171.27 L65.5291 171.27 L65.5291 201.894 L73.1679 201.894 L73.1679 205.83 L53.2606 205.83 L53.2606 201.894 Z\" fill=\"#000000\" fill-rule=\"evenodd\" fill-opacity=\"1\" /><path clip-path=\"url(#clip110)\" d=\"M 0 0 M82.2651 201.894 L98.5845 201.894 L98.5845 205.83 L76.6401 205.83 L76.6401 201.894 Q79.3022 199.14 83.8855 194.51 Q88.4919 189.857 89.6725 188.515 Q91.9178 185.992 92.7975 184.256 Q93.7002 182.496 93.7002 180.807 Q93.7002 178.052 91.7558 176.316 Q89.8345 174.58 86.7327 174.58 Q84.5336 174.58 82.0799 175.344 Q79.6494 176.108 76.8716 177.658 L76.8716 172.936 Q79.6957 171.802 82.1494 171.223 Q84.6031 170.645 86.6401 170.645 Q92.0104 170.645 95.2049 173.33 Q98.3993 176.015 98.3993 180.506 Q98.3993 182.635 97.5891 184.557 Q96.8021 186.455 94.6956 189.047 Q94.1169 189.719 91.0151 192.936 Q87.9132 196.131 82.2651 201.894 Z\" fill=\"#000000\" fill-rule=\"evenodd\" fill-opacity=\"1\" /><path clip-path=\"url(#clip110)\" d=\"M 0 0 M113.654 174.348 Q110.043 174.348 108.214 177.913 Q106.408 181.455 106.408 188.584 Q106.408 195.691 108.214 199.256 Q110.043 202.797 113.654 202.797 Q117.288 202.797 119.094 199.256 Q120.922 195.691 120.922 188.584 Q120.922 181.455 119.094 177.913 Q117.288 174.348 113.654 174.348 M113.654 170.645 Q119.464 170.645 122.52 175.251 Q125.598 179.834 125.598 188.584 Q125.598 197.311 122.52 201.918 Q119.464 206.501 113.654 206.501 Q107.844 206.501 104.765 201.918 Q101.709 197.311 101.709 188.584 Q101.709 179.834 104.765 175.251 Q107.844 170.645 113.654 170.645 Z\" fill=\"#000000\" fill-rule=\"evenodd\" fill-opacity=\"1\" /><path clip-path=\"url(#clip110)\" d=\"M 0 0 M140.668 174.348 Q137.056 174.348 135.228 177.913 Q133.422 181.455 133.422 188.584 Q133.422 195.691 135.228 199.256 Q137.056 202.797 140.668 202.797 Q144.302 202.797 146.107 199.256 Q147.936 195.691 147.936 188.584 Q147.936 181.455 146.107 177.913 Q144.302 174.348 140.668 174.348 M140.668 170.645 Q146.478 170.645 149.533 175.251 Q152.612 179.834 152.612 188.584 Q152.612 197.311 149.533 201.918 Q146.478 206.501 140.668 206.501 Q134.857 206.501 131.779 201.918 Q128.723 197.311 128.723 188.584 Q128.723 179.834 131.779 175.251 Q134.857 170.645 140.668 170.645 Z\" fill=\"#000000\" fill-rule=\"evenodd\" fill-opacity=\"1\" /><polyline clip-path=\"url(#clip112)\" style=\"stroke:#009af9; stroke-width:4; stroke-opacity:1; fill:none\" points=\"\n",
       "  249.861,624.367 254.846,660.386 259.83,695.129 264.815,728.63 269.8,760.925 281.322,831.139 292.844,895.477 304.367,954.319 315.889,1008.03 338.934,1101.41 \n",
       "  361.979,1178.19 385.024,1240.7 408.069,1291.02 431.114,1331.02 454.158,1362.37 481.856,1390.66 509.554,1410.79 537.252,1424.64 564.95,1433.77 611.787,1441.98 \n",
       "  658.623,1444.95 760.379,1445.72 854.188,1445.3 904.475,1443.62 954.762,1439.37 1013.02,1429.51 1071.29,1412.67 1123.06,1390.93 1174.84,1362.59 1220.24,1332.68 \n",
       "  1265.65,1298.81 1364.65,1217.48 1464.24,1140.95 1519.3,1109.3 1574.35,1090.31 1626.74,1087.19 1679.12,1100.88 1733.59,1133.87 1788.06,1184.96 1833.91,1239.33 \n",
       "  1879.76,1299.76 1935.73,1372.5 1991.71,1428.38 2018.02,1442.55 2044.33,1445.05 2057.49,1440.9 2070.64,1432.53 2083.8,1419.46 2096.95,1401.18 2118.03,1359.63 \n",
       "  2139.11,1300.86 2149.64,1264.2 2160.18,1222.22 2170.72,1174.57 2181.26,1120.86 2191.79,1060.69 2202.33,993.67 2212.87,919.359 2223.41,837.319 2233.95,747.09 \n",
       "  2244.48,648.198 2255.02,540.149 2265.56,422.433 2272.05,344.934 2278.53,263.445 2285.02,177.836 2291.51,87.9763 \n",
       "  \"/>\n",
       "<circle clip-path=\"url(#clip112)\" cx=\"760.273\" cy=\"1445.72\" r=\"14\" fill=\"#e26f46\" fill-rule=\"evenodd\" fill-opacity=\"1\" stroke=\"#000000\" stroke-opacity=\"1\" stroke-width=\"3.2\"/>\n",
       "<circle clip-path=\"url(#clip112)\" cx=\"2036.3\" cy=\"1445.72\" r=\"14\" fill=\"#e26f46\" fill-rule=\"evenodd\" fill-opacity=\"1\" stroke=\"#000000\" stroke-opacity=\"1\" stroke-width=\"3.2\"/>\n",
       "<path clip-path=\"url(#clip110)\" d=\"\n",
       "M1393.86 276.658 L2280.62 276.658 L2280.62 95.2176 L1393.86 95.2176  Z\n",
       "  \" fill=\"#ffffff\" fill-rule=\"evenodd\" fill-opacity=\"1\"/>\n",
       "<polyline clip-path=\"url(#clip110)\" style=\"stroke:#000000; stroke-width:4; stroke-opacity:1; fill:none\" points=\"\n",
       "  1393.86,276.658 2280.62,276.658 2280.62,95.2176 1393.86,95.2176 1393.86,276.658 \n",
       "  \"/>\n",
       "<polyline clip-path=\"url(#clip110)\" style=\"stroke:#009af9; stroke-width:4; stroke-opacity:1; fill:none\" points=\"\n",
       "  1417.91,155.698 1562.19,155.698 \n",
       "  \"/>\n",
       "<path clip-path=\"url(#clip110)\" d=\"M 0 0 M1602.74 136.959 L1602.74 140.501 L1598.66 140.501 Q1596.37 140.501 1595.47 141.427 Q1594.59 142.353 1594.59 144.76 L1594.59 147.052 L1601.6 147.052 L1601.6 150.362 L1594.59 150.362 L1594.59 172.978 L1590.31 172.978 L1590.31 150.362 L1586.23 150.362 L1586.23 147.052 L1590.31 147.052 L1590.31 145.246 Q1590.31 140.918 1592.32 138.95 Q1594.33 136.959 1598.71 136.959 L1602.74 136.959 Z\" fill=\"#000000\" fill-rule=\"evenodd\" fill-opacity=\"1\" /><path clip-path=\"url(#clip110)\" d=\"M 0 0 M1617.44 137.006 Q1614.33 142.33 1612.83 147.538 Q1611.33 152.746 1611.33 158.093 Q1611.33 163.441 1612.83 168.695 Q1614.36 173.927 1617.44 179.228 L1613.73 179.228 Q1610.26 173.788 1608.52 168.533 Q1606.81 163.279 1606.81 158.093 Q1606.81 152.931 1608.52 147.7 Q1610.24 142.468 1613.73 137.006 L1617.44 137.006 Z\" fill=\"#000000\" fill-rule=\"evenodd\" fill-opacity=\"1\" /><path clip-path=\"url(#clip110)\" d=\"M 0 0 M1643.45 147.052 L1634.08 159.667 L1643.94 172.978 L1638.92 172.978 L1631.37 162.792 L1623.83 172.978 L1618.8 172.978 L1628.87 159.413 L1619.66 147.052 L1624.68 147.052 L1631.56 156.288 L1638.43 147.052 L1643.45 147.052 Z\" fill=\"#000000\" fill-rule=\"evenodd\" fill-opacity=\"1\" /><path clip-path=\"url(#clip110)\" d=\"M 0 0 M1647.74 137.006 L1651.44 137.006 Q1654.91 142.468 1656.63 147.7 Q1658.36 152.931 1658.36 158.093 Q1658.36 163.279 1656.63 168.533 Q1654.91 173.788 1651.44 179.228 L1647.74 179.228 Q1650.82 173.927 1652.32 168.695 Q1653.85 163.441 1653.85 158.093 Q1653.85 152.746 1652.32 147.538 Q1650.82 142.33 1647.74 137.006 Z\" fill=\"#000000\" fill-rule=\"evenodd\" fill-opacity=\"1\" /><path clip-path=\"url(#clip110)\" d=\"M 0 0 M1678.45 151.45 L1708.13 151.45 L1708.13 155.339 L1678.45 155.339 L1678.45 151.45 M1678.45 160.894 L1708.13 160.894 L1708.13 164.829 L1678.45 164.829 L1678.45 160.894 Z\" fill=\"#000000\" fill-rule=\"evenodd\" fill-opacity=\"1\" /><path clip-path=\"url(#clip110)\" d=\"M 0 0 M1737.9 137.006 Q1734.8 142.33 1733.29 147.538 Q1731.79 152.746 1731.79 158.093 Q1731.79 163.441 1733.29 168.695 Q1734.82 173.927 1737.9 179.228 L1734.2 179.228 Q1730.72 173.788 1728.99 168.533 Q1727.27 163.279 1727.27 158.093 Q1727.27 152.931 1728.99 147.7 Q1730.7 142.468 1734.2 137.006 L1737.9 137.006 Z\" fill=\"#000000\" fill-rule=\"evenodd\" fill-opacity=\"1\" /><path clip-path=\"url(#clip110)\" d=\"M 0 0 M1763.92 147.052 L1754.54 159.667 L1764.4 172.978 L1759.38 172.978 L1751.83 162.792 L1744.29 172.978 L1739.26 172.978 L1749.33 159.413 L1740.12 147.052 L1745.14 147.052 L1752.02 156.288 L1758.89 147.052 L1763.92 147.052 Z\" fill=\"#000000\" fill-rule=\"evenodd\" fill-opacity=\"1\" /><path clip-path=\"url(#clip110)\" d=\"M 0 0 M1781.79 158.093 L1794.26 158.093 L1794.26 161.89 L1781.79 161.89 L1781.79 158.093 Z\" fill=\"#000000\" fill-rule=\"evenodd\" fill-opacity=\"1\" /><path clip-path=\"url(#clip110)\" d=\"M 0 0 M1815.21 169.042 L1822.85 169.042 L1822.85 142.677 L1814.54 144.343 L1814.54 140.084 L1822.81 138.418 L1827.48 138.418 L1827.48 169.042 L1835.12 169.042 L1835.12 172.978 L1815.21 172.978 L1815.21 169.042 Z\" fill=\"#000000\" fill-rule=\"evenodd\" fill-opacity=\"1\" /><path clip-path=\"url(#clip110)\" d=\"M 0 0 M1838.92 137.006 L1842.62 137.006 Q1846.09 142.468 1847.81 147.7 Q1849.54 152.931 1849.54 158.093 Q1849.54 163.279 1847.81 168.533 Q1846.09 173.788 1842.62 179.228 L1838.92 179.228 Q1842 173.927 1843.5 168.695 Q1845.03 163.441 1845.03 158.093 Q1845.03 152.746 1843.5 147.538 Q1842 142.33 1838.92 137.006 Z\" fill=\"#000000\" fill-rule=\"evenodd\" fill-opacity=\"1\" /><path clip-path=\"url(#clip110)\" d=\"M 0 0 M1886.74 138.418 L1899.31 151.311 L1894.66 151.311 L1884.47 142.168 L1874.29 151.311 L1869.63 151.311 L1882.2 138.418 L1886.74 138.418 Z\" fill=\"#000000\" fill-rule=\"evenodd\" fill-opacity=\"1\" /><path clip-path=\"url(#clip110)\" d=\"M 0 0 M1923.48 169.042 L1939.8 169.042 L1939.8 172.978 L1917.85 172.978 L1917.85 169.042 Q1920.51 166.288 1925.1 161.658 Q1929.7 157.005 1930.88 155.663 Q1933.13 153.14 1934.01 151.404 Q1934.91 149.644 1934.91 147.955 Q1934.91 145.2 1932.97 143.464 Q1931.05 141.728 1927.94 141.728 Q1925.74 141.728 1923.29 142.492 Q1920.86 143.255 1918.08 144.806 L1918.08 140.084 Q1920.91 138.95 1923.36 138.371 Q1925.81 137.793 1927.85 137.793 Q1933.22 137.793 1936.42 140.478 Q1939.61 143.163 1939.61 147.654 Q1939.61 149.783 1938.8 151.705 Q1938.01 153.603 1935.91 156.195 Q1935.33 156.867 1932.23 160.084 Q1929.12 163.279 1923.48 169.042 Z\" fill=\"#000000\" fill-rule=\"evenodd\" fill-opacity=\"1\" /><path clip-path=\"url(#clip110)\" d=\"M 0 0 M1977.16 144.112 L1968.85 148.603 L1977.16 153.117 L1975.81 155.385 L1968.04 150.686 L1968.04 159.413 L1965.4 159.413 L1965.4 150.686 L1957.62 155.385 L1956.28 153.117 L1964.59 148.603 L1956.28 144.112 L1957.62 141.82 L1965.4 146.519 L1965.4 137.793 L1968.04 137.793 L1968.04 146.519 L1975.81 141.82 L1977.16 144.112 Z\" fill=\"#000000\" fill-rule=\"evenodd\" fill-opacity=\"1\" /><path clip-path=\"url(#clip110)\" d=\"M 0 0 M2006.93 137.006 Q2003.82 142.33 2002.32 147.538 Q2000.81 152.746 2000.81 158.093 Q2000.81 163.441 2002.32 168.695 Q2003.85 173.927 2006.93 179.228 L2003.22 179.228 Q1999.75 173.788 1998.01 168.533 Q1996.3 163.279 1996.3 158.093 Q1996.3 152.931 1998.01 147.7 Q1999.73 142.468 2003.22 137.006 L2006.93 137.006 Z\" fill=\"#000000\" fill-rule=\"evenodd\" fill-opacity=\"1\" /><path clip-path=\"url(#clip110)\" d=\"M 0 0 M2032.94 147.052 L2023.57 159.667 L2033.43 172.978 L2028.41 172.978 L2020.86 162.792 L2013.31 172.978 L2008.29 172.978 L2018.36 159.413 L2009.15 147.052 L2014.17 147.052 L2021.05 156.288 L2027.92 147.052 L2032.94 147.052 Z\" fill=\"#000000\" fill-rule=\"evenodd\" fill-opacity=\"1\" /><path clip-path=\"url(#clip110)\" d=\"M 0 0 M2070.3 143.255 L2070.3 156.149 L2083.2 156.149 L2083.2 160.084 L2070.3 160.084 L2070.3 172.978 L2066.42 172.978 L2066.42 160.084 L2053.52 160.084 L2053.52 156.149 L2066.42 156.149 L2066.42 143.255 L2070.3 143.255 Z\" fill=\"#000000\" fill-rule=\"evenodd\" fill-opacity=\"1\" /><path clip-path=\"url(#clip110)\" d=\"M 0 0 M2116.18 142.492 L2104.38 160.941 L2116.18 160.941 L2116.18 142.492 M2114.96 138.418 L2120.84 138.418 L2120.84 160.941 L2125.77 160.941 L2125.77 164.829 L2120.84 164.829 L2120.84 172.978 L2116.18 172.978 L2116.18 164.829 L2100.58 164.829 L2100.58 160.316 L2114.96 138.418 Z\" fill=\"#000000\" fill-rule=\"evenodd\" fill-opacity=\"1\" /><path clip-path=\"url(#clip110)\" d=\"M 0 0 M2129.56 137.006 L2133.27 137.006 Q2136.74 142.468 2138.45 147.7 Q2140.19 152.931 2140.19 158.093 Q2140.19 163.279 2138.45 168.533 Q2136.74 173.788 2133.27 179.228 L2129.56 179.228 Q2132.64 173.927 2134.15 168.695 Q2135.67 163.441 2135.67 158.093 Q2135.67 152.746 2134.15 147.538 Q2132.64 142.33 2129.56 137.006 Z\" fill=\"#000000\" fill-rule=\"evenodd\" fill-opacity=\"1\" /><path clip-path=\"url(#clip110)\" d=\"M 0 0 M2177.39 138.418 L2189.96 151.311 L2185.3 151.311 L2175.12 142.168 L2164.93 151.311 L2160.28 151.311 L2172.85 138.418 L2177.39 138.418 Z\" fill=\"#000000\" fill-rule=\"evenodd\" fill-opacity=\"1\" /><path clip-path=\"url(#clip110)\" d=\"M 0 0 M2222.94 142.492 L2211.14 160.941 L2222.94 160.941 L2222.94 142.492 M2221.72 138.418 L2227.6 138.418 L2227.6 160.941 L2232.53 160.941 L2232.53 164.829 L2227.6 164.829 L2227.6 172.978 L2222.94 172.978 L2222.94 164.829 L2207.34 164.829 L2207.34 160.316 L2221.72 138.418 Z\" fill=\"#000000\" fill-rule=\"evenodd\" fill-opacity=\"1\" /><circle clip-path=\"url(#clip110)\" cx=\"1490.05\" cy=\"216.178\" r=\"23\" fill=\"#e26f46\" fill-rule=\"evenodd\" fill-opacity=\"1\" stroke=\"#000000\" stroke-opacity=\"1\" stroke-width=\"5.12\"/>\n",
       "<path clip-path=\"url(#clip110)\" d=\"M 0 0 M1601.42 211.513 Q1600.7 211.097 1599.84 210.911 Q1599.01 210.703 1597.99 210.703 Q1594.38 210.703 1592.44 213.064 Q1590.52 215.402 1590.52 219.8 L1590.52 233.458 L1586.23 233.458 L1586.23 207.532 L1590.52 207.532 L1590.52 211.56 Q1591.86 209.198 1594.01 208.064 Q1596.16 206.907 1599.24 206.907 Q1599.68 206.907 1600.21 206.976 Q1600.75 207.023 1601.39 207.138 L1601.42 211.513 Z\" fill=\"#000000\" fill-rule=\"evenodd\" fill-opacity=\"1\" /><path clip-path=\"url(#clip110)\" d=\"M 0 0 M1614.89 210.518 Q1611.46 210.518 1609.47 213.203 Q1607.48 215.865 1607.48 220.518 Q1607.48 225.171 1609.45 227.856 Q1611.44 230.518 1614.89 230.518 Q1618.29 230.518 1620.28 227.833 Q1622.27 225.147 1622.27 220.518 Q1622.27 215.911 1620.28 213.226 Q1618.29 210.518 1614.89 210.518 M1614.89 206.907 Q1620.45 206.907 1623.62 210.518 Q1626.79 214.129 1626.79 220.518 Q1626.79 226.884 1623.62 230.518 Q1620.45 234.129 1614.89 234.129 Q1609.31 234.129 1606.14 230.518 Q1602.99 226.884 1602.99 220.518 Q1602.99 214.129 1606.14 210.518 Q1609.31 206.907 1614.89 206.907 Z\" fill=\"#000000\" fill-rule=\"evenodd\" fill-opacity=\"1\" /><path clip-path=\"url(#clip110)\" d=\"M 0 0 M1641.3 210.518 Q1637.88 210.518 1635.89 213.203 Q1633.89 215.865 1633.89 220.518 Q1633.89 225.171 1635.86 227.856 Q1637.85 230.518 1641.3 230.518 Q1644.7 230.518 1646.7 227.833 Q1648.69 225.147 1648.69 220.518 Q1648.69 215.911 1646.7 213.226 Q1644.7 210.518 1641.3 210.518 M1641.3 206.907 Q1646.86 206.907 1650.03 210.518 Q1653.2 214.129 1653.2 220.518 Q1653.2 226.884 1650.03 230.518 Q1646.86 234.129 1641.3 234.129 Q1635.72 234.129 1632.55 230.518 Q1629.4 226.884 1629.4 220.518 Q1629.4 214.129 1632.55 210.518 Q1635.72 206.907 1641.3 206.907 Z\" fill=\"#000000\" fill-rule=\"evenodd\" fill-opacity=\"1\" /><path clip-path=\"url(#clip110)\" d=\"M 0 0 M1661.88 200.171 L1661.88 207.532 L1670.65 207.532 L1670.65 210.842 L1661.88 210.842 L1661.88 224.916 Q1661.88 228.087 1662.74 228.99 Q1663.62 229.893 1666.28 229.893 L1670.65 229.893 L1670.65 233.458 L1666.28 233.458 Q1661.35 233.458 1659.47 231.629 Q1657.6 229.777 1657.6 224.916 L1657.6 210.842 L1654.47 210.842 L1654.47 207.532 L1657.6 207.532 L1657.6 200.171 L1661.88 200.171 Z\" fill=\"#000000\" fill-rule=\"evenodd\" fill-opacity=\"1\" /><path clip-path=\"url(#clip110)\" d=\"M 0 0 M1691.65 208.296 L1691.65 212.323 Q1689.84 211.397 1687.9 210.935 Q1685.95 210.472 1683.87 210.472 Q1680.7 210.472 1679.1 211.444 Q1677.53 212.416 1677.53 214.36 Q1677.53 215.842 1678.66 216.698 Q1679.8 217.532 1683.22 218.296 L1684.68 218.62 Q1689.22 219.592 1691.12 221.374 Q1693.04 223.134 1693.04 226.305 Q1693.04 229.916 1690.17 232.022 Q1687.32 234.129 1682.32 234.129 Q1680.24 234.129 1677.97 233.712 Q1675.72 233.319 1673.22 232.508 L1673.22 228.11 Q1675.58 229.337 1677.88 229.962 Q1680.17 230.564 1682.41 230.564 Q1685.42 230.564 1687.04 229.546 Q1688.66 228.504 1688.66 226.629 Q1688.66 224.893 1687.48 223.967 Q1686.32 223.041 1682.37 222.184 L1680.89 221.837 Q1676.93 221.004 1675.17 219.291 Q1673.41 217.555 1673.41 214.546 Q1673.41 210.888 1676 208.898 Q1678.59 206.907 1683.36 206.907 Q1685.72 206.907 1687.81 207.254 Q1689.89 207.601 1691.65 208.296 Z\" fill=\"#000000\" fill-rule=\"evenodd\" fill-opacity=\"1\" /></svg>\n"
      ]
     },
     "execution_count": 55,
     "metadata": {},
     "output_type": "execute_result"
    }
   ],
   "source": [
    "plot(f, (-6, 2)..., label=\"f(x) = (x - 1) ^ 2 * (x + 4) ^ 4\")\n",
    "scatter!([-4, 1], [0, 0], label=\"roots\")"
   ]
  },
  {
   "cell_type": "markdown",
   "metadata": {},
   "source": [
    "### b)"
   ]
  },
  {
   "cell_type": "markdown",
   "metadata": {},
   "source": [
    "Metoda Newtona działa na podstawie wyznaczenia każdego kolejnego punktu jako punkt przecięcia linii stycznej do funkcji `f` w punkcie `x`. W ten sposób przybliżamy się do pierwiastka. Jednak wybór punktu startowego może spowodować, że wpadniemy np. w lokalne ekstremum, w którym nie ma pierwiastka. W takim przypadku algorytm nie znajdzie pierwiastka."
   ]
  },
  {
   "cell_type": "code",
   "execution_count": 56,
   "metadata": {},
   "outputs": [
    {
     "data": {
      "text/plain": [
       "f (generic function with 1 method)"
      ]
     },
     "execution_count": 56,
     "metadata": {},
     "output_type": "execute_result"
    }
   ],
   "source": [
    "f(x) = x ^ 3 - 2 * x + 2"
   ]
  },
  {
   "cell_type": "code",
   "execution_count": 57,
   "metadata": {},
   "outputs": [
    {
     "data": {
      "text/plain": [
       "-1.7692923542386314"
      ]
     },
     "execution_count": 57,
     "metadata": {},
     "output_type": "execute_result"
    }
   ],
   "source": [
    "x = find_zero(f, (-2, 2), Bisection())"
   ]
  },
  {
   "cell_type": "code",
   "execution_count": 58,
   "metadata": {},
   "outputs": [
    {
     "data": {
      "text/plain": [
       "true"
      ]
     },
     "execution_count": 58,
     "metadata": {},
     "output_type": "execute_result"
    }
   ],
   "source": [
    "isCorrectZero(f, x)"
   ]
  },
  {
   "cell_type": "code",
   "execution_count": 59,
   "metadata": {},
   "outputs": [
    {
     "ename": "Roots.ConvergenceFailed",
     "evalue": "\u001b[91mRoots.ConvergenceFailed(\"Stopped at: xn = 1.0. Too many steps taken. \")\u001b[39m",
     "output_type": "error",
     "traceback": [
      "\u001b[91mRoots.ConvergenceFailed(\"Stopped at: xn = 1.0. Too many steps taken. \")\u001b[39m",
      "",
      "Stacktrace:",
      " [1] find_zero(::Tuple{typeof(f),var\"#91#92\"}, ::Int64, ::Roots.Newton, ::Nothing; tracks::Roots.NullTracks, verbose::Bool, kwargs::Base.Iterators.Pairs{Union{},Union{},Tuple{},NamedTuple{(),Tuple{}}}) at /home/tomek/.julia/packages/Roots/kk34X/src/find_zero.jl:664",
      " [2] find_zero at /home/tomek/.julia/packages/Roots/kk34X/src/find_zero.jl:647 [inlined] (repeats 2 times)",
      " [3] top-level scope at In[59]:1"
     ]
    }
   ],
   "source": [
    "find_zero((f, x -> ForwardDiff.derivative(f, float(x))), 0, Roots.Newton())"
   ]
  },
  {
   "cell_type": "code",
   "execution_count": 60,
   "metadata": {},
   "outputs": [
    {
     "data": {
      "text/plain": [
       "-1.7692923542386314"
      ]
     },
     "execution_count": 60,
     "metadata": {},
     "output_type": "execute_result"
    }
   ],
   "source": [
    "x = find_zero(f, 0, Order1())"
   ]
  },
  {
   "cell_type": "code",
   "execution_count": 61,
   "metadata": {},
   "outputs": [
    {
     "data": {
      "text/plain": [
       "true"
      ]
     },
     "execution_count": 61,
     "metadata": {},
     "output_type": "execute_result"
    }
   ],
   "source": [
    "isCorrectZero(f, x)"
   ]
  },
  {
   "cell_type": "code",
   "execution_count": 62,
   "metadata": {},
   "outputs": [
    {
     "data": {
      "image/svg+xml": [
       "<?xml version=\"1.0\" encoding=\"utf-8\"?>\n",
       "<svg xmlns=\"http://www.w3.org/2000/svg\" xmlns:xlink=\"http://www.w3.org/1999/xlink\" width=\"600\" height=\"400\" viewBox=\"0 0 2400 1600\">\n",
       "<defs>\n",
       "  <clipPath id=\"clip150\">\n",
       "    <rect x=\"0\" y=\"0\" width=\"2400\" height=\"1600\"/>\n",
       "  </clipPath>\n",
       "</defs>\n",
       "<path clip-path=\"url(#clip150)\" d=\"\n",
       "M0 1600 L2400 1600 L2400 0 L0 0  Z\n",
       "  \" fill=\"#ffffff\" fill-rule=\"evenodd\" fill-opacity=\"1\"/>\n",
       "<defs>\n",
       "  <clipPath id=\"clip151\">\n",
       "    <rect x=\"480\" y=\"0\" width=\"1681\" height=\"1600\"/>\n",
       "  </clipPath>\n",
       "</defs>\n",
       "<path clip-path=\"url(#clip150)\" d=\"\n",
       "M142.084 1486.45 L2352.76 1486.45 L2352.76 47.2441 L142.084 47.2441  Z\n",
       "  \" fill=\"#ffffff\" fill-rule=\"evenodd\" fill-opacity=\"1\"/>\n",
       "<defs>\n",
       "  <clipPath id=\"clip152\">\n",
       "    <rect x=\"142\" y=\"47\" width=\"2212\" height=\"1440\"/>\n",
       "  </clipPath>\n",
       "</defs>\n",
       "<polyline clip-path=\"url(#clip152)\" style=\"stroke:#000000; stroke-width:2; stroke-opacity:0.1; fill:none\" points=\"\n",
       "  204.651,1486.45 204.651,47.2441 \n",
       "  \"/>\n",
       "<polyline clip-path=\"url(#clip152)\" style=\"stroke:#000000; stroke-width:2; stroke-opacity:0.1; fill:none\" points=\"\n",
       "  726.035,1486.45 726.035,47.2441 \n",
       "  \"/>\n",
       "<polyline clip-path=\"url(#clip152)\" style=\"stroke:#000000; stroke-width:2; stroke-opacity:0.1; fill:none\" points=\"\n",
       "  1247.42,1486.45 1247.42,47.2441 \n",
       "  \"/>\n",
       "<polyline clip-path=\"url(#clip152)\" style=\"stroke:#000000; stroke-width:2; stroke-opacity:0.1; fill:none\" points=\"\n",
       "  1768.8,1486.45 1768.8,47.2441 \n",
       "  \"/>\n",
       "<polyline clip-path=\"url(#clip152)\" style=\"stroke:#000000; stroke-width:2; stroke-opacity:0.1; fill:none\" points=\"\n",
       "  2290.19,1486.45 2290.19,47.2441 \n",
       "  \"/>\n",
       "<polyline clip-path=\"url(#clip150)\" style=\"stroke:#000000; stroke-width:4; stroke-opacity:1; fill:none\" points=\"\n",
       "  142.084,1486.45 2352.76,1486.45 \n",
       "  \"/>\n",
       "<polyline clip-path=\"url(#clip150)\" style=\"stroke:#000000; stroke-width:4; stroke-opacity:1; fill:none\" points=\"\n",
       "  204.651,1486.45 204.651,1469.18 \n",
       "  \"/>\n",
       "<polyline clip-path=\"url(#clip150)\" style=\"stroke:#000000; stroke-width:4; stroke-opacity:1; fill:none\" points=\"\n",
       "  726.035,1486.45 726.035,1469.18 \n",
       "  \"/>\n",
       "<polyline clip-path=\"url(#clip150)\" style=\"stroke:#000000; stroke-width:4; stroke-opacity:1; fill:none\" points=\"\n",
       "  1247.42,1486.45 1247.42,1469.18 \n",
       "  \"/>\n",
       "<polyline clip-path=\"url(#clip150)\" style=\"stroke:#000000; stroke-width:4; stroke-opacity:1; fill:none\" points=\"\n",
       "  1768.8,1486.45 1768.8,1469.18 \n",
       "  \"/>\n",
       "<polyline clip-path=\"url(#clip150)\" style=\"stroke:#000000; stroke-width:4; stroke-opacity:1; fill:none\" points=\"\n",
       "  2290.19,1486.45 2290.19,1469.18 \n",
       "  \"/>\n",
       "<path clip-path=\"url(#clip150)\" d=\"M 0 0 M177.104 1530.29 L206.78 1530.29 L206.78 1534.23 L177.104 1534.23 L177.104 1530.29 Z\" fill=\"#000000\" fill-rule=\"evenodd\" fill-opacity=\"1\" /><path clip-path=\"url(#clip150)\" d=\"M 0 0 M215.877 1543.18 L232.197 1543.18 L232.197 1547.12 L210.252 1547.12 L210.252 1543.18 Q212.914 1540.43 217.498 1535.8 Q222.104 1531.15 223.285 1529.81 Q225.53 1527.28 226.41 1525.55 Q227.313 1523.79 227.313 1522.1 Q227.313 1519.34 225.368 1517.61 Q223.447 1515.87 220.345 1515.87 Q218.146 1515.87 215.692 1516.63 Q213.262 1517.4 210.484 1518.95 L210.484 1514.23 Q213.308 1513.09 215.762 1512.51 Q218.215 1511.93 220.252 1511.93 Q225.623 1511.93 228.817 1514.62 Q232.012 1517.31 232.012 1521.8 Q232.012 1523.93 231.201 1525.85 Q230.414 1527.74 228.308 1530.34 Q227.729 1531.01 224.627 1534.23 Q221.526 1537.42 215.877 1543.18 Z\" fill=\"#000000\" fill-rule=\"evenodd\" fill-opacity=\"1\" /><path clip-path=\"url(#clip150)\" d=\"M 0 0 M698.304 1530.29 L727.98 1530.29 L727.98 1534.23 L698.304 1534.23 L698.304 1530.29 Z\" fill=\"#000000\" fill-rule=\"evenodd\" fill-opacity=\"1\" /><path clip-path=\"url(#clip150)\" d=\"M 0 0 M733.859 1543.18 L741.498 1543.18 L741.498 1516.82 L733.188 1518.49 L733.188 1514.23 L741.452 1512.56 L746.128 1512.56 L746.128 1543.18 L753.767 1543.18 L753.767 1547.12 L733.859 1547.12 L733.859 1543.18 Z\" fill=\"#000000\" fill-rule=\"evenodd\" fill-opacity=\"1\" /><path clip-path=\"url(#clip150)\" d=\"M 0 0 M1247.42 1515.64 Q1243.81 1515.64 1241.98 1519.2 Q1240.17 1522.75 1240.17 1529.87 Q1240.17 1536.98 1241.98 1540.55 Q1243.81 1544.09 1247.42 1544.09 Q1251.05 1544.09 1252.86 1540.55 Q1254.69 1536.98 1254.69 1529.87 Q1254.69 1522.75 1252.86 1519.2 Q1251.05 1515.64 1247.42 1515.64 M1247.42 1511.93 Q1253.23 1511.93 1256.29 1516.54 Q1259.36 1521.12 1259.36 1529.87 Q1259.36 1538.6 1256.29 1543.21 Q1253.23 1547.79 1247.42 1547.79 Q1241.61 1547.79 1238.53 1543.21 Q1235.48 1538.6 1235.48 1529.87 Q1235.48 1521.12 1238.53 1516.54 Q1241.61 1511.93 1247.42 1511.93 Z\" fill=\"#000000\" fill-rule=\"evenodd\" fill-opacity=\"1\" /><path clip-path=\"url(#clip150)\" d=\"M 0 0 M1759.19 1543.18 L1766.83 1543.18 L1766.83 1516.82 L1758.52 1518.49 L1758.52 1514.23 L1766.78 1512.56 L1771.46 1512.56 L1771.46 1543.18 L1779.09 1543.18 L1779.09 1547.12 L1759.19 1547.12 L1759.19 1543.18 Z\" fill=\"#000000\" fill-rule=\"evenodd\" fill-opacity=\"1\" /><path clip-path=\"url(#clip150)\" d=\"M 0 0 M2284.84 1543.18 L2301.16 1543.18 L2301.16 1547.12 L2279.22 1547.12 L2279.22 1543.18 Q2281.88 1540.43 2286.46 1535.8 Q2291.07 1531.15 2292.25 1529.81 Q2294.5 1527.28 2295.37 1525.55 Q2296.28 1523.79 2296.28 1522.1 Q2296.28 1519.34 2294.33 1517.61 Q2292.41 1515.87 2289.31 1515.87 Q2287.11 1515.87 2284.66 1516.63 Q2282.23 1517.4 2279.45 1518.95 L2279.45 1514.23 Q2282.27 1513.09 2284.73 1512.51 Q2287.18 1511.93 2289.22 1511.93 Q2294.59 1511.93 2297.78 1514.62 Q2300.98 1517.31 2300.98 1521.8 Q2300.98 1523.93 2300.17 1525.85 Q2299.38 1527.74 2297.27 1530.34 Q2296.69 1531.01 2293.59 1534.23 Q2290.49 1537.42 2284.84 1543.18 Z\" fill=\"#000000\" fill-rule=\"evenodd\" fill-opacity=\"1\" /><polyline clip-path=\"url(#clip152)\" style=\"stroke:#000000; stroke-width:2; stroke-opacity:0.1; fill:none\" points=\"\n",
       "  142.084,1445.72 2352.76,1445.72 \n",
       "  \"/>\n",
       "<polyline clip-path=\"url(#clip152)\" style=\"stroke:#000000; stroke-width:2; stroke-opacity:0.1; fill:none\" points=\"\n",
       "  142.084,1106.28 2352.76,1106.28 \n",
       "  \"/>\n",
       "<polyline clip-path=\"url(#clip152)\" style=\"stroke:#000000; stroke-width:2; stroke-opacity:0.1; fill:none\" points=\"\n",
       "  142.084,766.846 2352.76,766.846 \n",
       "  \"/>\n",
       "<polyline clip-path=\"url(#clip152)\" style=\"stroke:#000000; stroke-width:2; stroke-opacity:0.1; fill:none\" points=\"\n",
       "  142.084,427.411 2352.76,427.411 \n",
       "  \"/>\n",
       "<polyline clip-path=\"url(#clip152)\" style=\"stroke:#000000; stroke-width:2; stroke-opacity:0.1; fill:none\" points=\"\n",
       "  142.084,87.9763 2352.76,87.9763 \n",
       "  \"/>\n",
       "<polyline clip-path=\"url(#clip150)\" style=\"stroke:#000000; stroke-width:4; stroke-opacity:1; fill:none\" points=\"\n",
       "  142.084,1486.45 142.084,47.2441 \n",
       "  \"/>\n",
       "<polyline clip-path=\"url(#clip150)\" style=\"stroke:#000000; stroke-width:4; stroke-opacity:1; fill:none\" points=\"\n",
       "  142.084,1445.72 168.612,1445.72 \n",
       "  \"/>\n",
       "<polyline clip-path=\"url(#clip150)\" style=\"stroke:#000000; stroke-width:4; stroke-opacity:1; fill:none\" points=\"\n",
       "  142.084,1106.28 168.612,1106.28 \n",
       "  \"/>\n",
       "<polyline clip-path=\"url(#clip150)\" style=\"stroke:#000000; stroke-width:4; stroke-opacity:1; fill:none\" points=\"\n",
       "  142.084,766.846 168.612,766.846 \n",
       "  \"/>\n",
       "<polyline clip-path=\"url(#clip150)\" style=\"stroke:#000000; stroke-width:4; stroke-opacity:1; fill:none\" points=\"\n",
       "  142.084,427.411 168.612,427.411 \n",
       "  \"/>\n",
       "<polyline clip-path=\"url(#clip150)\" style=\"stroke:#000000; stroke-width:4; stroke-opacity:1; fill:none\" points=\"\n",
       "  142.084,87.9763 168.612,87.9763 \n",
       "  \"/>\n",
       "<path clip-path=\"url(#clip150)\" d=\"M 0 0 M50.9921 1446.17 L80.6679 1446.17 L80.6679 1450.1 L50.9921 1450.1 L50.9921 1446.17 Z\" fill=\"#000000\" fill-rule=\"evenodd\" fill-opacity=\"1\" /><path clip-path=\"url(#clip150)\" d=\"M 0 0 M89.7651 1459.06 L106.084 1459.06 L106.084 1463 L84.1401 1463 L84.1401 1459.06 Q86.8021 1456.31 91.3854 1451.68 Q95.9919 1447.02 97.1724 1445.68 Q99.4178 1443.16 100.297 1441.42 Q101.2 1439.66 101.2 1437.97 Q101.2 1435.22 99.2558 1433.48 Q97.3345 1431.75 94.2326 1431.75 Q92.0336 1431.75 89.5799 1432.51 Q87.1493 1433.27 84.3716 1434.82 L84.3716 1430.1 Q87.1956 1428.97 89.6493 1428.39 Q92.103 1427.81 94.14 1427.81 Q99.5104 1427.81 102.705 1430.5 Q105.899 1433.18 105.899 1437.67 Q105.899 1439.8 105.089 1441.72 Q104.302 1443.62 102.196 1446.21 Q101.617 1446.88 98.515 1450.1 Q95.4132 1453.3 89.7651 1459.06 Z\" fill=\"#000000\" fill-rule=\"evenodd\" fill-opacity=\"1\" /><path clip-path=\"url(#clip150)\" d=\"M 0 0 M94.14 1092.08 Q90.529 1092.08 88.7003 1095.64 Q86.8947 1099.19 86.8947 1106.32 Q86.8947 1113.42 88.7003 1116.99 Q90.529 1120.53 94.14 1120.53 Q97.7743 1120.53 99.5798 1116.99 Q101.409 1113.42 101.409 1106.32 Q101.409 1099.19 99.5798 1095.64 Q97.7743 1092.08 94.14 1092.08 M94.14 1088.38 Q99.9502 1088.38 103.006 1092.98 Q106.084 1097.57 106.084 1106.32 Q106.084 1115.04 103.006 1119.65 Q99.9502 1124.23 94.14 1124.23 Q88.3299 1124.23 85.2512 1119.65 Q82.1957 1115.04 82.1957 1106.32 Q82.1957 1097.57 85.2512 1092.98 Q88.3299 1088.38 94.14 1088.38 Z\" fill=\"#000000\" fill-rule=\"evenodd\" fill-opacity=\"1\" /><path clip-path=\"url(#clip150)\" d=\"M 0 0 M89.7651 780.191 L106.084 780.191 L106.084 784.126 L84.1401 784.126 L84.1401 780.191 Q86.8021 777.436 91.3854 772.807 Q95.9919 768.154 97.1724 766.811 Q99.4178 764.288 100.297 762.552 Q101.2 760.793 101.2 759.103 Q101.2 756.348 99.2558 754.612 Q97.3345 752.876 94.2326 752.876 Q92.0336 752.876 89.5799 753.64 Q87.1493 754.404 84.3716 755.955 L84.3716 751.233 Q87.1956 750.098 89.6493 749.52 Q92.103 748.941 94.14 748.941 Q99.5104 748.941 102.705 751.626 Q105.899 754.311 105.899 758.802 Q105.899 760.932 105.089 762.853 Q104.302 764.751 102.196 767.344 Q101.617 768.015 98.515 771.233 Q95.4132 774.427 89.7651 780.191 Z\" fill=\"#000000\" fill-rule=\"evenodd\" fill-opacity=\"1\" /><path clip-path=\"url(#clip150)\" d=\"M 0 0 M96.5011 414.205 L84.6956 432.654 L96.5011 432.654 L96.5011 414.205 M95.2743 410.131 L101.154 410.131 L101.154 432.654 L106.084 432.654 L106.084 436.543 L101.154 436.543 L101.154 444.691 L96.5011 444.691 L96.5011 436.543 L80.8994 436.543 L80.8994 432.029 L95.2743 410.131 Z\" fill=\"#000000\" fill-rule=\"evenodd\" fill-opacity=\"1\" /><path clip-path=\"url(#clip150)\" d=\"M 0 0 M94.5567 86.1129 Q91.4086 86.1129 89.5567 88.2656 Q87.728 90.4184 87.728 94.1684 Q87.728 97.8952 89.5567 100.071 Q91.4086 102.224 94.5567 102.224 Q97.7048 102.224 99.5335 100.071 Q101.385 97.8952 101.385 94.1684 Q101.385 90.4184 99.5335 88.2656 Q97.7048 86.1129 94.5567 86.1129 M103.839 71.4602 L103.839 75.7194 Q102.08 74.8861 100.274 74.4463 Q98.4919 74.0064 96.7326 74.0064 Q92.103 74.0064 89.6493 77.1314 Q87.2188 80.2564 86.8716 86.5758 Q88.2373 84.5619 90.2975 83.4971 Q92.3576 82.4092 94.8345 82.4092 Q100.043 82.4092 103.052 85.5805 Q106.084 88.7286 106.084 94.1684 Q106.084 99.4924 102.936 102.71 Q99.7882 105.928 94.5567 105.928 Q88.5614 105.928 85.3901 101.344 Q82.2188 96.7378 82.2188 88.011 Q82.2188 79.8166 86.1077 74.9555 Q89.9965 70.0713 96.5474 70.0713 Q98.3067 70.0713 100.089 70.4185 Q101.895 70.7657 103.839 71.4602 Z\" fill=\"#000000\" fill-rule=\"evenodd\" fill-opacity=\"1\" /><polyline clip-path=\"url(#clip152)\" style=\"stroke:#009af9; stroke-width:4; stroke-opacity:1; fill:none\" points=\"\n",
       "  204.651,1445.72 209.742,1429.24 214.834,1412.95 219.926,1396.86 225.018,1380.96 272.098,1242.84 319.179,1120.25 366.259,1012.44 413.34,918.663 469.927,823.461 \n",
       "  526.514,746.147 574.357,693.77 622.201,652.462 674.172,619.216 726.144,597.093 774.057,585.684 821.97,582.081 873.338,585.992 924.706,596.995 984.221,617.329 \n",
       "  1043.74,644.361 1149.51,704.231 1242.27,763.496 1343.41,828.276 1445.14,886.311 1501.38,912.567 1557.62,933.052 1611.13,946.018 1664.64,951.501 1720.28,948.086 \n",
       "  1775.92,934.153 1822.75,913.364 1869.59,883.507 1926.77,833.688 1983.95,767.911 2037.7,690.325 2091.45,596.335 2134.51,508.46 2177.57,408.769 2220.63,296.689 \n",
       "  2263.68,171.645 2270.31,151.214 2276.94,130.46 2283.56,109.382 2290.19,87.9763 \n",
       "  \"/>\n",
       "<circle clip-path=\"url(#clip152)\" cx=\"324.938\" cy=\"1106.28\" r=\"14\" fill=\"#e26f46\" fill-rule=\"evenodd\" fill-opacity=\"1\" stroke=\"#000000\" stroke-opacity=\"1\" stroke-width=\"3.2\"/>\n",
       "<circle clip-path=\"url(#clip152)\" cx=\"1247.42\" cy=\"766.846\" r=\"14\" fill=\"#3da44d\" fill-rule=\"evenodd\" fill-opacity=\"1\" stroke=\"#000000\" stroke-opacity=\"1\" stroke-width=\"3.2\"/>\n",
       "<path clip-path=\"url(#clip150)\" d=\"\n",
       "M1539.23 337.138 L2279.07 337.138 L2279.07 95.2176 L1539.23 95.2176  Z\n",
       "  \" fill=\"#ffffff\" fill-rule=\"evenodd\" fill-opacity=\"1\"/>\n",
       "<polyline clip-path=\"url(#clip150)\" style=\"stroke:#000000; stroke-width:4; stroke-opacity:1; fill:none\" points=\"\n",
       "  1539.23,337.138 2279.07,337.138 2279.07,95.2176 1539.23,95.2176 1539.23,337.138 \n",
       "  \"/>\n",
       "<polyline clip-path=\"url(#clip150)\" style=\"stroke:#009af9; stroke-width:4; stroke-opacity:1; fill:none\" points=\"\n",
       "  1563.79,155.698 1711.17,155.698 \n",
       "  \"/>\n",
       "<path clip-path=\"url(#clip150)\" d=\"M 0 0 M1752.24 136.959 L1752.24 140.501 L1748.16 140.501 Q1745.87 140.501 1744.97 141.427 Q1744.09 142.353 1744.09 144.76 L1744.09 147.052 L1751.1 147.052 L1751.1 150.362 L1744.09 150.362 L1744.09 172.978 L1739.8 172.978 L1739.8 150.362 L1735.73 150.362 L1735.73 147.052 L1739.8 147.052 L1739.8 145.246 Q1739.8 140.918 1741.82 138.95 Q1743.83 136.959 1748.21 136.959 L1752.24 136.959 Z\" fill=\"#000000\" fill-rule=\"evenodd\" fill-opacity=\"1\" /><path clip-path=\"url(#clip150)\" d=\"M 0 0 M1766.93 137.006 Q1763.83 142.33 1762.33 147.538 Q1760.82 152.746 1760.82 158.093 Q1760.82 163.441 1762.33 168.695 Q1763.86 173.927 1766.93 179.228 L1763.23 179.228 Q1759.76 173.788 1758.02 168.533 Q1756.31 163.279 1756.31 158.093 Q1756.31 152.931 1758.02 147.7 Q1759.74 142.468 1763.23 137.006 L1766.93 137.006 Z\" fill=\"#000000\" fill-rule=\"evenodd\" fill-opacity=\"1\" /><path clip-path=\"url(#clip150)\" d=\"M 0 0 M1792.95 147.052 L1783.58 159.667 L1793.44 172.978 L1788.42 172.978 L1780.87 162.792 L1773.32 172.978 L1768.3 172.978 L1778.37 159.413 L1769.16 147.052 L1774.18 147.052 L1781.05 156.288 L1787.93 147.052 L1792.95 147.052 Z\" fill=\"#000000\" fill-rule=\"evenodd\" fill-opacity=\"1\" /><path clip-path=\"url(#clip150)\" d=\"M 0 0 M1797.23 137.006 L1800.94 137.006 Q1804.41 142.468 1806.12 147.7 Q1807.86 152.931 1807.86 158.093 Q1807.86 163.279 1806.12 168.533 Q1804.41 173.788 1800.94 179.228 L1797.23 179.228 Q1800.31 173.927 1801.82 168.695 Q1803.35 163.441 1803.35 158.093 Q1803.35 152.746 1801.82 147.538 Q1800.31 142.33 1797.23 137.006 Z\" fill=\"#000000\" fill-rule=\"evenodd\" fill-opacity=\"1\" /><path clip-path=\"url(#clip150)\" d=\"M 0 0 M1827.95 151.45 L1857.63 151.45 L1857.63 155.339 L1827.95 155.339 L1827.95 151.45 M1827.95 160.894 L1857.63 160.894 L1857.63 164.829 L1827.95 164.829 L1827.95 160.894 Z\" fill=\"#000000\" fill-rule=\"evenodd\" fill-opacity=\"1\" /><path clip-path=\"url(#clip150)\" d=\"M 0 0 M1898.72 147.052 L1889.34 159.667 L1899.2 172.978 L1894.18 172.978 L1886.63 162.792 L1879.09 172.978 L1874.06 172.978 L1884.13 159.413 L1874.92 147.052 L1879.94 147.052 L1886.82 156.288 L1893.69 147.052 L1898.72 147.052 Z\" fill=\"#000000\" fill-rule=\"evenodd\" fill-opacity=\"1\" /><path clip-path=\"url(#clip150)\" d=\"M 0 0 M1936.4 138.418 L1948.97 151.311 L1944.32 151.311 L1934.13 142.168 L1923.95 151.311 L1919.29 151.311 L1931.86 138.418 L1936.4 138.418 Z\" fill=\"#000000\" fill-rule=\"evenodd\" fill-opacity=\"1\" /><path clip-path=\"url(#clip150)\" d=\"M 0 0 M1983.28 154.343 Q1986.63 155.061 1988.51 157.329 Q1990.41 159.598 1990.41 162.931 Q1990.41 168.047 1986.89 170.848 Q1983.37 173.649 1976.89 173.649 Q1974.71 173.649 1972.4 173.209 Q1970.1 172.792 1967.65 171.936 L1967.65 167.422 Q1969.59 168.556 1971.91 169.135 Q1974.22 169.714 1976.75 169.714 Q1981.15 169.714 1983.44 167.978 Q1985.75 166.241 1985.75 162.931 Q1985.75 159.876 1983.6 158.163 Q1981.47 156.427 1977.65 156.427 L1973.62 156.427 L1973.62 152.584 L1977.84 152.584 Q1981.28 152.584 1983.11 151.218 Q1984.94 149.83 1984.94 147.237 Q1984.94 144.575 1983.04 143.163 Q1981.17 141.728 1977.65 141.728 Q1975.73 141.728 1973.53 142.144 Q1971.33 142.561 1968.69 143.441 L1968.69 139.274 Q1971.35 138.533 1973.67 138.163 Q1976.01 137.793 1978.07 137.793 Q1983.39 137.793 1986.49 140.223 Q1989.59 142.63 1989.59 146.751 Q1989.59 149.621 1987.95 151.612 Q1986.31 153.58 1983.28 154.343 Z\" fill=\"#000000\" fill-rule=\"evenodd\" fill-opacity=\"1\" /><path clip-path=\"url(#clip150)\" d=\"M 0 0 M2007.79 158.093 L2020.27 158.093 L2020.27 161.89 L2007.79 161.89 L2007.79 158.093 Z\" fill=\"#000000\" fill-rule=\"evenodd\" fill-opacity=\"1\" /><path clip-path=\"url(#clip150)\" d=\"M 0 0 M2044.43 169.042 L2060.75 169.042 L2060.75 172.978 L2038.81 172.978 L2038.81 169.042 Q2041.47 166.288 2046.05 161.658 Q2050.66 157.005 2051.84 155.663 Q2054.09 153.14 2054.96 151.404 Q2055.87 149.644 2055.87 147.955 Q2055.87 145.2 2053.92 143.464 Q2052 141.728 2048.9 141.728 Q2046.7 141.728 2044.25 142.492 Q2041.82 143.255 2039.04 144.806 L2039.04 140.084 Q2041.86 138.95 2044.32 138.371 Q2046.77 137.793 2048.81 137.793 Q2054.18 137.793 2057.37 140.478 Q2060.57 143.163 2060.57 147.654 Q2060.57 149.783 2059.76 151.705 Q2058.97 153.603 2056.86 156.195 Q2056.28 156.867 2053.18 160.084 Q2050.08 163.279 2044.43 169.042 Z\" fill=\"#000000\" fill-rule=\"evenodd\" fill-opacity=\"1\" /><path clip-path=\"url(#clip150)\" d=\"M 0 0 M2098.11 144.112 L2089.8 148.603 L2098.11 153.117 L2096.77 155.385 L2088.99 150.686 L2088.99 159.413 L2086.35 159.413 L2086.35 150.686 L2078.58 155.385 L2077.23 153.117 L2085.54 148.603 L2077.23 144.112 L2078.58 141.82 L2086.35 146.519 L2086.35 137.793 L2088.99 137.793 L2088.99 146.519 L2096.77 141.82 L2098.11 144.112 Z\" fill=\"#000000\" fill-rule=\"evenodd\" fill-opacity=\"1\" /><path clip-path=\"url(#clip150)\" d=\"M 0 0 M2139.2 147.052 L2129.83 159.667 L2139.69 172.978 L2134.66 172.978 L2127.12 162.792 L2119.57 172.978 L2114.55 172.978 L2124.62 159.413 L2115.4 147.052 L2120.43 147.052 L2127.3 156.288 L2134.18 147.052 L2139.2 147.052 Z\" fill=\"#000000\" fill-rule=\"evenodd\" fill-opacity=\"1\" /><path clip-path=\"url(#clip150)\" d=\"M 0 0 M2176.56 143.255 L2176.56 156.149 L2189.45 156.149 L2189.45 160.084 L2176.56 160.084 L2176.56 172.978 L2172.67 172.978 L2172.67 160.084 L2159.78 160.084 L2159.78 156.149 L2172.67 156.149 L2172.67 143.255 L2176.56 143.255 Z\" fill=\"#000000\" fill-rule=\"evenodd\" fill-opacity=\"1\" /><path clip-path=\"url(#clip150)\" d=\"M 0 0 M2213.62 169.042 L2229.94 169.042 L2229.94 172.978 L2208 172.978 L2208 169.042 Q2210.66 166.288 2215.24 161.658 Q2219.85 157.005 2221.03 155.663 Q2223.27 153.14 2224.15 151.404 Q2225.06 149.644 2225.06 147.955 Q2225.06 145.2 2223.11 143.464 Q2221.19 141.728 2218.09 141.728 Q2215.89 141.728 2213.44 142.492 Q2211.01 143.255 2208.23 144.806 L2208.23 140.084 Q2211.05 138.95 2213.51 138.371 Q2215.96 137.793 2218 137.793 Q2223.37 137.793 2226.56 140.478 Q2229.76 143.163 2229.76 147.654 Q2229.76 149.783 2228.95 151.705 Q2228.16 153.603 2226.05 156.195 Q2225.47 156.867 2222.37 160.084 Q2219.27 163.279 2213.62 169.042 Z\" fill=\"#000000\" fill-rule=\"evenodd\" fill-opacity=\"1\" /><circle clip-path=\"url(#clip150)\" cx=\"1637.48\" cy=\"216.178\" r=\"23\" fill=\"#e26f46\" fill-rule=\"evenodd\" fill-opacity=\"1\" stroke=\"#000000\" stroke-opacity=\"1\" stroke-width=\"5.12\"/>\n",
       "<path clip-path=\"url(#clip150)\" d=\"M 0 0 M1750.92 211.513 Q1750.2 211.097 1749.34 210.911 Q1748.51 210.703 1747.49 210.703 Q1743.88 210.703 1741.93 213.064 Q1740.01 215.402 1740.01 219.8 L1740.01 233.458 L1735.73 233.458 L1735.73 207.532 L1740.01 207.532 L1740.01 211.56 Q1741.36 209.198 1743.51 208.064 Q1745.66 206.907 1748.74 206.907 Q1749.18 206.907 1749.71 206.976 Q1750.24 207.023 1750.89 207.138 L1750.92 211.513 Z\" fill=\"#000000\" fill-rule=\"evenodd\" fill-opacity=\"1\" /><path clip-path=\"url(#clip150)\" d=\"M 0 0 M1764.39 210.518 Q1760.96 210.518 1758.97 213.203 Q1756.98 215.865 1756.98 220.518 Q1756.98 225.171 1758.95 227.856 Q1760.94 230.518 1764.39 230.518 Q1767.79 230.518 1769.78 227.833 Q1771.77 225.147 1771.77 220.518 Q1771.77 215.911 1769.78 213.226 Q1767.79 210.518 1764.39 210.518 M1764.39 206.907 Q1769.94 206.907 1773.11 210.518 Q1776.29 214.129 1776.29 220.518 Q1776.29 226.884 1773.11 230.518 Q1769.94 234.129 1764.39 234.129 Q1758.81 234.129 1755.64 230.518 Q1752.49 226.884 1752.49 220.518 Q1752.49 214.129 1755.64 210.518 Q1758.81 206.907 1764.39 206.907 Z\" fill=\"#000000\" fill-rule=\"evenodd\" fill-opacity=\"1\" /><path clip-path=\"url(#clip150)\" d=\"M 0 0 M1790.8 210.518 Q1787.37 210.518 1785.38 213.203 Q1783.39 215.865 1783.39 220.518 Q1783.39 225.171 1785.36 227.856 Q1787.35 230.518 1790.8 230.518 Q1794.2 230.518 1796.19 227.833 Q1798.18 225.147 1798.18 220.518 Q1798.18 215.911 1796.19 213.226 Q1794.2 210.518 1790.8 210.518 M1790.8 206.907 Q1796.36 206.907 1799.53 210.518 Q1802.7 214.129 1802.7 220.518 Q1802.7 226.884 1799.53 230.518 Q1796.36 234.129 1790.8 234.129 Q1785.22 234.129 1782.05 230.518 Q1778.9 226.884 1778.9 220.518 Q1778.9 214.129 1782.05 210.518 Q1785.22 206.907 1790.8 206.907 Z\" fill=\"#000000\" fill-rule=\"evenodd\" fill-opacity=\"1\" /><path clip-path=\"url(#clip150)\" d=\"M 0 0 M1811.38 200.171 L1811.38 207.532 L1820.15 207.532 L1820.15 210.842 L1811.38 210.842 L1811.38 224.916 Q1811.38 228.087 1812.23 228.99 Q1813.11 229.893 1815.78 229.893 L1820.15 229.893 L1820.15 233.458 L1815.78 233.458 Q1810.85 233.458 1808.97 231.629 Q1807.1 229.777 1807.1 224.916 L1807.1 210.842 L1803.97 210.842 L1803.97 207.532 L1807.1 207.532 L1807.1 200.171 L1811.38 200.171 Z\" fill=\"#000000\" fill-rule=\"evenodd\" fill-opacity=\"1\" /><circle clip-path=\"url(#clip150)\" cx=\"1637.48\" cy=\"276.658\" r=\"23\" fill=\"#3da44d\" fill-rule=\"evenodd\" fill-opacity=\"1\" stroke=\"#000000\" stroke-opacity=\"1\" stroke-width=\"5.12\"/>\n",
       "<path clip-path=\"url(#clip150)\" d=\"M 0 0 M1754.16 268.776 L1754.16 272.803 Q1752.35 271.877 1750.41 271.415 Q1748.46 270.952 1746.38 270.952 Q1743.21 270.952 1741.61 271.924 Q1740.04 272.896 1740.04 274.84 Q1740.04 276.322 1741.17 277.178 Q1742.3 278.012 1745.73 278.776 L1747.19 279.1 Q1751.73 280.072 1753.62 281.854 Q1755.55 283.614 1755.55 286.785 Q1755.55 290.396 1752.67 292.502 Q1749.83 294.609 1744.83 294.609 Q1742.74 294.609 1740.48 294.192 Q1738.23 293.799 1735.73 292.988 L1735.73 288.59 Q1738.09 289.817 1740.38 290.442 Q1742.67 291.044 1744.92 291.044 Q1747.93 291.044 1749.55 290.026 Q1751.17 288.984 1751.17 287.109 Q1751.17 285.373 1749.99 284.447 Q1748.83 283.521 1744.87 282.664 L1743.39 282.317 Q1739.43 281.484 1737.67 279.771 Q1735.92 278.035 1735.92 275.026 Q1735.92 271.368 1738.51 269.378 Q1741.1 267.387 1745.87 267.387 Q1748.23 267.387 1750.31 267.734 Q1752.4 268.081 1754.16 268.776 Z\" fill=\"#000000\" fill-rule=\"evenodd\" fill-opacity=\"1\" /><path clip-path=\"url(#clip150)\" d=\"M 0 0 M1764.23 260.651 L1764.23 268.012 L1773 268.012 L1773 271.322 L1764.23 271.322 L1764.23 285.396 Q1764.23 288.567 1765.08 289.47 Q1765.96 290.373 1768.62 290.373 L1773 290.373 L1773 293.938 L1768.62 293.938 Q1763.69 293.938 1761.82 292.109 Q1759.94 290.257 1759.94 285.396 L1759.94 271.322 L1756.82 271.322 L1756.82 268.012 L1759.94 268.012 L1759.94 260.651 L1764.23 260.651 Z\" fill=\"#000000\" fill-rule=\"evenodd\" fill-opacity=\"1\" /><path clip-path=\"url(#clip150)\" d=\"M 0 0 M1789.25 280.905 Q1784.09 280.905 1782.1 282.086 Q1780.11 283.266 1780.11 286.114 Q1780.11 288.382 1781.59 289.725 Q1783.09 291.044 1785.66 291.044 Q1789.2 291.044 1791.33 288.544 Q1793.48 286.021 1793.48 281.854 L1793.48 280.905 L1789.25 280.905 M1797.74 279.146 L1797.74 293.938 L1793.48 293.938 L1793.48 290.002 Q1792.03 292.363 1789.85 293.498 Q1787.67 294.609 1784.53 294.609 Q1780.55 294.609 1778.18 292.387 Q1775.85 290.141 1775.85 286.391 Q1775.85 282.016 1778.76 279.794 Q1781.7 277.572 1787.51 277.572 L1793.48 277.572 L1793.48 277.155 Q1793.48 274.215 1791.54 272.618 Q1789.62 270.998 1786.12 270.998 Q1783.9 270.998 1781.8 271.53 Q1779.69 272.063 1777.74 273.127 L1777.74 269.192 Q1780.08 268.29 1782.28 267.85 Q1784.48 267.387 1786.56 267.387 Q1792.19 267.387 1794.97 270.303 Q1797.74 273.22 1797.74 279.146 Z\" fill=\"#000000\" fill-rule=\"evenodd\" fill-opacity=\"1\" /><path clip-path=\"url(#clip150)\" d=\"M 0 0 M1817.23 271.993 Q1816.52 271.577 1815.66 271.391 Q1814.83 271.183 1813.81 271.183 Q1810.2 271.183 1808.25 273.544 Q1806.33 275.882 1806.33 280.28 L1806.33 293.938 L1802.05 293.938 L1802.05 268.012 L1806.33 268.012 L1806.33 272.04 Q1807.67 269.678 1809.83 268.544 Q1811.98 267.387 1815.06 267.387 Q1815.5 267.387 1816.03 267.456 Q1816.56 267.503 1817.21 267.618 L1817.23 271.993 Z\" fill=\"#000000\" fill-rule=\"evenodd\" fill-opacity=\"1\" /><path clip-path=\"url(#clip150)\" d=\"M 0 0 M1825.92 260.651 L1825.92 268.012 L1834.69 268.012 L1834.69 271.322 L1825.92 271.322 L1825.92 285.396 Q1825.92 288.567 1826.77 289.47 Q1827.65 290.373 1830.31 290.373 L1834.69 290.373 L1834.69 293.938 L1830.31 293.938 Q1825.38 293.938 1823.51 292.109 Q1821.63 290.257 1821.63 285.396 L1821.63 271.322 L1818.51 271.322 L1818.51 268.012 L1821.63 268.012 L1821.63 260.651 L1825.92 260.651 Z\" fill=\"#000000\" fill-rule=\"evenodd\" fill-opacity=\"1\" /><path clip-path=\"url(#clip150)\" d=\"M 0 0 M1839.16 268.012 L1843.42 268.012 L1843.42 293.938 L1839.16 293.938 L1839.16 268.012 M1839.16 257.919 L1843.42 257.919 L1843.42 263.313 L1839.16 263.313 L1839.16 257.919 Z\" fill=\"#000000\" fill-rule=\"evenodd\" fill-opacity=\"1\" /><path clip-path=\"url(#clip150)\" d=\"M 0 0 M1869.43 278.289 L1869.43 293.938 L1865.17 293.938 L1865.17 278.428 Q1865.17 274.748 1863.74 272.919 Q1862.3 271.09 1859.43 271.09 Q1855.98 271.09 1853.99 273.29 Q1852 275.489 1852 279.285 L1852 293.938 L1847.72 293.938 L1847.72 268.012 L1852 268.012 L1852 272.04 Q1853.53 269.702 1855.59 268.544 Q1857.67 267.387 1860.38 267.387 Q1864.85 267.387 1867.14 270.165 Q1869.43 272.919 1869.43 278.289 Z\" fill=\"#000000\" fill-rule=\"evenodd\" fill-opacity=\"1\" /><path clip-path=\"url(#clip150)\" d=\"M 0 0 M1890.96 280.674 Q1890.96 276.044 1889.04 273.498 Q1887.14 270.952 1883.69 270.952 Q1880.27 270.952 1878.35 273.498 Q1876.45 276.044 1876.45 280.674 Q1876.45 285.28 1878.35 287.826 Q1880.27 290.373 1883.69 290.373 Q1887.14 290.373 1889.04 287.826 Q1890.96 285.28 1890.96 280.674 M1895.22 290.72 Q1895.22 297.34 1892.28 300.558 Q1889.34 303.799 1883.28 303.799 Q1881.03 303.799 1879.04 303.451 Q1877.05 303.127 1875.17 302.433 L1875.17 298.289 Q1877.05 299.308 1878.88 299.794 Q1880.71 300.28 1882.6 300.28 Q1886.79 300.28 1888.88 298.081 Q1890.96 295.905 1890.96 291.484 L1890.96 289.377 Q1889.64 291.669 1887.58 292.803 Q1885.52 293.938 1882.65 293.938 Q1877.88 293.938 1874.97 290.303 Q1872.05 286.669 1872.05 280.674 Q1872.05 274.655 1874.97 271.021 Q1877.88 267.387 1882.65 267.387 Q1885.52 267.387 1887.58 268.521 Q1889.64 269.655 1890.96 271.947 L1890.96 268.012 L1895.22 268.012 L1895.22 290.72 Z\" fill=\"#000000\" fill-rule=\"evenodd\" fill-opacity=\"1\" /><path clip-path=\"url(#clip150)\" d=\"M 0 0 M1918.88 290.049 L1918.88 303.799 L1914.6 303.799 L1914.6 268.012 L1918.88 268.012 L1918.88 271.947 Q1920.22 269.632 1922.26 268.521 Q1924.32 267.387 1927.16 267.387 Q1931.89 267.387 1934.83 271.137 Q1937.79 274.887 1937.79 280.998 Q1937.79 287.109 1934.83 290.859 Q1931.89 294.609 1927.16 294.609 Q1924.32 294.609 1922.26 293.498 Q1920.22 292.363 1918.88 290.049 M1933.37 280.998 Q1933.37 276.299 1931.42 273.637 Q1929.5 270.952 1926.12 270.952 Q1922.74 270.952 1920.8 273.637 Q1918.88 276.299 1918.88 280.998 Q1918.88 285.697 1920.8 288.382 Q1922.74 291.044 1926.12 291.044 Q1929.5 291.044 1931.42 288.382 Q1933.37 285.697 1933.37 280.998 Z\" fill=\"#000000\" fill-rule=\"evenodd\" fill-opacity=\"1\" /><path clip-path=\"url(#clip150)\" d=\"M 0 0 M1952.3 270.998 Q1948.88 270.998 1946.89 273.683 Q1944.9 276.345 1944.9 280.998 Q1944.9 285.651 1946.86 288.336 Q1948.85 290.998 1952.3 290.998 Q1955.71 290.998 1957.7 288.313 Q1959.69 285.627 1959.69 280.998 Q1959.69 276.391 1957.7 273.706 Q1955.71 270.998 1952.3 270.998 M1952.3 267.387 Q1957.86 267.387 1961.03 270.998 Q1964.2 274.609 1964.2 280.998 Q1964.2 287.364 1961.03 290.998 Q1957.86 294.609 1952.3 294.609 Q1946.72 294.609 1943.55 290.998 Q1940.41 287.364 1940.41 280.998 Q1940.41 274.609 1943.55 270.998 Q1946.72 267.387 1952.3 267.387 Z\" fill=\"#000000\" fill-rule=\"evenodd\" fill-opacity=\"1\" /><path clip-path=\"url(#clip150)\" d=\"M 0 0 M1968.67 268.012 L1972.93 268.012 L1972.93 293.938 L1968.67 293.938 L1968.67 268.012 M1968.67 257.919 L1972.93 257.919 L1972.93 263.313 L1968.67 263.313 L1968.67 257.919 Z\" fill=\"#000000\" fill-rule=\"evenodd\" fill-opacity=\"1\" /><path clip-path=\"url(#clip150)\" d=\"M 0 0 M1998.95 278.289 L1998.95 293.938 L1994.69 293.938 L1994.69 278.428 Q1994.69 274.748 1993.25 272.919 Q1991.82 271.09 1988.95 271.09 Q1985.5 271.09 1983.51 273.29 Q1981.52 275.489 1981.52 279.285 L1981.52 293.938 L1977.23 293.938 L1977.23 268.012 L1981.52 268.012 L1981.52 272.04 Q1983.04 269.702 1985.1 268.544 Q1987.19 267.387 1989.9 267.387 Q1994.36 267.387 1996.66 270.165 Q1998.95 272.919 1998.95 278.289 Z\" fill=\"#000000\" fill-rule=\"evenodd\" fill-opacity=\"1\" /><path clip-path=\"url(#clip150)\" d=\"M 0 0 M2007.63 260.651 L2007.63 268.012 L2016.4 268.012 L2016.4 271.322 L2007.63 271.322 L2007.63 285.396 Q2007.63 288.567 2008.48 289.47 Q2009.36 290.373 2012.03 290.373 L2016.4 290.373 L2016.4 293.938 L2012.03 293.938 Q2007.09 293.938 2005.22 292.109 Q2003.34 290.257 2003.34 285.396 L2003.34 271.322 L2000.22 271.322 L2000.22 268.012 L2003.34 268.012 L2003.34 260.651 L2007.63 260.651 Z\" fill=\"#000000\" fill-rule=\"evenodd\" fill-opacity=\"1\" /></svg>\n"
      ]
     },
     "execution_count": 62,
     "metadata": {},
     "output_type": "execute_result"
    }
   ],
   "source": [
    "plot(f, (-2, 2)..., label=\"f(x) = x ^ 3 - 2 * x + 2\")\n",
    "scatter!([-1.7692923542386314], [0], label=\"root\")\n",
    "scatter!([0], [2], label=\"starting point\")"
   ]
  },
  {
   "cell_type": "markdown",
   "metadata": {},
   "source": [
    "### c)"
   ]
  },
  {
   "cell_type": "code",
   "execution_count": 63,
   "metadata": {},
   "outputs": [
    {
     "data": {
      "text/plain": [
       "f (generic function with 1 method)"
      ]
     },
     "execution_count": 63,
     "metadata": {},
     "output_type": "execute_result"
    }
   ],
   "source": [
    "f(x) = 20.0 * x / ( 100.0 * x ^ 2 + 1.0 )"
   ]
  },
  {
   "cell_type": "code",
   "execution_count": 64,
   "metadata": {},
   "outputs": [
    {
     "data": {
      "text/plain": [
       "0.0"
      ]
     },
     "execution_count": 64,
     "metadata": {},
     "output_type": "execute_result"
    }
   ],
   "source": [
    "x = find_zero(f, (-2, 2), Bisection())"
   ]
  },
  {
   "cell_type": "code",
   "execution_count": 65,
   "metadata": {},
   "outputs": [
    {
     "data": {
      "text/plain": [
       "true"
      ]
     },
     "execution_count": 65,
     "metadata": {},
     "output_type": "execute_result"
    }
   ],
   "source": [
    "isCorrectZero(f, x)"
   ]
  },
  {
   "cell_type": "code",
   "execution_count": 66,
   "metadata": {},
   "outputs": [
    {
     "data": {
      "text/plain": [
       "-8.271806125530277e-25"
      ]
     },
     "execution_count": 66,
     "metadata": {},
     "output_type": "execute_result"
    }
   ],
   "source": [
    "x = find_zero((f, x -> ForwardDiff.derivative(f, float(x))), 0.01, Roots.Newton())"
   ]
  },
  {
   "cell_type": "code",
   "execution_count": 67,
   "metadata": {},
   "outputs": [
    {
     "data": {
      "text/plain": [
       "false"
      ]
     },
     "execution_count": 67,
     "metadata": {},
     "output_type": "execute_result"
    }
   ],
   "source": [
    "isCorrectZero(f, x)"
   ]
  },
  {
   "cell_type": "code",
   "execution_count": 68,
   "metadata": {},
   "outputs": [
    {
     "data": {
      "text/plain": [
       "3.1463252471003572e-21"
      ]
     },
     "execution_count": 68,
     "metadata": {},
     "output_type": "execute_result"
    }
   ],
   "source": [
    "x = find_zero(f, 0.01, Order1())"
   ]
  },
  {
   "cell_type": "code",
   "execution_count": 69,
   "metadata": {},
   "outputs": [
    {
     "data": {
      "text/plain": [
       "false"
      ]
     },
     "execution_count": 69,
     "metadata": {},
     "output_type": "execute_result"
    }
   ],
   "source": [
    "isCorrectZero(f, x)"
   ]
  },
  {
   "cell_type": "code",
   "execution_count": 70,
   "metadata": {},
   "outputs": [
    {
     "data": {
      "image/svg+xml": [
       "<?xml version=\"1.0\" encoding=\"utf-8\"?>\n",
       "<svg xmlns=\"http://www.w3.org/2000/svg\" xmlns:xlink=\"http://www.w3.org/1999/xlink\" width=\"600\" height=\"400\" viewBox=\"0 0 2400 1600\">\n",
       "<defs>\n",
       "  <clipPath id=\"clip190\">\n",
       "    <rect x=\"0\" y=\"0\" width=\"2400\" height=\"1600\"/>\n",
       "  </clipPath>\n",
       "</defs>\n",
       "<path clip-path=\"url(#clip190)\" d=\"\n",
       "M0 1600 L2400 1600 L2400 0 L0 0  Z\n",
       "  \" fill=\"#ffffff\" fill-rule=\"evenodd\" fill-opacity=\"1\"/>\n",
       "<defs>\n",
       "  <clipPath id=\"clip191\">\n",
       "    <rect x=\"480\" y=\"0\" width=\"1681\" height=\"1600\"/>\n",
       "  </clipPath>\n",
       "</defs>\n",
       "<path clip-path=\"url(#clip190)\" d=\"\n",
       "M179.654 1486.45 L2352.76 1486.45 L2352.76 47.2441 L179.654 47.2441  Z\n",
       "  \" fill=\"#ffffff\" fill-rule=\"evenodd\" fill-opacity=\"1\"/>\n",
       "<defs>\n",
       "  <clipPath id=\"clip192\">\n",
       "    <rect x=\"179\" y=\"47\" width=\"2174\" height=\"1440\"/>\n",
       "  </clipPath>\n",
       "</defs>\n",
       "<polyline clip-path=\"url(#clip192)\" style=\"stroke:#000000; stroke-width:2; stroke-opacity:0.1; fill:none\" points=\"\n",
       "  241.157,1486.45 241.157,47.2441 \n",
       "  \"/>\n",
       "<polyline clip-path=\"url(#clip192)\" style=\"stroke:#000000; stroke-width:2; stroke-opacity:0.1; fill:none\" points=\"\n",
       "  753.681,1486.45 753.681,47.2441 \n",
       "  \"/>\n",
       "<polyline clip-path=\"url(#clip192)\" style=\"stroke:#000000; stroke-width:2; stroke-opacity:0.1; fill:none\" points=\"\n",
       "  1266.2,1486.45 1266.2,47.2441 \n",
       "  \"/>\n",
       "<polyline clip-path=\"url(#clip192)\" style=\"stroke:#000000; stroke-width:2; stroke-opacity:0.1; fill:none\" points=\"\n",
       "  1778.73,1486.45 1778.73,47.2441 \n",
       "  \"/>\n",
       "<polyline clip-path=\"url(#clip192)\" style=\"stroke:#000000; stroke-width:2; stroke-opacity:0.1; fill:none\" points=\"\n",
       "  2291.25,1486.45 2291.25,47.2441 \n",
       "  \"/>\n",
       "<polyline clip-path=\"url(#clip190)\" style=\"stroke:#000000; stroke-width:4; stroke-opacity:1; fill:none\" points=\"\n",
       "  179.654,1486.45 2352.76,1486.45 \n",
       "  \"/>\n",
       "<polyline clip-path=\"url(#clip190)\" style=\"stroke:#000000; stroke-width:4; stroke-opacity:1; fill:none\" points=\"\n",
       "  241.157,1486.45 241.157,1469.18 \n",
       "  \"/>\n",
       "<polyline clip-path=\"url(#clip190)\" style=\"stroke:#000000; stroke-width:4; stroke-opacity:1; fill:none\" points=\"\n",
       "  753.681,1486.45 753.681,1469.18 \n",
       "  \"/>\n",
       "<polyline clip-path=\"url(#clip190)\" style=\"stroke:#000000; stroke-width:4; stroke-opacity:1; fill:none\" points=\"\n",
       "  1266.2,1486.45 1266.2,1469.18 \n",
       "  \"/>\n",
       "<polyline clip-path=\"url(#clip190)\" style=\"stroke:#000000; stroke-width:4; stroke-opacity:1; fill:none\" points=\"\n",
       "  1778.73,1486.45 1778.73,1469.18 \n",
       "  \"/>\n",
       "<polyline clip-path=\"url(#clip190)\" style=\"stroke:#000000; stroke-width:4; stroke-opacity:1; fill:none\" points=\"\n",
       "  2291.25,1486.45 2291.25,1469.18 \n",
       "  \"/>\n",
       "<path clip-path=\"url(#clip190)\" d=\"M 0 0 M194.942 1530.29 L224.617 1530.29 L224.617 1534.23 L194.942 1534.23 L194.942 1530.29 Z\" fill=\"#000000\" fill-rule=\"evenodd\" fill-opacity=\"1\" /><path clip-path=\"url(#clip190)\" d=\"M 0 0 M230.497 1543.18 L238.136 1543.18 L238.136 1516.82 L229.826 1518.49 L229.826 1514.23 L238.089 1512.56 L242.765 1512.56 L242.765 1543.18 L250.404 1543.18 L250.404 1547.12 L230.497 1547.12 L230.497 1543.18 Z\" fill=\"#000000\" fill-rule=\"evenodd\" fill-opacity=\"1\" /><path clip-path=\"url(#clip190)\" d=\"M 0 0 M255.474 1541.24 L260.358 1541.24 L260.358 1547.12 L255.474 1547.12 L255.474 1541.24 Z\" fill=\"#000000\" fill-rule=\"evenodd\" fill-opacity=\"1\" /><path clip-path=\"url(#clip190)\" d=\"M 0 0 M275.427 1515.64 Q271.816 1515.64 269.987 1519.2 Q268.182 1522.75 268.182 1529.87 Q268.182 1536.98 269.987 1540.55 Q271.816 1544.09 275.427 1544.09 Q279.061 1544.09 280.867 1540.55 Q282.696 1536.98 282.696 1529.87 Q282.696 1522.75 280.867 1519.2 Q279.061 1515.64 275.427 1515.64 M275.427 1511.93 Q281.237 1511.93 284.293 1516.54 Q287.372 1521.12 287.372 1529.87 Q287.372 1538.6 284.293 1543.21 Q281.237 1547.79 275.427 1547.79 Q269.617 1547.79 266.538 1543.21 Q263.483 1538.6 263.483 1529.87 Q263.483 1521.12 266.538 1516.54 Q269.617 1511.93 275.427 1511.93 Z\" fill=\"#000000\" fill-rule=\"evenodd\" fill-opacity=\"1\" /><path clip-path=\"url(#clip190)\" d=\"M 0 0 M707.35 1530.29 L737.026 1530.29 L737.026 1534.23 L707.35 1534.23 L707.35 1530.29 Z\" fill=\"#000000\" fill-rule=\"evenodd\" fill-opacity=\"1\" /><path clip-path=\"url(#clip190)\" d=\"M 0 0 M752.095 1515.64 Q748.484 1515.64 746.655 1519.2 Q744.85 1522.75 744.85 1529.87 Q744.85 1536.98 746.655 1540.55 Q748.484 1544.09 752.095 1544.09 Q755.729 1544.09 757.535 1540.55 Q759.364 1536.98 759.364 1529.87 Q759.364 1522.75 757.535 1519.2 Q755.729 1515.64 752.095 1515.64 M752.095 1511.93 Q757.905 1511.93 760.961 1516.54 Q764.039 1521.12 764.039 1529.87 Q764.039 1538.6 760.961 1543.21 Q757.905 1547.79 752.095 1547.79 Q746.285 1547.79 743.206 1543.21 Q740.151 1538.6 740.151 1529.87 Q740.151 1521.12 743.206 1516.54 Q746.285 1511.93 752.095 1511.93 Z\" fill=\"#000000\" fill-rule=\"evenodd\" fill-opacity=\"1\" /><path clip-path=\"url(#clip190)\" d=\"M 0 0 M769.109 1541.24 L773.993 1541.24 L773.993 1547.12 L769.109 1547.12 L769.109 1541.24 Z\" fill=\"#000000\" fill-rule=\"evenodd\" fill-opacity=\"1\" /><path clip-path=\"url(#clip190)\" d=\"M 0 0 M779.109 1512.56 L797.465 1512.56 L797.465 1516.5 L783.391 1516.5 L783.391 1524.97 Q784.41 1524.62 785.428 1524.46 Q786.447 1524.27 787.465 1524.27 Q793.252 1524.27 796.632 1527.44 Q800.011 1530.62 800.011 1536.03 Q800.011 1541.61 796.539 1544.71 Q793.067 1547.79 786.748 1547.79 Q784.572 1547.79 782.303 1547.42 Q780.058 1547.05 777.65 1546.31 L777.65 1541.61 Q779.734 1542.74 781.956 1543.3 Q784.178 1543.86 786.655 1543.86 Q790.66 1543.86 792.998 1541.75 Q795.336 1539.64 795.336 1536.03 Q795.336 1532.42 792.998 1530.31 Q790.66 1528.21 786.655 1528.21 Q784.78 1528.21 782.905 1528.62 Q781.053 1529.04 779.109 1529.92 L779.109 1512.56 Z\" fill=\"#000000\" fill-rule=\"evenodd\" fill-opacity=\"1\" /><path clip-path=\"url(#clip190)\" d=\"M 0 0 M1247.72 1515.64 Q1244.11 1515.64 1242.28 1519.2 Q1240.48 1522.75 1240.48 1529.87 Q1240.48 1536.98 1242.28 1540.55 Q1244.11 1544.09 1247.72 1544.09 Q1251.36 1544.09 1253.16 1540.55 Q1254.99 1536.98 1254.99 1529.87 Q1254.99 1522.75 1253.16 1519.2 Q1251.36 1515.64 1247.72 1515.64 M1247.72 1511.93 Q1253.53 1511.93 1256.59 1516.54 Q1259.67 1521.12 1259.67 1529.87 Q1259.67 1538.6 1256.59 1543.21 Q1253.53 1547.79 1247.72 1547.79 Q1241.91 1547.79 1238.83 1543.21 Q1235.78 1538.6 1235.78 1529.87 Q1235.78 1521.12 1238.83 1516.54 Q1241.91 1511.93 1247.72 1511.93 Z\" fill=\"#000000\" fill-rule=\"evenodd\" fill-opacity=\"1\" /><path clip-path=\"url(#clip190)\" d=\"M 0 0 M1264.73 1541.24 L1269.62 1541.24 L1269.62 1547.12 L1264.73 1547.12 L1264.73 1541.24 Z\" fill=\"#000000\" fill-rule=\"evenodd\" fill-opacity=\"1\" /><path clip-path=\"url(#clip190)\" d=\"M 0 0 M1284.69 1515.64 Q1281.08 1515.64 1279.25 1519.2 Q1277.44 1522.75 1277.44 1529.87 Q1277.44 1536.98 1279.25 1540.55 Q1281.08 1544.09 1284.69 1544.09 Q1288.32 1544.09 1290.13 1540.55 Q1291.96 1536.98 1291.96 1529.87 Q1291.96 1522.75 1290.13 1519.2 Q1288.32 1515.64 1284.69 1515.64 M1284.69 1511.93 Q1290.5 1511.93 1293.55 1516.54 Q1296.63 1521.12 1296.63 1529.87 Q1296.63 1538.6 1293.55 1543.21 Q1290.5 1547.79 1284.69 1547.79 Q1278.88 1547.79 1275.8 1543.21 Q1272.74 1538.6 1272.74 1529.87 Q1272.74 1521.12 1275.8 1516.54 Q1278.88 1511.93 1284.69 1511.93 Z\" fill=\"#000000\" fill-rule=\"evenodd\" fill-opacity=\"1\" /><path clip-path=\"url(#clip190)\" d=\"M 0 0 M1760.74 1515.64 Q1757.13 1515.64 1755.3 1519.2 Q1753.5 1522.75 1753.5 1529.87 Q1753.5 1536.98 1755.3 1540.55 Q1757.13 1544.09 1760.74 1544.09 Q1764.38 1544.09 1766.18 1540.55 Q1768.01 1536.98 1768.01 1529.87 Q1768.01 1522.75 1766.18 1519.2 Q1764.38 1515.64 1760.74 1515.64 M1760.74 1511.93 Q1766.55 1511.93 1769.61 1516.54 Q1772.69 1521.12 1772.69 1529.87 Q1772.69 1538.6 1769.61 1543.21 Q1766.55 1547.79 1760.74 1547.79 Q1754.93 1547.79 1751.85 1543.21 Q1748.8 1538.6 1748.8 1529.87 Q1748.8 1521.12 1751.85 1516.54 Q1754.93 1511.93 1760.74 1511.93 Z\" fill=\"#000000\" fill-rule=\"evenodd\" fill-opacity=\"1\" /><path clip-path=\"url(#clip190)\" d=\"M 0 0 M1777.76 1541.24 L1782.64 1541.24 L1782.64 1547.12 L1777.76 1547.12 L1777.76 1541.24 Z\" fill=\"#000000\" fill-rule=\"evenodd\" fill-opacity=\"1\" /><path clip-path=\"url(#clip190)\" d=\"M 0 0 M1787.76 1512.56 L1806.11 1512.56 L1806.11 1516.5 L1792.04 1516.5 L1792.04 1524.97 Q1793.06 1524.62 1794.08 1524.46 Q1795.09 1524.27 1796.11 1524.27 Q1801.9 1524.27 1805.28 1527.44 Q1808.66 1530.62 1808.66 1536.03 Q1808.66 1541.61 1805.19 1544.71 Q1801.71 1547.79 1795.4 1547.79 Q1793.22 1547.79 1790.95 1547.42 Q1788.71 1547.05 1786.3 1546.31 L1786.3 1541.61 Q1788.38 1542.74 1790.6 1543.3 Q1792.83 1543.86 1795.3 1543.86 Q1799.31 1543.86 1801.65 1541.75 Q1803.98 1539.64 1803.98 1536.03 Q1803.98 1532.42 1801.65 1530.31 Q1799.31 1528.21 1795.3 1528.21 Q1793.43 1528.21 1791.55 1528.62 Q1789.7 1529.04 1787.76 1529.92 L1787.76 1512.56 Z\" fill=\"#000000\" fill-rule=\"evenodd\" fill-opacity=\"1\" /><path clip-path=\"url(#clip190)\" d=\"M 0 0 M2263.15 1543.18 L2270.79 1543.18 L2270.79 1516.82 L2262.48 1518.49 L2262.48 1514.23 L2270.74 1512.56 L2275.42 1512.56 L2275.42 1543.18 L2283.06 1543.18 L2283.06 1547.12 L2263.15 1547.12 L2263.15 1543.18 Z\" fill=\"#000000\" fill-rule=\"evenodd\" fill-opacity=\"1\" /><path clip-path=\"url(#clip190)\" d=\"M 0 0 M2288.13 1541.24 L2293.01 1541.24 L2293.01 1547.12 L2288.13 1547.12 L2288.13 1541.24 Z\" fill=\"#000000\" fill-rule=\"evenodd\" fill-opacity=\"1\" /><path clip-path=\"url(#clip190)\" d=\"M 0 0 M2308.08 1515.64 Q2304.47 1515.64 2302.64 1519.2 Q2300.84 1522.75 2300.84 1529.87 Q2300.84 1536.98 2302.64 1540.55 Q2304.47 1544.09 2308.08 1544.09 Q2311.72 1544.09 2313.52 1540.55 Q2315.35 1536.98 2315.35 1529.87 Q2315.35 1522.75 2313.52 1519.2 Q2311.72 1515.64 2308.08 1515.64 M2308.08 1511.93 Q2313.89 1511.93 2316.95 1516.54 Q2320.03 1521.12 2320.03 1529.87 Q2320.03 1538.6 2316.95 1543.21 Q2313.89 1547.79 2308.08 1547.79 Q2302.27 1547.79 2299.19 1543.21 Q2296.14 1538.6 2296.14 1529.87 Q2296.14 1521.12 2299.19 1516.54 Q2302.27 1511.93 2308.08 1511.93 Z\" fill=\"#000000\" fill-rule=\"evenodd\" fill-opacity=\"1\" /><polyline clip-path=\"url(#clip192)\" style=\"stroke:#000000; stroke-width:2; stroke-opacity:0.1; fill:none\" points=\"\n",
       "  179.654,1447.06 2352.76,1447.06 \n",
       "  \"/>\n",
       "<polyline clip-path=\"url(#clip192)\" style=\"stroke:#000000; stroke-width:2; stroke-opacity:0.1; fill:none\" points=\"\n",
       "  179.654,1107.15 2352.76,1107.15 \n",
       "  \"/>\n",
       "<polyline clip-path=\"url(#clip192)\" style=\"stroke:#000000; stroke-width:2; stroke-opacity:0.1; fill:none\" points=\"\n",
       "  179.654,767.227 2352.76,767.227 \n",
       "  \"/>\n",
       "<polyline clip-path=\"url(#clip192)\" style=\"stroke:#000000; stroke-width:2; stroke-opacity:0.1; fill:none\" points=\"\n",
       "  179.654,427.308 2352.76,427.308 \n",
       "  \"/>\n",
       "<polyline clip-path=\"url(#clip192)\" style=\"stroke:#000000; stroke-width:2; stroke-opacity:0.1; fill:none\" points=\"\n",
       "  179.654,87.3895 2352.76,87.3895 \n",
       "  \"/>\n",
       "<polyline clip-path=\"url(#clip190)\" style=\"stroke:#000000; stroke-width:4; stroke-opacity:1; fill:none\" points=\"\n",
       "  179.654,1486.45 179.654,47.2441 \n",
       "  \"/>\n",
       "<polyline clip-path=\"url(#clip190)\" style=\"stroke:#000000; stroke-width:4; stroke-opacity:1; fill:none\" points=\"\n",
       "  179.654,1447.06 205.731,1447.06 \n",
       "  \"/>\n",
       "<polyline clip-path=\"url(#clip190)\" style=\"stroke:#000000; stroke-width:4; stroke-opacity:1; fill:none\" points=\"\n",
       "  179.654,1107.15 205.731,1107.15 \n",
       "  \"/>\n",
       "<polyline clip-path=\"url(#clip190)\" style=\"stroke:#000000; stroke-width:4; stroke-opacity:1; fill:none\" points=\"\n",
       "  179.654,767.227 205.731,767.227 \n",
       "  \"/>\n",
       "<polyline clip-path=\"url(#clip190)\" style=\"stroke:#000000; stroke-width:4; stroke-opacity:1; fill:none\" points=\"\n",
       "  179.654,427.308 205.731,427.308 \n",
       "  \"/>\n",
       "<polyline clip-path=\"url(#clip190)\" style=\"stroke:#000000; stroke-width:4; stroke-opacity:1; fill:none\" points=\"\n",
       "  179.654,87.3895 205.731,87.3895 \n",
       "  \"/>\n",
       "<path clip-path=\"url(#clip190)\" d=\"M 0 0 M51.2236 1447.52 L80.8994 1447.52 L80.8994 1451.45 L51.2236 1451.45 L51.2236 1447.52 Z\" fill=\"#000000\" fill-rule=\"evenodd\" fill-opacity=\"1\" /><path clip-path=\"url(#clip190)\" d=\"M 0 0 M86.779 1460.41 L94.4178 1460.41 L94.4178 1434.04 L86.1077 1435.71 L86.1077 1431.45 L94.3715 1429.78 L99.0474 1429.78 L99.0474 1460.41 L106.686 1460.41 L106.686 1464.34 L86.779 1464.34 L86.779 1460.41 Z\" fill=\"#000000\" fill-rule=\"evenodd\" fill-opacity=\"1\" /><path clip-path=\"url(#clip190)\" d=\"M 0 0 M111.756 1458.47 L116.64 1458.47 L116.64 1464.34 L111.756 1464.34 L111.756 1458.47 Z\" fill=\"#000000\" fill-rule=\"evenodd\" fill-opacity=\"1\" /><path clip-path=\"url(#clip190)\" d=\"M 0 0 M131.709 1432.86 Q128.098 1432.86 126.27 1436.43 Q124.464 1439.97 124.464 1447.1 Q124.464 1454.21 126.27 1457.77 Q128.098 1461.31 131.709 1461.31 Q135.344 1461.31 137.149 1457.77 Q138.978 1454.21 138.978 1447.1 Q138.978 1439.97 137.149 1436.43 Q135.344 1432.86 131.709 1432.86 M131.709 1429.16 Q137.519 1429.16 140.575 1433.77 Q143.654 1438.35 143.654 1447.1 Q143.654 1455.83 140.575 1460.43 Q137.519 1465.02 131.709 1465.02 Q125.899 1465.02 122.82 1460.43 Q119.765 1455.83 119.765 1447.1 Q119.765 1438.35 122.82 1433.77 Q125.899 1429.16 131.709 1429.16 Z\" fill=\"#000000\" fill-rule=\"evenodd\" fill-opacity=\"1\" /><path clip-path=\"url(#clip190)\" d=\"M 0 0 M50.9921 1107.6 L80.6679 1107.6 L80.6679 1111.53 L50.9921 1111.53 L50.9921 1107.6 Z\" fill=\"#000000\" fill-rule=\"evenodd\" fill-opacity=\"1\" /><path clip-path=\"url(#clip190)\" d=\"M 0 0 M95.7373 1092.94 Q92.1262 1092.94 90.2975 1096.51 Q88.4919 1100.05 88.4919 1107.18 Q88.4919 1114.29 90.2975 1117.85 Q92.1262 1121.39 95.7373 1121.39 Q99.3715 1121.39 101.177 1117.85 Q103.006 1114.29 103.006 1107.18 Q103.006 1100.05 101.177 1096.51 Q99.3715 1092.94 95.7373 1092.94 M95.7373 1089.24 Q101.547 1089.24 104.603 1093.85 Q107.682 1098.43 107.682 1107.18 Q107.682 1115.91 104.603 1120.51 Q101.547 1125.1 95.7373 1125.1 Q89.9271 1125.1 86.8484 1120.51 Q83.7929 1115.91 83.7929 1107.18 Q83.7929 1098.43 86.8484 1093.85 Q89.9271 1089.24 95.7373 1089.24 Z\" fill=\"#000000\" fill-rule=\"evenodd\" fill-opacity=\"1\" /><path clip-path=\"url(#clip190)\" d=\"M 0 0 M112.751 1118.55 L117.635 1118.55 L117.635 1124.43 L112.751 1124.43 L112.751 1118.55 Z\" fill=\"#000000\" fill-rule=\"evenodd\" fill-opacity=\"1\" /><path clip-path=\"url(#clip190)\" d=\"M 0 0 M122.751 1089.87 L141.107 1089.87 L141.107 1093.8 L127.033 1093.8 L127.033 1102.27 Q128.052 1101.93 129.07 1101.76 Q130.089 1101.58 131.107 1101.58 Q136.894 1101.58 140.274 1104.75 Q143.654 1107.92 143.654 1113.34 Q143.654 1118.92 140.181 1122.02 Q136.709 1125.1 130.39 1125.1 Q128.214 1125.1 125.945 1124.73 Q123.7 1124.36 121.293 1123.62 L121.293 1118.92 Q123.376 1120.05 125.598 1120.61 Q127.82 1121.16 130.297 1121.16 Q134.302 1121.16 136.64 1119.06 Q138.978 1116.95 138.978 1113.34 Q138.978 1109.73 136.64 1107.62 Q134.302 1105.51 130.297 1105.51 Q128.422 1105.51 126.547 1105.93 Q124.695 1106.35 122.751 1107.23 L122.751 1089.87 Z\" fill=\"#000000\" fill-rule=\"evenodd\" fill-opacity=\"1\" /><path clip-path=\"url(#clip190)\" d=\"M 0 0 M94.7419 753.026 Q91.1308 753.026 89.3021 756.591 Q87.4966 760.132 87.4966 767.262 Q87.4966 774.368 89.3021 777.933 Q91.1308 781.475 94.7419 781.475 Q98.3761 781.475 100.182 777.933 Q102.01 774.368 102.01 767.262 Q102.01 760.132 100.182 756.591 Q98.3761 753.026 94.7419 753.026 M94.7419 749.322 Q100.552 749.322 103.608 753.929 Q106.686 758.512 106.686 767.262 Q106.686 775.989 103.608 780.595 Q100.552 785.178 94.7419 785.178 Q88.9317 785.178 85.8531 780.595 Q82.7975 775.989 82.7975 767.262 Q82.7975 758.512 85.8531 753.929 Q88.9317 749.322 94.7419 749.322 Z\" fill=\"#000000\" fill-rule=\"evenodd\" fill-opacity=\"1\" /><path clip-path=\"url(#clip190)\" d=\"M 0 0 M111.756 778.627 L116.64 778.627 L116.64 784.507 L111.756 784.507 L111.756 778.627 Z\" fill=\"#000000\" fill-rule=\"evenodd\" fill-opacity=\"1\" /><path clip-path=\"url(#clip190)\" d=\"M 0 0 M131.709 753.026 Q128.098 753.026 126.27 756.591 Q124.464 760.132 124.464 767.262 Q124.464 774.368 126.27 777.933 Q128.098 781.475 131.709 781.475 Q135.344 781.475 137.149 777.933 Q138.978 774.368 138.978 767.262 Q138.978 760.132 137.149 756.591 Q135.344 753.026 131.709 753.026 M131.709 749.322 Q137.519 749.322 140.575 753.929 Q143.654 758.512 143.654 767.262 Q143.654 775.989 140.575 780.595 Q137.519 785.178 131.709 785.178 Q125.899 785.178 122.82 780.595 Q119.765 775.989 119.765 767.262 Q119.765 758.512 122.82 753.929 Q125.899 749.322 131.709 749.322 Z\" fill=\"#000000\" fill-rule=\"evenodd\" fill-opacity=\"1\" /><path clip-path=\"url(#clip190)\" d=\"M 0 0 M95.7373 413.107 Q92.1262 413.107 90.2975 416.672 Q88.4919 420.213 88.4919 427.343 Q88.4919 434.449 90.2975 438.014 Q92.1262 441.556 95.7373 441.556 Q99.3715 441.556 101.177 438.014 Q103.006 434.449 103.006 427.343 Q103.006 420.213 101.177 416.672 Q99.3715 413.107 95.7373 413.107 M95.7373 409.403 Q101.547 409.403 104.603 414.01 Q107.682 418.593 107.682 427.343 Q107.682 436.07 104.603 440.676 Q101.547 445.26 95.7373 445.26 Q89.9271 445.26 86.8484 440.676 Q83.7929 436.07 83.7929 427.343 Q83.7929 418.593 86.8484 414.01 Q89.9271 409.403 95.7373 409.403 Z\" fill=\"#000000\" fill-rule=\"evenodd\" fill-opacity=\"1\" /><path clip-path=\"url(#clip190)\" d=\"M 0 0 M112.751 438.709 L117.635 438.709 L117.635 444.588 L112.751 444.588 L112.751 438.709 Z\" fill=\"#000000\" fill-rule=\"evenodd\" fill-opacity=\"1\" /><path clip-path=\"url(#clip190)\" d=\"M 0 0 M122.751 410.028 L141.107 410.028 L141.107 413.963 L127.033 413.963 L127.033 422.436 Q128.052 422.088 129.07 421.926 Q130.089 421.741 131.107 421.741 Q136.894 421.741 140.274 424.912 Q143.654 428.084 143.654 433.5 Q143.654 439.079 140.181 442.181 Q136.709 445.26 130.39 445.26 Q128.214 445.26 125.945 444.889 Q123.7 444.519 121.293 443.778 L121.293 439.079 Q123.376 440.213 125.598 440.769 Q127.82 441.324 130.297 441.324 Q134.302 441.324 136.64 439.218 Q138.978 437.111 138.978 433.5 Q138.978 429.889 136.64 427.783 Q134.302 425.676 130.297 425.676 Q128.422 425.676 126.547 426.093 Q124.695 426.51 122.751 427.389 L122.751 410.028 Z\" fill=\"#000000\" fill-rule=\"evenodd\" fill-opacity=\"1\" /><path clip-path=\"url(#clip190)\" d=\"M 0 0 M86.779 100.734 L94.4178 100.734 L94.4178 74.3687 L86.1077 76.0354 L86.1077 71.7761 L94.3715 70.1095 L99.0474 70.1095 L99.0474 100.734 L106.686 100.734 L106.686 104.669 L86.779 104.669 L86.779 100.734 Z\" fill=\"#000000\" fill-rule=\"evenodd\" fill-opacity=\"1\" /><path clip-path=\"url(#clip190)\" d=\"M 0 0 M111.756 98.7899 L116.64 98.7899 L116.64 104.669 L111.756 104.669 L111.756 98.7899 Z\" fill=\"#000000\" fill-rule=\"evenodd\" fill-opacity=\"1\" /><path clip-path=\"url(#clip190)\" d=\"M 0 0 M131.709 73.1882 Q128.098 73.1882 126.27 76.7529 Q124.464 80.2946 124.464 87.4242 Q124.464 94.5306 126.27 98.0954 Q128.098 101.637 131.709 101.637 Q135.344 101.637 137.149 98.0954 Q138.978 94.5306 138.978 87.4242 Q138.978 80.2946 137.149 76.7529 Q135.344 73.1882 131.709 73.1882 M131.709 69.4845 Q137.519 69.4845 140.575 74.0909 Q143.654 78.6742 143.654 87.4242 Q143.654 96.151 140.575 100.757 Q137.519 105.341 131.709 105.341 Q125.899 105.341 122.82 100.757 Q119.765 96.151 119.765 87.4242 Q119.765 78.6742 122.82 74.0909 Q125.899 69.4845 131.709 69.4845 Z\" fill=\"#000000\" fill-rule=\"evenodd\" fill-opacity=\"1\" /><polyline clip-path=\"url(#clip192)\" style=\"stroke:#009af9; stroke-width:4; stroke-opacity:1; fill:none\" points=\"\n",
       "  241.157,901.848 261.177,904.475 446.299,934.598 557.55,959.869 651.611,987.863 753.787,1028.75 847.985,1081.6 898.48,1118.91 948.975,1165.04 1007.48,1232.83 \n",
       "  1065.98,1318.76 1091.98,1361.48 1117.97,1403.3 1130.97,1421.77 1143.97,1436.66 1156.97,1445.69 1169.96,1445.72 1181.36,1435.09 1192.76,1410.96 1198.46,1392.66 \n",
       "  1204.16,1369.56 1209.86,1341.21 1215.55,1307.23 1221.25,1267.31 1226.95,1221.31 1232.65,1169.22 1238.35,1111.3 1249.75,980.033 1261.15,834.168 1273.57,670 \n",
       "  1286,514.103 1292.21,443.112 1298.43,378.263 1304.64,320.253 1310.85,269.437 1317.07,225.862 1323.28,189.326 1329.49,159.435 1335.71,135.67 1341.92,117.435 \n",
       "  1348.13,104.106 1354.35,95.0639 1360.56,89.7161 1373.06,87.9763 1385.56,95.1881 1398.06,108.387 1410.56,125.378 1435.56,164.921 1460.56,206.188 1515.85,289.483 \n",
       "  1571.13,356.563 1623.73,407.012 1676.33,447.379 1731.03,481.29 1785.72,509.004 1831.76,528.629 1877.8,545.569 1990.22,578.509 2095.9,601.77 2265.2,629.167 \n",
       "  2291.25,632.606 \n",
       "  \"/>\n",
       "<circle clip-path=\"url(#clip192)\" cx=\"1266.2\" cy=\"767.227\" r=\"14\" fill=\"#e26f46\" fill-rule=\"evenodd\" fill-opacity=\"1\" stroke=\"#000000\" stroke-opacity=\"1\" stroke-width=\"3.2\"/>\n",
       "<circle clip-path=\"url(#clip192)\" cx=\"1276.46\" cy=\"632.606\" r=\"14\" fill=\"#3da44d\" fill-rule=\"evenodd\" fill-opacity=\"1\" stroke=\"#000000\" stroke-opacity=\"1\" stroke-width=\"3.2\"/>\n",
       "<path clip-path=\"url(#clip190)\" d=\"\n",
       "M252.09 337.138 L987.757 337.138 L987.757 95.2176 L252.09 95.2176  Z\n",
       "  \" fill=\"#ffffff\" fill-rule=\"evenodd\" fill-opacity=\"1\"/>\n",
       "<polyline clip-path=\"url(#clip190)\" style=\"stroke:#000000; stroke-width:4; stroke-opacity:1; fill:none\" points=\"\n",
       "  252.09,337.138 987.757,337.138 987.757,95.2176 252.09,95.2176 252.09,337.138 \n",
       "  \"/>\n",
       "<polyline clip-path=\"url(#clip190)\" style=\"stroke:#009af9; stroke-width:4; stroke-opacity:1; fill:none\" points=\"\n",
       "  276.236,155.698 421.109,155.698 \n",
       "  \"/>\n",
       "<path clip-path=\"url(#clip190)\" d=\"M 0 0 M461.76 136.959 L461.76 140.501 L457.686 140.501 Q455.394 140.501 454.491 141.427 Q453.611 142.353 453.611 144.76 L453.611 147.052 L460.625 147.052 L460.625 150.362 L453.611 150.362 L453.611 172.978 L449.329 172.978 L449.329 150.362 L445.255 150.362 L445.255 147.052 L449.329 147.052 L449.329 145.246 Q449.329 140.918 451.343 138.95 Q453.357 136.959 457.732 136.959 L461.76 136.959 Z\" fill=\"#000000\" fill-rule=\"evenodd\" fill-opacity=\"1\" /><path clip-path=\"url(#clip190)\" d=\"M 0 0 M476.459 137.006 Q473.357 142.33 471.852 147.538 Q470.348 152.746 470.348 158.093 Q470.348 163.441 471.852 168.695 Q473.38 173.927 476.459 179.228 L472.755 179.228 Q469.283 173.788 467.547 168.533 Q465.834 163.279 465.834 158.093 Q465.834 152.931 467.547 147.7 Q469.26 142.468 472.755 137.006 L476.459 137.006 Z\" fill=\"#000000\" fill-rule=\"evenodd\" fill-opacity=\"1\" /><path clip-path=\"url(#clip190)\" d=\"M 0 0 M502.477 147.052 L493.102 159.667 L502.963 172.978 L497.94 172.978 L490.394 162.792 L482.847 172.978 L477.824 172.978 L487.894 159.413 L478.681 147.052 L483.704 147.052 L490.579 156.288 L497.454 147.052 L502.477 147.052 Z\" fill=\"#000000\" fill-rule=\"evenodd\" fill-opacity=\"1\" /><path clip-path=\"url(#clip190)\" d=\"M 0 0 M506.759 137.006 L510.463 137.006 Q513.935 142.468 515.648 147.7 Q517.384 152.931 517.384 158.093 Q517.384 163.279 515.648 168.533 Q513.935 173.788 510.463 179.228 L506.759 179.228 Q509.838 173.927 511.343 168.695 Q512.87 163.441 512.87 158.093 Q512.87 152.746 511.343 147.538 Q509.838 142.33 506.759 137.006 Z\" fill=\"#000000\" fill-rule=\"evenodd\" fill-opacity=\"1\" /><path clip-path=\"url(#clip190)\" d=\"M 0 0 M537.477 151.45 L567.153 151.45 L567.153 155.339 L537.477 155.339 L537.477 151.45 M537.477 160.894 L567.153 160.894 L567.153 164.829 L537.477 164.829 L537.477 160.894 Z\" fill=\"#000000\" fill-rule=\"evenodd\" fill-opacity=\"1\" /><path clip-path=\"url(#clip190)\" d=\"M 0 0 M608.24 147.052 L598.865 159.667 L608.726 172.978 L603.703 172.978 L596.157 162.792 L588.611 172.978 L583.588 172.978 L593.657 159.413 L584.444 147.052 L589.467 147.052 L596.342 156.288 L603.217 147.052 L608.24 147.052 Z\" fill=\"#000000\" fill-rule=\"evenodd\" fill-opacity=\"1\" /><path clip-path=\"url(#clip190)\" d=\"M 0 0 M645.925 138.418 L658.495 151.311 L653.842 151.311 L643.657 142.168 L633.472 151.311 L628.819 151.311 L641.388 138.418 L645.925 138.418 Z\" fill=\"#000000\" fill-rule=\"evenodd\" fill-opacity=\"1\" /><path clip-path=\"url(#clip190)\" d=\"M 0 0 M692.8 154.343 Q696.156 155.061 698.031 157.329 Q699.93 159.598 699.93 162.931 Q699.93 168.047 696.411 170.848 Q692.893 173.649 686.411 173.649 Q684.235 173.649 681.92 173.209 Q679.629 172.792 677.175 171.936 L677.175 167.422 Q679.12 168.556 681.434 169.135 Q683.749 169.714 686.272 169.714 Q690.67 169.714 692.962 167.978 Q695.277 166.241 695.277 162.931 Q695.277 159.876 693.124 158.163 Q690.994 156.427 687.175 156.427 L683.147 156.427 L683.147 152.584 L687.36 152.584 Q690.809 152.584 692.638 151.218 Q694.467 149.83 694.467 147.237 Q694.467 144.575 692.569 143.163 Q690.694 141.728 687.175 141.728 Q685.254 141.728 683.055 142.144 Q680.856 142.561 678.217 143.441 L678.217 139.274 Q680.879 138.533 683.194 138.163 Q685.532 137.793 687.592 137.793 Q692.916 137.793 696.018 140.223 Q699.119 142.63 699.119 146.751 Q699.119 149.621 697.476 151.612 Q695.832 153.58 692.8 154.343 Z\" fill=\"#000000\" fill-rule=\"evenodd\" fill-opacity=\"1\" /><path clip-path=\"url(#clip190)\" d=\"M 0 0 M717.314 158.093 L729.791 158.093 L729.791 161.89 L717.314 161.89 L717.314 158.093 Z\" fill=\"#000000\" fill-rule=\"evenodd\" fill-opacity=\"1\" /><path clip-path=\"url(#clip190)\" d=\"M 0 0 M753.957 169.042 L770.276 169.042 L770.276 172.978 L748.332 172.978 L748.332 169.042 Q750.994 166.288 755.577 161.658 Q760.184 157.005 761.364 155.663 Q763.61 153.14 764.489 151.404 Q765.392 149.644 765.392 147.955 Q765.392 145.2 763.448 143.464 Q761.527 141.728 758.425 141.728 Q756.226 141.728 753.772 142.492 Q751.341 143.255 748.564 144.806 L748.564 140.084 Q751.388 138.95 753.841 138.371 Q756.295 137.793 758.332 137.793 Q763.702 137.793 766.897 140.478 Q770.091 143.163 770.091 147.654 Q770.091 149.783 769.281 151.705 Q768.494 153.603 766.388 156.195 Q765.809 156.867 762.707 160.084 Q759.605 163.279 753.957 169.042 Z\" fill=\"#000000\" fill-rule=\"evenodd\" fill-opacity=\"1\" /><path clip-path=\"url(#clip190)\" d=\"M 0 0 M807.637 144.112 L799.327 148.603 L807.637 153.117 L806.295 155.385 L798.517 150.686 L798.517 159.413 L795.878 159.413 L795.878 150.686 L788.1 155.385 L786.758 153.117 L795.068 148.603 L786.758 144.112 L788.1 141.82 L795.878 146.519 L795.878 137.793 L798.517 137.793 L798.517 146.519 L806.295 141.82 L807.637 144.112 Z\" fill=\"#000000\" fill-rule=\"evenodd\" fill-opacity=\"1\" /><path clip-path=\"url(#clip190)\" d=\"M 0 0 M848.725 147.052 L839.35 159.667 L849.211 172.978 L844.188 172.978 L836.642 162.792 L829.096 172.978 L824.072 172.978 L834.142 159.413 L824.929 147.052 L829.952 147.052 L836.827 156.288 L843.702 147.052 L848.725 147.052 Z\" fill=\"#000000\" fill-rule=\"evenodd\" fill-opacity=\"1\" /><path clip-path=\"url(#clip190)\" d=\"M 0 0 M886.086 143.255 L886.086 156.149 L898.979 156.149 L898.979 160.084 L886.086 160.084 L886.086 172.978 L882.197 172.978 L882.197 160.084 L869.304 160.084 L869.304 156.149 L882.197 156.149 L882.197 143.255 L886.086 143.255 Z\" fill=\"#000000\" fill-rule=\"evenodd\" fill-opacity=\"1\" /><path clip-path=\"url(#clip190)\" d=\"M 0 0 M923.146 169.042 L939.465 169.042 L939.465 172.978 L917.521 172.978 L917.521 169.042 Q920.183 166.288 924.766 161.658 Q929.373 157.005 930.553 155.663 Q932.799 153.14 933.678 151.404 Q934.581 149.644 934.581 147.955 Q934.581 145.2 932.637 143.464 Q930.715 141.728 927.614 141.728 Q925.415 141.728 922.961 142.492 Q920.53 143.255 917.753 144.806 L917.753 140.084 Q920.577 138.95 923.03 138.371 Q925.484 137.793 927.521 137.793 Q932.891 137.793 936.086 140.478 Q939.28 143.163 939.28 147.654 Q939.28 149.783 938.47 151.705 Q937.683 153.603 935.576 156.195 Q934.998 156.867 931.896 160.084 Q928.794 163.279 923.146 169.042 Z\" fill=\"#000000\" fill-rule=\"evenodd\" fill-opacity=\"1\" /><circle clip-path=\"url(#clip190)\" cx=\"348.673\" cy=\"216.178\" r=\"23\" fill=\"#e26f46\" fill-rule=\"evenodd\" fill-opacity=\"1\" stroke=\"#000000\" stroke-opacity=\"1\" stroke-width=\"5.12\"/>\n",
       "<path clip-path=\"url(#clip190)\" d=\"M 0 0 M460.44 211.513 Q459.723 211.097 458.866 210.911 Q458.033 210.703 457.014 210.703 Q453.403 210.703 451.459 213.064 Q449.537 215.402 449.537 219.8 L449.537 233.458 L445.255 233.458 L445.255 207.532 L449.537 207.532 L449.537 211.56 Q450.88 209.198 453.033 208.064 Q455.186 206.907 458.264 206.907 Q458.704 206.907 459.236 206.976 Q459.769 207.023 460.417 207.138 L460.44 211.513 Z\" fill=\"#000000\" fill-rule=\"evenodd\" fill-opacity=\"1\" /><path clip-path=\"url(#clip190)\" d=\"M 0 0 M473.912 210.518 Q470.486 210.518 468.496 213.203 Q466.505 215.865 466.505 220.518 Q466.505 225.171 468.473 227.856 Q470.463 230.518 473.912 230.518 Q477.315 230.518 479.306 227.833 Q481.297 225.147 481.297 220.518 Q481.297 215.911 479.306 213.226 Q477.315 210.518 473.912 210.518 M473.912 206.907 Q479.468 206.907 482.639 210.518 Q485.81 214.129 485.81 220.518 Q485.81 226.884 482.639 230.518 Q479.468 234.129 473.912 234.129 Q468.334 234.129 465.162 230.518 Q462.014 226.884 462.014 220.518 Q462.014 214.129 465.162 210.518 Q468.334 206.907 473.912 206.907 Z\" fill=\"#000000\" fill-rule=\"evenodd\" fill-opacity=\"1\" /><path clip-path=\"url(#clip190)\" d=\"M 0 0 M500.324 210.518 Q496.898 210.518 494.908 213.203 Q492.917 215.865 492.917 220.518 Q492.917 225.171 494.884 227.856 Q496.875 230.518 500.324 230.518 Q503.727 230.518 505.718 227.833 Q507.708 225.147 507.708 220.518 Q507.708 215.911 505.718 213.226 Q503.727 210.518 500.324 210.518 M500.324 206.907 Q505.88 206.907 509.051 210.518 Q512.222 214.129 512.222 220.518 Q512.222 226.884 509.051 230.518 Q505.88 234.129 500.324 234.129 Q494.746 234.129 491.574 230.518 Q488.426 226.884 488.426 220.518 Q488.426 214.129 491.574 210.518 Q494.746 206.907 500.324 206.907 Z\" fill=\"#000000\" fill-rule=\"evenodd\" fill-opacity=\"1\" /><path clip-path=\"url(#clip190)\" d=\"M 0 0 M520.903 200.171 L520.903 207.532 L529.676 207.532 L529.676 210.842 L520.903 210.842 L520.903 224.916 Q520.903 228.087 521.759 228.99 Q522.639 229.893 525.301 229.893 L529.676 229.893 L529.676 233.458 L525.301 233.458 Q520.37 233.458 518.495 231.629 Q516.62 229.777 516.62 224.916 L516.62 210.842 L513.495 210.842 L513.495 207.532 L516.62 207.532 L516.62 200.171 L520.903 200.171 Z\" fill=\"#000000\" fill-rule=\"evenodd\" fill-opacity=\"1\" /><circle clip-path=\"url(#clip190)\" cx=\"348.673\" cy=\"276.658\" r=\"23\" fill=\"#3da44d\" fill-rule=\"evenodd\" fill-opacity=\"1\" stroke=\"#000000\" stroke-opacity=\"1\" stroke-width=\"5.12\"/>\n",
       "<path clip-path=\"url(#clip190)\" d=\"M 0 0 M463.681 268.776 L463.681 272.803 Q461.875 271.877 459.931 271.415 Q457.986 270.952 455.903 270.952 Q452.732 270.952 451.135 271.924 Q449.561 272.896 449.561 274.84 Q449.561 276.322 450.695 277.178 Q451.829 278.012 455.255 278.776 L456.713 279.1 Q461.25 280.072 463.148 281.854 Q465.07 283.614 465.07 286.785 Q465.07 290.396 462.199 292.502 Q459.352 294.609 454.352 294.609 Q452.269 294.609 450 294.192 Q447.755 293.799 445.255 292.988 L445.255 288.59 Q447.616 289.817 449.908 290.442 Q452.199 291.044 454.445 291.044 Q457.454 291.044 459.074 290.026 Q460.695 288.984 460.695 287.109 Q460.695 285.373 459.514 284.447 Q458.357 283.521 454.399 282.664 L452.917 282.317 Q448.959 281.484 447.199 279.771 Q445.44 278.035 445.44 275.026 Q445.44 271.368 448.033 269.378 Q450.625 267.387 455.394 267.387 Q457.755 267.387 459.838 267.734 Q461.922 268.081 463.681 268.776 Z\" fill=\"#000000\" fill-rule=\"evenodd\" fill-opacity=\"1\" /><path clip-path=\"url(#clip190)\" d=\"M 0 0 M473.75 260.651 L473.75 268.012 L482.523 268.012 L482.523 271.322 L473.75 271.322 L473.75 285.396 Q473.75 288.567 474.607 289.47 Q475.486 290.373 478.148 290.373 L482.523 290.373 L482.523 293.938 L478.148 293.938 Q473.218 293.938 471.343 292.109 Q469.468 290.257 469.468 285.396 L469.468 271.322 L466.343 271.322 L466.343 268.012 L469.468 268.012 L469.468 260.651 L473.75 260.651 Z\" fill=\"#000000\" fill-rule=\"evenodd\" fill-opacity=\"1\" /><path clip-path=\"url(#clip190)\" d=\"M 0 0 M498.773 280.905 Q493.611 280.905 491.621 282.086 Q489.63 283.266 489.63 286.114 Q489.63 288.382 491.111 289.725 Q492.616 291.044 495.185 291.044 Q498.727 291.044 500.857 288.544 Q503.009 286.021 503.009 281.854 L503.009 280.905 L498.773 280.905 M507.269 279.146 L507.269 293.938 L503.009 293.938 L503.009 290.002 Q501.551 292.363 499.375 293.498 Q497.199 294.609 494.051 294.609 Q490.07 294.609 487.709 292.387 Q485.371 290.141 485.371 286.391 Q485.371 282.016 488.287 279.794 Q491.227 277.572 497.037 277.572 L503.009 277.572 L503.009 277.155 Q503.009 274.215 501.065 272.618 Q499.144 270.998 495.648 270.998 Q493.426 270.998 491.32 271.53 Q489.213 272.063 487.269 273.127 L487.269 269.192 Q489.607 268.29 491.806 267.85 Q494.005 267.387 496.088 267.387 Q501.713 267.387 504.491 270.303 Q507.269 273.22 507.269 279.146 Z\" fill=\"#000000\" fill-rule=\"evenodd\" fill-opacity=\"1\" /><path clip-path=\"url(#clip190)\" d=\"M 0 0 M526.759 271.993 Q526.042 271.577 525.185 271.391 Q524.352 271.183 523.333 271.183 Q519.722 271.183 517.778 273.544 Q515.857 275.882 515.857 280.28 L515.857 293.938 L511.574 293.938 L511.574 268.012 L515.857 268.012 L515.857 272.04 Q517.199 269.678 519.352 268.544 Q521.505 267.387 524.583 267.387 Q525.023 267.387 525.556 267.456 Q526.088 267.503 526.736 267.618 L526.759 271.993 Z\" fill=\"#000000\" fill-rule=\"evenodd\" fill-opacity=\"1\" /><path clip-path=\"url(#clip190)\" d=\"M 0 0 M535.44 260.651 L535.44 268.012 L544.213 268.012 L544.213 271.322 L535.44 271.322 L535.44 285.396 Q535.44 288.567 536.296 289.47 Q537.176 290.373 539.838 290.373 L544.213 290.373 L544.213 293.938 L539.838 293.938 Q534.907 293.938 533.032 292.109 Q531.157 290.257 531.157 285.396 L531.157 271.322 L528.032 271.322 L528.032 268.012 L531.157 268.012 L531.157 260.651 L535.44 260.651 Z\" fill=\"#000000\" fill-rule=\"evenodd\" fill-opacity=\"1\" /><path clip-path=\"url(#clip190)\" d=\"M 0 0 M548.68 268.012 L552.94 268.012 L552.94 293.938 L548.68 293.938 L548.68 268.012 M548.68 257.919 L552.94 257.919 L552.94 263.313 L548.68 263.313 L548.68 257.919 Z\" fill=\"#000000\" fill-rule=\"evenodd\" fill-opacity=\"1\" /><path clip-path=\"url(#clip190)\" d=\"M 0 0 M578.958 278.289 L578.958 293.938 L574.699 293.938 L574.699 278.428 Q574.699 274.748 573.264 272.919 Q571.828 271.09 568.958 271.09 Q565.509 271.09 563.518 273.29 Q561.528 275.489 561.528 279.285 L561.528 293.938 L557.245 293.938 L557.245 268.012 L561.528 268.012 L561.528 272.04 Q563.055 269.702 565.116 268.544 Q567.199 267.387 569.907 267.387 Q574.375 267.387 576.666 270.165 Q578.958 272.919 578.958 278.289 Z\" fill=\"#000000\" fill-rule=\"evenodd\" fill-opacity=\"1\" /><path clip-path=\"url(#clip190)\" d=\"M 0 0 M600.486 280.674 Q600.486 276.044 598.564 273.498 Q596.666 270.952 593.217 270.952 Q589.791 270.952 587.87 273.498 Q585.972 276.044 585.972 280.674 Q585.972 285.28 587.87 287.826 Q589.791 290.373 593.217 290.373 Q596.666 290.373 598.564 287.826 Q600.486 285.28 600.486 280.674 M604.745 290.72 Q604.745 297.34 601.805 300.558 Q598.865 303.799 592.801 303.799 Q590.555 303.799 588.564 303.451 Q586.574 303.127 584.699 302.433 L584.699 298.289 Q586.574 299.308 588.402 299.794 Q590.231 300.28 592.129 300.28 Q596.319 300.28 598.402 298.081 Q600.486 295.905 600.486 291.484 L600.486 289.377 Q599.166 291.669 597.106 292.803 Q595.046 293.938 592.176 293.938 Q587.407 293.938 584.49 290.303 Q581.574 286.669 581.574 280.674 Q581.574 274.655 584.49 271.021 Q587.407 267.387 592.176 267.387 Q595.046 267.387 597.106 268.521 Q599.166 269.655 600.486 271.947 L600.486 268.012 L604.745 268.012 L604.745 290.72 Z\" fill=\"#000000\" fill-rule=\"evenodd\" fill-opacity=\"1\" /><path clip-path=\"url(#clip190)\" d=\"M 0 0 M628.402 290.049 L628.402 303.799 L624.12 303.799 L624.12 268.012 L628.402 268.012 L628.402 271.947 Q629.745 269.632 631.782 268.521 Q633.842 267.387 636.689 267.387 Q641.411 267.387 644.351 271.137 Q647.314 274.887 647.314 280.998 Q647.314 287.109 644.351 290.859 Q641.411 294.609 636.689 294.609 Q633.842 294.609 631.782 293.498 Q629.745 292.363 628.402 290.049 M642.893 280.998 Q642.893 276.299 640.948 273.637 Q639.027 270.952 635.648 270.952 Q632.268 270.952 630.324 273.637 Q628.402 276.299 628.402 280.998 Q628.402 285.697 630.324 288.382 Q632.268 291.044 635.648 291.044 Q639.027 291.044 640.948 288.382 Q642.893 285.697 642.893 280.998 Z\" fill=\"#000000\" fill-rule=\"evenodd\" fill-opacity=\"1\" /><path clip-path=\"url(#clip190)\" d=\"M 0 0 M661.828 270.998 Q658.402 270.998 656.411 273.683 Q654.421 276.345 654.421 280.998 Q654.421 285.651 656.388 288.336 Q658.379 290.998 661.828 290.998 Q665.231 290.998 667.221 288.313 Q669.212 285.627 669.212 280.998 Q669.212 276.391 667.221 273.706 Q665.231 270.998 661.828 270.998 M661.828 267.387 Q667.383 267.387 670.555 270.998 Q673.726 274.609 673.726 280.998 Q673.726 287.364 670.555 290.998 Q667.383 294.609 661.828 294.609 Q656.249 294.609 653.078 290.998 Q649.93 287.364 649.93 280.998 Q649.93 274.609 653.078 270.998 Q656.249 267.387 661.828 267.387 Z\" fill=\"#000000\" fill-rule=\"evenodd\" fill-opacity=\"1\" /><path clip-path=\"url(#clip190)\" d=\"M 0 0 M678.194 268.012 L682.453 268.012 L682.453 293.938 L678.194 293.938 L678.194 268.012 M678.194 257.919 L682.453 257.919 L682.453 263.313 L678.194 263.313 L678.194 257.919 Z\" fill=\"#000000\" fill-rule=\"evenodd\" fill-opacity=\"1\" /><path clip-path=\"url(#clip190)\" d=\"M 0 0 M708.471 278.289 L708.471 293.938 L704.212 293.938 L704.212 278.428 Q704.212 274.748 702.777 272.919 Q701.342 271.09 698.471 271.09 Q695.022 271.09 693.032 273.29 Q691.041 275.489 691.041 279.285 L691.041 293.938 L686.758 293.938 L686.758 268.012 L691.041 268.012 L691.041 272.04 Q692.569 269.702 694.629 268.544 Q696.712 267.387 699.42 267.387 Q703.888 267.387 706.18 270.165 Q708.471 272.919 708.471 278.289 Z\" fill=\"#000000\" fill-rule=\"evenodd\" fill-opacity=\"1\" /><path clip-path=\"url(#clip190)\" d=\"M 0 0 M717.152 260.651 L717.152 268.012 L725.925 268.012 L725.925 271.322 L717.152 271.322 L717.152 285.396 Q717.152 288.567 718.008 289.47 Q718.888 290.373 721.55 290.373 L725.925 290.373 L725.925 293.938 L721.55 293.938 Q716.619 293.938 714.744 292.109 Q712.869 290.257 712.869 285.396 L712.869 271.322 L709.744 271.322 L709.744 268.012 L712.869 268.012 L712.869 260.651 L717.152 260.651 Z\" fill=\"#000000\" fill-rule=\"evenodd\" fill-opacity=\"1\" /></svg>\n"
      ]
     },
     "execution_count": 70,
     "metadata": {},
     "output_type": "execute_result"
    }
   ],
   "source": [
    "plot(f, (-1, 1)..., label=\"f(x) = x ^ 3 - 2 * x + 2\", legend=:topleft)\n",
    "scatter!([0], [0], label=\"root\")\n",
    "scatter!([0.01], [f(0.01)], label=\"starting point\")"
   ]
  }
 ],
 "metadata": {
  "kernelspec": {
   "display_name": "Julia 1.4.1",
   "language": "julia",
   "name": "julia-1.4"
  },
  "language_info": {
   "file_extension": ".jl",
   "mimetype": "application/julia",
   "name": "julia",
   "version": "1.4.1"
  }
 },
 "nbformat": 4,
 "nbformat_minor": 4
}
